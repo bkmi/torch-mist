{
 "cells": [
  {
   "cell_type": "code",
   "execution_count": 1,
   "metadata": {
    "collapsed": true
   },
   "outputs": [
    {
     "name": "stderr",
     "output_type": "stream",
     "text": [
      "/home/marco/anaconda3/envs/dl-kit/lib/python3.8/site-packages/torchvision/io/image.py:13: UserWarning: Failed to load image Python extension: libc10_cuda.so: cannot open shared object file: No such file or directory\n",
      "  warn(f\"Failed to load image Python extension: {e}\")\n"
     ]
    }
   ],
   "source": [
    "from torchvision.datasets import Omniglot\n",
    "import os\n",
    "\n",
    "os.chdir(\"..\")"
   ]
  },
  {
   "cell_type": "code",
   "execution_count": 17,
   "outputs": [],
   "source": [
    "from core.data.datasets.multiomniglot import MultiOmniglot\n",
    "import matplotlib.pyplot as plt"
   ],
   "metadata": {
    "collapsed": false
   }
  },
  {
   "cell_type": "code",
   "execution_count": 18,
   "outputs": [],
   "source": [
    "n_images = 2\n",
    "\n",
    "dataset = MultiOmniglot(\"/data/OMNIGLOT\", n_images=n_images, split=\"val\")"
   ],
   "metadata": {
    "collapsed": false
   }
  },
  {
   "cell_type": "code",
   "execution_count": 19,
   "outputs": [
    {
     "data": {
      "text/plain": "(['Tifinagh', 'Japanese_(hiragana)', 'Gujarati', 'Japanese_(katakana)'],\n 15.679925516431847)"
     },
     "execution_count": 19,
     "metadata": {},
     "output_type": "execute_result"
    }
   ],
   "source": [
    "dataset.used_alphabets, np.sum([np.log(dataset.n_characters[alphabet]) for alphabet in dataset.used_alphabets])"
   ],
   "metadata": {
    "collapsed": false
   }
  },
  {
   "cell_type": "code",
   "execution_count": 20,
   "outputs": [
    {
     "data": {
      "text/plain": "10.819778284410283"
     },
     "execution_count": 20,
     "metadata": {},
     "output_type": "execute_result"
    }
   ],
   "source": [
    "np.log(50000)"
   ],
   "metadata": {
    "collapsed": false
   }
  },
  {
   "cell_type": "code",
   "execution_count": 21,
   "outputs": [
    {
     "name": "stdout",
     "output_type": "stream",
     "text": [
      "[38, 24, 28, 45]\n"
     ]
    },
    {
     "data": {
      "text/plain": "<Figure size 432x288 with 2 Axes>",
      "image/png": "[encoded data removed]"
     },
     "metadata": {},
     "output_type": "display_data"
    }
   ],
   "source": [
    "example = dataset[0]\n",
    "\n",
    "f,ax = plt.subplots(1,2)\n",
    "ax[0].imshow(example['x'][0])\n",
    "ax[1].imshow(example['y'][0])\n",
    "print(example['t'])\n"
   ],
   "metadata": {
    "collapsed": false
   }
  },
  {
   "cell_type": "code",
   "execution_count": 38,
   "outputs": [
    {
     "data": {
      "text/plain": "<PIL.Image.Image image mode=L size=105x105>",
      "image/png": "[encoded data removed]"
     },
     "execution_count": 38,
     "metadata": {},
     "output_type": "execute_result"
    }
   ],
   "source": [
    "dataset.get_image(dataset.used_alphabets[0], 34, 0)\n"
   ],
   "metadata": {
    "collapsed": false
   }
  },
  {
   "cell_type": "code",
   "execution_count": 34,
   "outputs": [
    {
     "data": {
      "text/plain": "4.007333185232471"
     },
     "execution_count": 34,
     "metadata": {},
     "output_type": "execute_result"
    }
   ],
   "source": [
    "np.log(55)"
   ],
   "metadata": {
    "collapsed": false
   }
  },
  {
   "cell_type": "code",
   "execution_count": 252,
   "outputs": [],
   "source": [
    "from torchvision.models import ResNet\n",
    "from torchvision.models.resnet import BasicBlock\n",
    "from torch import nn\n",
    "from functools import partial\n",
    "\n",
    "in_channels = 1\n",
    "\n",
    "sizes = [\n",
    "    0,\n",
    "    [4, 2],\n",
    "    [9, 5],\n",
    "    [14, 7]\n",
    "]\n",
    "\n",
    "encoder = nn.Sequential(\n",
    "    nn.Conv2d(in_channels=in_channels, out_channels=32*n_images, kernel_size=5, stride=3),\n",
    "    BasicBlock(\n",
    "        32*n_images, 32*n_images, stride=2,\n",
    "        norm_layer=lambda x: nn.LayerNorm([x, sizes[n_images][0], sizes[n_images][0]], eps=1e-6),\n",
    "        downsample=nn.Sequential(\n",
    "            nn.Conv2d(in_channels=32*n_images, out_channels=32*n_images, kernel_size=1, stride=(2,2), bias=False),\n",
    "            nn.LayerNorm([32*n_images, sizes[n_images][0], sizes[n_images][0]], eps=1e-6),\n",
    "        )\n",
    "    ),\n",
    "    BasicBlock(\n",
    "        32*n_images, 32*n_images,\n",
    "        norm_layer=lambda x: nn.LayerNorm([x, sizes[n_images][0], sizes[n_images][0]], eps=1e-6),\n",
    "    ),\n",
    "    BasicBlock(\n",
    "        32*n_images, 64*n_images, stride=2,\n",
    "        norm_layer=lambda x: nn.LayerNorm([x, sizes[n_images][1], sizes[n_images][1]], eps=1e-6),\n",
    "        downsample=nn.Sequential(\n",
    "            nn.Conv2d(in_channels=32*n_images, out_channels=64*n_images, kernel_size=1, stride=2, bias=False),\n",
    "            nn.LayerNorm([64*n_images, sizes[n_images][1], sizes[n_images][1]], eps=1e-6),\n",
    "        )\n",
    "    ),\n",
    "    BasicBlock(\n",
    "        64*n_images, 64*n_images, norm_layer=lambda x: nn.LayerNorm([x, sizes[n_images][1], sizes[n_images][1]], eps=1e-6),\n",
    "    ),\n",
    ")"
   ],
   "metadata": {
    "collapsed": false
   }
  },
  {
   "cell_type": "code",
   "execution_count": 253,
   "outputs": [
    {
     "data": {
      "text/plain": "Sequential(\n  (0): Conv2d(1, 96, kernel_size=(5, 5), stride=(3, 3))\n  (1): BasicBlock(\n    (conv1): Conv2d(96, 96, kernel_size=(3, 3), stride=(2, 2), padding=(1, 1), bias=False)\n    (bn1): LayerNorm((96, 14, 14), eps=1e-06, elementwise_affine=True)\n    (relu): ReLU(inplace=True)\n    (conv2): Conv2d(96, 96, kernel_size=(3, 3), stride=(1, 1), padding=(1, 1), bias=False)\n    (bn2): LayerNorm((96, 14, 14), eps=1e-06, elementwise_affine=True)\n    (downsample): Sequential(\n      (0): Conv2d(96, 96, kernel_size=(1, 1), stride=(2, 2), bias=False)\n      (1): LayerNorm((96, 14, 14), eps=1e-06, elementwise_affine=True)\n    )\n  )\n  (2): BasicBlock(\n    (conv1): Conv2d(96, 96, kernel_size=(3, 3), stride=(1, 1), padding=(1, 1), bias=False)\n    (bn1): LayerNorm((96, 14, 14), eps=1e-06, elementwise_affine=True)\n    (relu): ReLU(inplace=True)\n    (conv2): Conv2d(96, 96, kernel_size=(3, 3), stride=(1, 1), padding=(1, 1), bias=False)\n    (bn2): LayerNorm((96, 14, 14), eps=1e-06, elementwise_affine=True)\n  )\n  (3): BasicBlock(\n    (conv1): Conv2d(96, 192, kernel_size=(3, 3), stride=(2, 2), padding=(1, 1), bias=False)\n    (bn1): LayerNorm((192, 7, 7), eps=1e-06, elementwise_affine=True)\n    (relu): ReLU(inplace=True)\n    (conv2): Conv2d(192, 192, kernel_size=(3, 3), stride=(1, 1), padding=(1, 1), bias=False)\n    (bn2): LayerNorm((192, 7, 7), eps=1e-06, elementwise_affine=True)\n    (downsample): Sequential(\n      (0): Conv2d(96, 192, kernel_size=(1, 1), stride=(2, 2), bias=False)\n      (1): LayerNorm((192, 7, 7), eps=1e-06, elementwise_affine=True)\n    )\n  )\n  (4): BasicBlock(\n    (conv1): Conv2d(192, 192, kernel_size=(3, 3), stride=(1, 1), padding=(1, 1), bias=False)\n    (bn1): LayerNorm((192, 7, 7), eps=1e-06, elementwise_affine=True)\n    (relu): ReLU(inplace=True)\n    (conv2): Conv2d(192, 192, kernel_size=(3, 3), stride=(1, 1), padding=(1, 1), bias=False)\n    (bn2): LayerNorm((192, 7, 7), eps=1e-06, elementwise_affine=True)\n  )\n)"
     },
     "execution_count": 253,
     "metadata": {},
     "output_type": "execute_result"
    }
   ],
   "source": [
    "python train.py fit -c config/experiments/omniglot/JS.yaml --data.data_dir=/data --trainer.accelerator=gpu --trainer.default_root_dir=~/results_omniglot --trainer.logger=pytorch_lightning.loggers.WandbLogger --trainer.logger.project=omniglot"
   ],
   "metadata": {
    "collapsed": false
   }
  },
  {
   "cell_type": "code",
   "execution_count": 254,
   "outputs": [
    {
     "data": {
      "text/plain": "torch.Size([10, 192, 7, 7])"
     },
     "execution_count": 254,
     "metadata": {},
     "output_type": "execute_result"
    }
   ],
   "source": [
    "x = dataset[0]['x'][0].unsqueeze(0).unsqueeze(1).repeat(10,1,1,1)\n",
    "z = encoder(x)\n",
    "z.shape"
   ],
   "metadata": {
    "collapsed": false
   }
  },
  {
   "cell_type": "code",
   "execution_count": 222,
   "outputs": [],
   "source": [],
   "metadata": {
    "collapsed": false
   }
  },
  {
   "cell_type": "code",
   "execution_count": 223,
   "outputs": [
    {
     "data": {
      "text/plain": "Sequential(\n  (0): Conv2d(64, 128, kernel_size=(1, 1), stride=(2, 2), bias=False)\n  (1): BatchNorm2d(128, eps=1e-05, momentum=0.1, affine=True, track_running_stats=True)\n)"
     },
     "execution_count": 223,
     "metadata": {},
     "output_type": "execute_result"
    }
   ],
   "source": [
    "ResNet(BasicBlock, [2,2,2,2]).layer2[0].downsample"
   ],
   "metadata": {
    "collapsed": false
   }
  },
  {
   "cell_type": "code",
   "execution_count": 224,
   "outputs": [
    {
     "data": {
      "text/plain": "BasicBlock(\n  (conv1): Conv2d(64, 128, kernel_size=(3, 3), stride=(2, 2), padding=(1, 1), bias=False)\n  (bn1): BatchNorm2d(128, eps=1e-05, momentum=0.1, affine=True, track_running_stats=True)\n  (relu): ReLU(inplace=True)\n  (conv2): Conv2d(128, 128, kernel_size=(3, 3), stride=(1, 1), padding=(1, 1), bias=False)\n  (bn2): BatchNorm2d(128, eps=1e-05, momentum=0.1, affine=True, track_running_stats=True)\n  (downsample): Sequential(\n    (0): Conv2d(64, 128, kernel_size=(1, 1), stride=(2, 2), bias=False)\n    (1): BatchNorm2d(128, eps=1e-05, momentum=0.1, affine=True, track_running_stats=True)\n  )\n)"
     },
     "execution_count": 224,
     "metadata": {},
     "output_type": "execute_result"
    }
   ],
   "source": [
    "downsample(z)\n",
    "ResNet(BasicBlock, [2, 2, 2, 2]).layer2[0]"
   ],
   "metadata": {
    "collapsed": false
   }
  },
  {
   "cell_type": "code",
   "execution_count": null,
   "outputs": [],
   "source": [],
   "metadata": {
    "collapsed": false
   }
  }
 ],
 "metadata": {
  "kernelspec": {
   "display_name": "Python 3",
   "language": "python",
   "name": "python3"
  },
  "language_info": {
   "codemirror_mode": {
    "name": "ipython",
    "version": 2
   },
   "file_extension": ".py",
   "mimetype": "text/x-python",
   "name": "python",
   "nbconvert_exporter": "python",
   "pygments_lexer": "ipython2",
   "version": "2.7.6"
  }
 },
 "nbformat": 4,
 "nbformat_minor": 0
}
