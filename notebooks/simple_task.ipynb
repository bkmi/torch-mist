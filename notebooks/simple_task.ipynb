{
 "cells": [
  {
   "cell_type": "code",
   "execution_count": 1,
   "metadata": {},
   "outputs": [],
   "source": [
    "import os\n",
    "\n",
    "import matplotlib.pyplot as plt\n",
    "import numpy as np\n",
    "\n",
    "os.chdir(\"..\")"
   ]
  },
  {
   "cell_type": "code",
   "execution_count": 1,
   "metadata": {},
   "outputs": [],
   "source": []
  },
  {
   "cell_type": "code",
   "execution_count": 2,
   "metadata": {},
   "outputs": [],
   "source": [
    "import torch\n",
    "from torch.distributions import Normal, Independent, Distribution, constraints, Transform, TransformedDistribution\n",
    "from pyro.distributions import ConditionalDistribution\n",
    "\n",
    "\n",
    "\n"
   ]
  },
  {
   "cell_type": "code",
   "execution_count": 2,
   "metadata": {},
   "outputs": [],
   "source": []
  },
  {
   "cell_type": "code",
   "execution_count": 3,
   "metadata": {},
   "outputs": [],
   "source": [
    "from core.distributions.test import MultivariateCorrelatedNormalMixture"
   ]
  },
  {
   "cell_type": "code",
   "execution_count": 3,
   "metadata": {},
   "outputs": [],
   "source": []
  },
  {
   "cell_type": "code",
   "execution_count": 4,
   "metadata": {},
   "outputs": [],
   "source": [
    "from typing import Callable\n",
    "\n",
    "import torch\n",
    "from pyro.distributions import ConditionalDistribution\n",
    "from torch.distributions import MultivariateNormal, MixtureSameFamily, Categorical, Normal, Distribution\n",
    "\n",
    "class MultivariateCorrelatedNormalMixture(MixtureSameFamily):\n",
    "    def __init__(self, rho: float = 0.95, sigma:float = 1.0, epsilon: float = 0.3,  delta: float = 1.2, n_dim: int = 5, device: str = \"cpu\"):\n",
    "        covariance = torch.FloatTensor([\n",
    "            [1, rho],\n",
    "            [rho, 1]\n",
    "        ])*sigma\n",
    "\n",
    "        mu_1 = torch.zeros(n_dim, 1, 2)\n",
    "        # offset1 = torch.Tensor([-epsilon, epsilon])\n",
    "        # offset2 = torch.Tensor([-delta, delta])\n",
    "\n",
    "        mu_1[:, :, 0] = epsilon + delta\n",
    "        mu_1[:, :, 1] = -epsilon + delta\n",
    "\n",
    "        mu_2 = torch.zeros(n_dim, 1, 2)\n",
    "        mu_2[:, :, 0] = -epsilon - delta\n",
    "        mu_2[:, :, 1] = epsilon - delta\n",
    "\n",
    "        mu_3 = torch.zeros(n_dim, 1, 2)\n",
    "        mu_3[:, :, 0] = epsilon - delta\n",
    "        mu_3[:, :, 1] = -epsilon - delta\n",
    "\n",
    "        mu_4 = torch.zeros(n_dim, 1, 2)\n",
    "        mu_4[:, :, 0] = -epsilon + delta\n",
    "        mu_4[:, :, 1] = epsilon + delta\n",
    "\n",
    "        loc = torch.cat([mu_1, mu_2, mu_3, mu_4], -2)\n",
    "\n",
    "\n",
    "        self.x_component_dist = Normal(\n",
    "            loc[:, :, 0],\n",
    "            covariance[0,0]**0.5\n",
    "        )\n",
    "\n",
    "        # Store the marginal distribution for one dimension\n",
    "        self.p_x = MixtureSameFamily(\n",
    "            Categorical(probs=torch.zeros(n_dim, 4) + 0.25),\n",
    "            self.x_component_dist\n",
    "        )\n",
    "        self.component_dist = MultivariateNormal(\n",
    "            loc.to(device),\n",
    "            covariance.unsqueeze(0).unsqueeze(1).to(device)\n",
    "        )\n",
    "\n",
    "        super().__init__(\n",
    "            Categorical(probs=torch.zeros(n_dim, 4).to(device) + 0.25), self.component_dist\n",
    "        )\n",
    "\n",
    "    def sample(self, sample_shape=torch.Size()):\n",
    "        xy = super().sample(sample_shape)\n",
    "        x, y = torch.chunk(xy, 2, -1)\n",
    "        x = x.squeeze(-1)\n",
    "        y = y.squeeze(-1)\n",
    "\n",
    "        return x, y"
   ]
  },
  {
   "cell_type": "code",
   "execution_count": 5,
   "metadata": {},
   "outputs": [],
   "source": [
    "device = \"cpu\"\n",
    "n_dim = 5\n",
    "rho = 0.95\n",
    "epsilon = 0.15\n",
    "delta = 1.5\n",
    "\n",
    "\n",
    "p_xy = MultivariateCorrelatedNormalMixture(rho=rho, sigma=0.1, epsilon=epsilon, delta=delta, n_dim=n_dim, device=device)"
   ]
  },
  {
   "cell_type": "code",
   "execution_count": 6,
   "metadata": {},
   "outputs": [
    {
     "data": {
      "text/plain": "[<matplotlib.lines.Line2D at 0x7f39b3191100>]"
     },
     "execution_count": 6,
     "metadata": {},
     "output_type": "execute_result"
    },
    {
     "data": {
      "text/plain": "<Figure size 360x360 with 1 Axes>",
      "image/png": "[encoded data removed]"
     },
     "metadata": {},
     "output_type": "display_data"
    }
   ],
   "source": [
    "n_samples = 10000\n",
    "res = 1000\n",
    "M=6\n",
    "x,y = p_xy.sample([n_samples])\n",
    "\n",
    "f, ax =plt.subplots(1,1, figsize=(5,5))\n",
    "\n",
    "ax.plot(x.view(-1).cpu(), y.view(-1).cpu(), '.', alpha=0.01)\n",
    "\n",
    "# f, ax =plt.subplots(1,1, figsize=(5,5))\n",
    "# P = base_dist.log_prob(torch.cat([\n",
    "#     torch.linspace(-4,4,res).unsqueeze(1).unsqueeze(-1).repeat(1,res,1),\n",
    "#     torch.linspace(-4,4,res).unsqueeze(0).unsqueeze(-1).repeat(res,1,1)\n",
    "# ], -1).unsqueeze(-2)).data.numpy()\n",
    "#\n",
    "# X, Y = np.meshgrid(np.linspace(-4,4,res),np.linspace(-4,4,res))\n",
    "#\n",
    "# P[Y<X]= -100000\n",
    "#\n",
    "# plt.contourf(X,Y,P/10, levels=np.linspace(-6,1,6))\n",
    "# plt.plot([-4,4],[-4,4],'-')"
   ]
  },
  {
   "cell_type": "code",
   "execution_count": 6,
   "metadata": {},
   "outputs": [],
   "source": []
  },
  {
   "cell_type": "code",
   "execution_count": 7,
   "metadata": {},
   "outputs": [
    {
     "data": {
      "text/plain": "[<matplotlib.lines.Line2D at 0x7f3953539a90>]"
     },
     "execution_count": 7,
     "metadata": {},
     "output_type": "execute_result"
    },
    {
     "data": {
      "text/plain": "<Figure size 432x288 with 1 Axes>",
      "image/png": "[encoded data removed]"
     },
     "metadata": {},
     "output_type": "display_data"
    }
   ],
   "source": [
    "bins = 64\n",
    "res = 1024\n",
    "\n",
    "p_x_ = plt.hist(x.view(-1).cpu(), bins=bins, range=[-4,4], density=True)\n",
    "plt.hist(y.view(-1).cpu(), alpha=0.5, bins=bins, range=[-4,4], density=True)\n",
    "x = torch.linspace(-4,4, res)\n",
    "plt.plot(x, p_xy.p_x.log_prob(x.unsqueeze(1))[:,0].exp())"
   ]
  },
  {
   "cell_type": "code",
   "execution_count": 8,
   "metadata": {},
   "outputs": [
    {
     "data": {
      "text/plain": "tensor(6.8168)"
     },
     "execution_count": 8,
     "metadata": {},
     "output_type": "execute_result"
    }
   ],
   "source": [
    "x, y = p_xy.sample([10000])\n",
    "samples = torch.cat([x.unsqueeze(-1), y.unsqueeze(-1)],-1)\n",
    "\n",
    "n_components=4\n",
    "h_xy = (-torch.logsumexp(p_xy.component_dist.log_prob(samples.unsqueeze(-2)), -1).mean()+np.log(n_components))*n_dim\n",
    "h_x = h_y = (-torch.logsumexp(p_xy.x_component_dist.log_prob(samples[:,:,0].unsqueeze(-1)), -1).mean()+np.log(n_components))*n_dim\n",
    "mi = h_x + h_y - h_xy\n",
    "mi"
   ]
  },
  {
   "cell_type": "code",
   "execution_count": 9,
   "metadata": {},
   "outputs": [],
   "source": [
    "titlesize=15\n"
   ]
  },
  {
   "cell_type": "code",
   "execution_count": 10,
   "metadata": {},
   "outputs": [],
   "source": [
    "# Why So Negative!? Better proposals for Mutual Information Estimation and Maximization"
   ]
  },
  {
   "cell_type": "code",
   "execution_count": 11,
   "metadata": {},
   "outputs": [],
   "source": [
    "n_samples = 100000\n",
    "x, y = p_xy.sample([n_samples])\n",
    "\n",
    "n_intervals = 2\n",
    "probs = np.arange(1,n_intervals)*1.0/n_intervals\n",
    "boundaries = torch.FloatTensor([np.quantile(x.view(-1), p) for p in probs])"
   ]
  },
  {
   "cell_type": "code",
   "execution_count": 12,
   "metadata": {},
   "outputs": [],
   "source": [
    "from core.distributions.test import AttributeResampledDistribution, SignResampledDistribution\n",
    "import torch\n",
    "from torch.distributions import Bernoulli\n",
    "\n",
    "class ConditionalBernoulli(ConditionalDistribution):\n",
    "    def __init__(self, t=1e-6, hard=False):\n",
    "        self.t = t\n",
    "        self.hard = hard\n",
    "\n",
    "    def condition(self, x: torch.Tensor):\n",
    "        if not self.hard:\n",
    "            logits = x/self.t\n",
    "            return Bernoulli(logits = logits)\n",
    "        else:\n",
    "            return Bernoulli(probs=(x>0).float())\n",
    "\n",
    "\n",
    "p_a_x = ConditionalBernoulli(hard=True)\n",
    "# p_xya = AttributeResampledDistribution(p_xy, p_a_x)\n",
    "p_xya = SignResampledDistribution(p_xy)\n",
    "n_samples = 10000\n",
    "x, y, y_, a = p_xya.sample([n_samples])\n",
    "_, y0 = p_xy.sample([n_samples])"
   ]
  },
  {
   "cell_type": "code",
   "execution_count": 13,
   "metadata": {},
   "outputs": [
    {
     "data": {
      "text/plain": "<Figure size 1152x360 with 3 Axes>",
      "image/png": "[encoded data removed]"
     },
     "metadata": {},
     "output_type": "display_data"
    }
   ],
   "source": [
    "f, ax = plt.subplots(1,3, figsize=(16,5), sharex=True, sharey=True)\n",
    "linewidth = 4\n",
    "\n",
    "ax[0].set_title(\"$p(x)p(a|x)p(y)$\", fontsize=titlesize)\n",
    "ax[1].set_title(\"$p(x)p(a|x)p(y|a)$\", fontsize=titlesize)\n",
    "ax[2].set_title(\"$p(x)p(a|x)p(y|x)$\", fontsize=titlesize)\n",
    "\n",
    "for i in range(2):\n",
    "    ax[0].plot(x.view(-1)[a.view(-1)==i], y0.view(-1)[a.view(-1)==i], '.', alpha=0.1, label=f\"$a={i}$\")\n",
    "    ax[1].plot(x.view(-1)[a.view(-1)==i], y_.view(-1)[a.view(-1)==i], '.', alpha=0.1, label=f\"$a={i}$\")\n",
    "    ax[2].plot(x.view(-1)[a.view(-1)==i], y.view(-1)[a.view(-1)==i], '.', alpha=0.1, label=f\"$a={i}$\")\n",
    "\n",
    "\n",
    "for i in range(3):\n",
    "    ax[i].set_xlim(-3.5,3.5)\n",
    "    ax[i].set_ylim(-3.5,3.5)\n",
    "    ax[i].axvline(x=0, ls='--', linewidth=linewidth, color=\"k\")\n",
    "\n",
    "leg = ax[-1].legend()\n",
    "\n",
    "for l in leg.legendHandles:\n",
    "    l.set_alpha(1)\n"
   ]
  },
  {
   "cell_type": "code",
   "execution_count": 14,
   "metadata": {},
   "outputs": [
    {
     "data": {
      "text/plain": "tensor(3.4657, dtype=torch.float64)"
     },
     "execution_count": 14,
     "metadata": {},
     "output_type": "execute_result"
    }
   ],
   "source": [
    "h_a = np.log(a.max()+1) * n_dim\n",
    "h_a"
   ]
  },
  {
   "cell_type": "code",
   "execution_count": 14,
   "metadata": {},
   "outputs": [],
   "source": []
  },
  {
   "cell_type": "code",
   "execution_count": 15,
   "metadata": {},
   "outputs": [],
   "source": [
    "from core.models.mi_estimators import NWJ, JS, MINE, SMILE, InfoNCE, MutualInformationEstimator, FLO\n",
    "from core.models.ratio import JointRatioEstimator, SeparableRatioEstimator\n",
    "from pyro.nn import DenseNN\n",
    "from core.distributions import conditional_transformed_normal, conditional_mutivariate_categorical"
   ]
  },
  {
   "cell_type": "code",
   "execution_count": 16,
   "metadata": {},
   "outputs": [],
   "source": [
    "hidden_dims = [512, 512]\n",
    "mi_estimators = {\n",
    "    # 'cpc': InfoNCE(\n",
    "    #     ratio_estimator=SeparableRatioEstimator(\n",
    "    #         f_x=DenseNN(\n",
    "    #             input_dim=n_dim,\n",
    "    #             hidden_dims=hidden_dims,\n",
    "    #             param_dims=[n_dim]\n",
    "    #         )\n",
    "    #     )\n",
    "    # ),\n",
    "    # 'pcpc': InfoNCE(\n",
    "    #     ratio_estimator=SeparableRatioEstimator(\n",
    "    #         f_x=DenseNN(\n",
    "    #             input_dim=n_dim,\n",
    "    #             hidden_dims=hidden_dims,\n",
    "    #             param_dims=[n_dim]\n",
    "    #         )\n",
    "    #     ),\n",
    "    #     proposal=conditional_transformed_normal(\n",
    "    #         input_dim=n_dim,\n",
    "    #         context_dim=n_dim,\n",
    "    #         hidden_dims=hidden_dims,\n",
    "    #     ),\n",
    "    #     h_y=h_y\n",
    "    # ),\n",
    "    'pnwj': NWJ(\n",
    "        # n_samples=2,\n",
    "        proposal=conditional_transformed_normal(\n",
    "            input_dim=n_dim,\n",
    "            context_dim=n_dim,\n",
    "            hidden_dims=hidden_dims,\n",
    "        ),\n",
    "        ratio_estimator=JointRatioEstimator(\n",
    "            joint_net=DenseNN(\n",
    "                input_dim=n_dim*2,\n",
    "                hidden_dims=hidden_dims,\n",
    "                param_dims=[1]\n",
    "            ),\n",
    "        ),\n",
    "        h_y=h_y\n",
    "    ),\n",
    "    # 'psmile': SMILE(\n",
    "    #     tau=1.0,\n",
    "    #     proposal=conditional_transformed_normal(\n",
    "    #         input_dim=n_dim,\n",
    "    #         context_dim=n_dim,\n",
    "    #         hidden_dims=hidden_dims,\n",
    "    #     ),\n",
    "    #     ratio_estimator=JointRatioEstimator(\n",
    "    #         joint_net=DenseNN(\n",
    "    #             input_dim=n_dim*2,\n",
    "    #             hidden_dims=hidden_dims,\n",
    "    #             param_dims=[1]\n",
    "    #         )\n",
    "    #     ),\n",
    "    #     h_y=h_y\n",
    "    # ),\n",
    "    # 'pmine': MINE(\n",
    "    #     proposal=conditional_transformed_normal(\n",
    "    #         input_dim=n_dim,\n",
    "    #         context_dim=n_dim,\n",
    "    #         hidden_dims=hidden_dims,\n",
    "    #     ),\n",
    "    #     ratio_estimator=JointRatioEstimator(\n",
    "    #         joint_net=DenseNN(\n",
    "    #             input_dim=n_dim*2,\n",
    "    #             hidden_dims=hidden_dims,\n",
    "    #             param_dims=[1]\n",
    "    #         )\n",
    "    #     ),\n",
    "    #     h_y=h_y\n",
    "    # ),\n",
    "    # 'pjs': JS(\n",
    "    #     proposal=conditional_transformed_normal(\n",
    "    #         input_dim=n_dim,\n",
    "    #         context_dim=n_dim,\n",
    "    #         hidden_dims=hidden_dims,\n",
    "    #     ),\n",
    "    #     ratio_estimator=JointRatioEstimator(\n",
    "    #         joint_net=DenseNN(\n",
    "    #             input_dim=n_dim*2,\n",
    "    #             hidden_dims=hidden_dims,\n",
    "    #             param_dims=[1]\n",
    "    #         )\n",
    "    #     ),\n",
    "    #     h_y=h_y\n",
    "    # ),\n",
    "\n",
    "    'ba': MutualInformationEstimator(\n",
    "        proposal=conditional_transformed_normal(\n",
    "            input_dim=n_dim,\n",
    "            context_dim=n_dim,\n",
    "            hidden_dims=hidden_dims,\n",
    "        ),\n",
    "        h_y=h_y\n",
    "    ),\n",
    "    'anwj': NWJ(\n",
    "        ratio_estimator=JointRatioEstimator(\n",
    "            joint_net=DenseNN(\n",
    "                input_dim=n_dim*2,\n",
    "                hidden_dims=hidden_dims,\n",
    "                param_dims=[1]\n",
    "            ),\n",
    "        ),\n",
    "        predictive=conditional_mutivariate_categorical(\n",
    "            n_classes=n_intervals,\n",
    "            context_dim=n_dim,\n",
    "            output_dim=n_dim,\n",
    "            hidden_dims=hidden_dims\n",
    "        ),\n",
    "        h_a=h_a\n",
    "    ),\n",
    "    'nwj': NWJ(\n",
    "        ratio_estimator=JointRatioEstimator(\n",
    "            joint_net=DenseNN(\n",
    "                input_dim=n_dim*2,\n",
    "                hidden_dims=hidden_dims,\n",
    "                param_dims=[1]\n",
    "            ),\n",
    "        ),\n",
    "    ),\n",
    "    # 'flo': FLO(\n",
    "    #     n_samples=1,\n",
    "    #     ratio_estimator=JointRatioEstimator(\n",
    "    #         joint_net=DenseNN(\n",
    "    #             input_dim=n_dim*2,\n",
    "    #             hidden_dims=hidden_dims,\n",
    "    #             param_dims=[1]\n",
    "    #         ),\n",
    "    #     ),\n",
    "    #     joint_baseline=DenseNN(\n",
    "    #         input_dim=n_dim*2,\n",
    "    #         hidden_dims=hidden_dims,\n",
    "    #         param_dims=[1]\n",
    "    #     )\n",
    "    # ),\n",
    "    # #\n",
    "    # 'mine': MINE(\n",
    "    #     ratio_estimator=JointRatioEstimator(\n",
    "    #         joint_net=DenseNN(\n",
    "    #             input_dim=n_dim*2,\n",
    "    #             hidden_dims=hidden_dims,\n",
    "    #             param_dims=[1]\n",
    "    #         )\n",
    "    #     )\n",
    "    # ),\n",
    "    # 'smile': SMILE(\n",
    "    #     tau=1.0,\n",
    "    #     ratio_estimator=JointRatioEstimator(\n",
    "    #         joint_net=DenseNN(\n",
    "    #             input_dim=n_dim*2,\n",
    "    #             hidden_dims=hidden_dims,\n",
    "    #             param_dims=[1]\n",
    "    #         )\n",
    "    #     )\n",
    "    # ),\n",
    "    # 'js': JS(\n",
    "    #     ratio_estimator=JointRatioEstimator(\n",
    "    #         joint_net=DenseNN(\n",
    "    #             input_dim=n_dim*2,\n",
    "    #             hidden_dims=hidden_dims,\n",
    "    #             param_dims=[1]\n",
    "    #         )\n",
    "    #     )\n",
    "    # ),\n",
    "\n",
    "\n",
    "\n",
    "}\n",
    "mi_estimators\n",
    "\n",
    "results = []\n"
   ]
  },
  {
   "cell_type": "code",
   "execution_count": 17,
   "metadata": {},
   "outputs": [
    {
     "name": "stdout",
     "output_type": "stream",
     "text": [
      "pnwj\n"
     ]
    },
    {
     "data": {
      "text/plain": "HBox(children=(FloatProgress(value=0.0, max=50000.0), HTML(value='')))",
      "application/vnd.jupyter.widget-view+json": {
       "version_major": 2,
       "version_minor": 0,
       "model_id": "6f0443fcc5844aac8c66c3cf60884ac6"
      }
     },
     "metadata": {},
     "output_type": "display_data"
    },
    {
     "name": "stdout",
     "output_type": "stream",
     "text": [
      "\n",
      "ba\n"
     ]
    },
    {
     "data": {
      "text/plain": "HBox(children=(FloatProgress(value=0.0, max=50000.0), HTML(value='')))",
      "application/vnd.jupyter.widget-view+json": {
       "version_major": 2,
       "version_minor": 0,
       "model_id": "7f4525bc71ea44d4b55118190fbaabda"
      }
     },
     "metadata": {},
     "output_type": "display_data"
    },
    {
     "name": "stdout",
     "output_type": "stream",
     "text": [
      "\n",
      "anwj\n"
     ]
    },
    {
     "data": {
      "text/plain": "HBox(children=(FloatProgress(value=0.0, max=50000.0), HTML(value='')))",
      "application/vnd.jupyter.widget-view+json": {
       "version_major": 2,
       "version_minor": 0,
       "model_id": "5d6a87a0a6af4d2da90a2ac4e968cc4c"
      }
     },
     "metadata": {},
     "output_type": "display_data"
    },
    {
     "name": "stdout",
     "output_type": "stream",
     "text": [
      "\n",
      "nwj\n"
     ]
    },
    {
     "data": {
      "text/plain": "HBox(children=(FloatProgress(value=0.0, max=50000.0), HTML(value='')))",
      "application/vnd.jupyter.widget-view+json": {
       "version_major": 2,
       "version_minor": 0,
       "model_id": "1c2897de2a3341d38c54c0da619b960d"
      }
     },
     "metadata": {},
     "output_type": "display_data"
    },
    {
     "name": "stdout",
     "output_type": "stream",
     "text": [
      "\n"
     ]
    }
   ],
   "source": [
    "from tqdm.auto import tqdm\n",
    "from torch.optim import Adam\n",
    "import pandas as pd\n",
    "\n",
    "iterations = 50000\n",
    "\n",
    "for name, mi_estimator in mi_estimators.items():\n",
    "    print(name)\n",
    "    opt = Adam(mi_estimator.parameters(), lr=5e-4)\n",
    "\n",
    "    for iteration in tqdm(range(iterations)):\n",
    "        batch_size = 128\n",
    "        x, y, y_, a = p_xya.sample([batch_size])\n",
    "\n",
    "        mi_value, mi_grad = mi_estimator(x, y, y_, a)\n",
    "        loss = -mi_grad\n",
    "\n",
    "        opt.zero_grad()\n",
    "        loss.backward()\n",
    "        opt.step()\n",
    "        results.append({\n",
    "            \"estimator\": name,\n",
    "            \"iteration\": iteration,\n",
    "            \"value\": mi_value.item()\n",
    "        })\n"
   ]
  },
  {
   "cell_type": "code",
   "execution_count": 18,
   "metadata": {},
   "outputs": [
    {
     "name": "stdout",
     "output_type": "stream",
     "text": [
      "torch.Size([128, 5]) torch.Size([128, 5]) torch.Size([128, 5]) torch.Size([128, 5])\n"
     ]
    }
   ],
   "source": [
    "print(x.shape, y.shape, y_.shape, a.shape)\n",
    "df_results = pd.DataFrame(results)"
   ]
  },
  {
   "cell_type": "code",
   "execution_count": 21,
   "outputs": [],
   "source": [
    "# for name, estimator in mi_estimators.items():\n",
    "#     torch.save(estimator, f\"models/{name}.ckpt\")\n",
    "\n",
    "for name, estimator in mi_estimators.items():\n",
    "    with open(f\"models/{name}.ckpt\", 'rb') as checkpoint:\n",
    "        mi_estimators[name] = torch.load(checkpoint)\n"
   ],
   "metadata": {
    "collapsed": false
   }
  },
  {
   "cell_type": "code",
   "execution_count": 21,
   "outputs": [],
   "source": [],
   "metadata": {
    "collapsed": false
   }
  },
  {
   "cell_type": "code",
   "execution_count": 22,
   "metadata": {},
   "outputs": [
    {
     "ename": "NameError",
     "evalue": "name 'df_results' is not defined",
     "output_type": "error",
     "traceback": [
      "\u001B[0;31m---------------------------------------------------------------------------\u001B[0m",
      "\u001B[0;31mNameError\u001B[0m                                 Traceback (most recent call last)",
      "\u001B[0;32m<ipython-input-22-689cdb0f8b9b>\u001B[0m in \u001B[0;36m<module>\u001B[0;34m\u001B[0m\n\u001B[1;32m     23\u001B[0m }\n\u001B[1;32m     24\u001B[0m \u001B[0;34m\u001B[0m\u001B[0m\n\u001B[0;32m---> 25\u001B[0;31m \u001B[0;32mfor\u001B[0m \u001B[0mname\u001B[0m \u001B[0;32min\u001B[0m \u001B[0mdf_results\u001B[0m\u001B[0;34m.\u001B[0m\u001B[0mestimator\u001B[0m\u001B[0;34m.\u001B[0m\u001B[0munique\u001B[0m\u001B[0;34m(\u001B[0m\u001B[0;34m)\u001B[0m\u001B[0;34m:\u001B[0m\u001B[0;34m\u001B[0m\u001B[0;34m\u001B[0m\u001B[0m\n\u001B[0m\u001B[1;32m     26\u001B[0m     \u001B[0mprint\u001B[0m\u001B[0;34m(\u001B[0m\u001B[0mname\u001B[0m\u001B[0;34m)\u001B[0m\u001B[0;34m\u001B[0m\u001B[0;34m\u001B[0m\u001B[0m\n\u001B[1;32m     27\u001B[0m     \u001B[0mmodel_results\u001B[0m \u001B[0;34m=\u001B[0m \u001B[0mdf_results\u001B[0m\u001B[0;34m[\u001B[0m\u001B[0mdf_results\u001B[0m\u001B[0;34m[\u001B[0m\u001B[0;34m\"estimator\"\u001B[0m\u001B[0;34m]\u001B[0m\u001B[0;34m==\u001B[0m\u001B[0mname\u001B[0m\u001B[0;34m]\u001B[0m\u001B[0;34m\u001B[0m\u001B[0;34m\u001B[0m\u001B[0m\n",
      "\u001B[0;31mNameError\u001B[0m: name 'df_results' is not defined"
     ]
    },
    {
     "data": {
      "text/plain": "<Figure size 1080x360 with 1 Axes>",
      "image/png": "[encoded data removed]"
     },
     "metadata": {},
     "output_type": "display_data"
    }
   ],
   "source": [
    "import seaborn as sns\n",
    "sns.set_style(\"whitegrid\")\n",
    "\n",
    "f, ax = plt.subplots(1,1, figsize=(15,5))\n",
    "n_average = 100\n",
    "\n",
    "EMA_SPAN = 200\n",
    "\n",
    "name_lookup={\n",
    "    'ba': 'BA',\n",
    "    'nwj': 'NWJ',\n",
    "    'anwj': 'Attribute+NWJ',\n",
    "    'mine': 'MINE',\n",
    "    'smile': 'SMILE',\n",
    "    'flo': 'FLO',\n",
    "    'psmile': 'Primal+SMILE',\n",
    "    'js': 'DeepInfoMax',\n",
    "    'pjs': 'Variational+DeepInfoMax',\n",
    "    'pnwj': 'Variational+NWJ',\n",
    "    'pmine': 'Variational+MINE',\n",
    "    'pcpc': 'Variational+CPC',\n",
    "    'cpc': 'CPC',\n",
    "}\n",
    "\n",
    "for name in df_results.estimator.unique():\n",
    "    print(name)\n",
    "    model_results = df_results[df_results[\"estimator\"]==name]\n",
    "    iterations = model_results[\"iteration\"]\n",
    "    values = model_results[\"value\"].ewm(EMA_SPAN)\n",
    "\n",
    "    mi_mean = values.mean()\n",
    "    mi_std = values.std()\n",
    "    #mi_std = ((values-mi_mean)**2)[:-n_average//2]**0.5\n",
    "    # mi_mean = mi_mean[:-n_average//2]\n",
    "\n",
    "    plt.plot(iterations, mi_mean, '-', alpha=0.6, label=name_lookup[name])\n",
    "    plt.fill_between(iterations, mi_mean-mi_std, mi_mean+mi_std, alpha=0.2, zorder=-1)\n",
    "\n",
    "plt.axhline(y=mi, color=\"k\", linewidth=3, label='True Value', ls=':')\n",
    "# plt.axhline(y=np.log(batch_size), color=\"k\", ls='--', linewidth=1, label='$\\\\log\\\\ B$')\n",
    "leg = plt.legend(fontsize=15)\n",
    "for lh in leg.legendHandles:\n",
    "    lh._legmarker.set_alpha(1)\n",
    "plt.ylim(0, 8)\n",
    "# plt.xlim(0, iterations)\n",
    "plt.xlabel(\"Iterations\", fontsize=15)\n",
    "plt.ylabel(\"Mutual Information [nats]\", fontsize=15)\n",
    "# sns.despine()"
   ]
  },
  {
   "cell_type": "code",
   "execution_count": 22,
   "metadata": {},
   "outputs": [],
   "source": [
    "\n"
   ]
  },
  {
   "cell_type": "code",
   "execution_count": 23,
   "metadata": {},
   "outputs": [],
   "source": [
    "# PrimalMutualInformationEstimator.compute_ratio(mi_estimators[\"ba\"], x,y.unsqueeze(1)), PrimalMutualInformationEstimator.compute_ratio(mi_estimators[\"pnwj\"], x,y.unsqueeze(1)), NWJ.compute_ratio(mi_estimators[\"pnwj\"], x,y.unsqueeze(1)), NWJ.compute_ratio(mi_estimators[\"nwj\"], x,y.unsqueeze(1))"
   ]
  },
  {
   "cell_type": "code",
   "execution_count": 24,
   "metadata": {},
   "outputs": [
    {
     "ename": "NameError",
     "evalue": "name 'df_results' is not defined",
     "output_type": "error",
     "traceback": [
      "\u001B[0;31m---------------------------------------------------------------------------\u001B[0m",
      "\u001B[0;31mNameError\u001B[0m                                 Traceback (most recent call last)",
      "\u001B[0;32m<ipython-input-24-da1a08d50248>\u001B[0m in \u001B[0;36m<module>\u001B[0;34m\u001B[0m\n\u001B[1;32m      4\u001B[0m \u001B[0;34m\u001B[0m\u001B[0m\n\u001B[1;32m      5\u001B[0m \u001B[0moffset\u001B[0m \u001B[0;34m=\u001B[0m \u001B[0;36m0.0001\u001B[0m\u001B[0;34m\u001B[0m\u001B[0;34m\u001B[0m\u001B[0m\n\u001B[0;32m----> 6\u001B[0;31m \u001B[0;32mfor\u001B[0m \u001B[0mname\u001B[0m \u001B[0;32min\u001B[0m \u001B[0mdf_results\u001B[0m\u001B[0;34m.\u001B[0m\u001B[0mestimator\u001B[0m\u001B[0;34m.\u001B[0m\u001B[0munique\u001B[0m\u001B[0;34m(\u001B[0m\u001B[0;34m)\u001B[0m\u001B[0;34m:\u001B[0m\u001B[0;34m\u001B[0m\u001B[0;34m\u001B[0m\u001B[0m\n\u001B[0m\u001B[1;32m      7\u001B[0m     \u001B[0mmi_values\u001B[0m \u001B[0;34m=\u001B[0m \u001B[0;34m[\u001B[0m\u001B[0;34m]\u001B[0m\u001B[0;34m\u001B[0m\u001B[0;34m\u001B[0m\u001B[0m\n\u001B[1;32m      8\u001B[0m     \u001B[0mmi_estimator\u001B[0m \u001B[0;34m=\u001B[0m \u001B[0mmi_estimators\u001B[0m\u001B[0;34m[\u001B[0m\u001B[0mname\u001B[0m\u001B[0;34m]\u001B[0m\u001B[0;34m\u001B[0m\u001B[0;34m\u001B[0m\u001B[0m\n",
      "\u001B[0;31mNameError\u001B[0m: name 'df_results' is not defined"
     ]
    },
    {
     "data": {
      "text/plain": "<Figure size 504x504 with 1 Axes>",
      "image/png": "[encoded data removed]"
     },
     "metadata": {},
     "output_type": "display_data"
    }
   ],
   "source": [
    "\n",
    "n_batches = 2000\n",
    "\n",
    "f, ax = plt.subplots(1,1, figsize=(7,7))\n",
    "\n",
    "offset = 0.0001\n",
    "for name in df_results.estimator.unique():\n",
    "    mi_values = []\n",
    "    mi_estimator = mi_estimators[name]\n",
    "    mi_estimator.eval()\n",
    "\n",
    "    for _ in tqdm(range(n_batches)):\n",
    "        batch_size = 128\n",
    "        x, y, y_, a = p_xya.sample([batch_size])\n",
    "\n",
    "        mi_value, mi_grad = mi_estimator(x, y, y_, a)\n",
    "        mi_values.append(mi_value.item())\n",
    "    estimated_mi = np.mean(mi_values)\n",
    "    bias = np.abs(estimated_mi-mi)\n",
    "    std = np.std(mi_values)\n",
    "\n",
    "    plt.plot(bias, std, 'o')\n",
    "    plt.text(bias+offset, std+offset, name_lookup[name], fontsize=15)\n",
    "\n",
    "# plt.xlim(0)\n",
    "plt.yscale(\"log\")\n",
    "# plt.xscale(\"log\")\n",
    "plt.xlabel(\"Bias [nats]\", fontsize=15)\n",
    "plt.ylabel(\"Standard Deviation [nats]\", fontsize=15)\n",
    "sns.despine()"
   ]
  },
  {
   "cell_type": "code",
   "execution_count": 29,
   "metadata": {},
   "outputs": [],
   "source": [
    "res = 512\n",
    "m, M = -3.5, 3.5\n",
    "\n",
    "l = np.linspace(m, M, res)\n",
    "X, Y = np.meshgrid(l,l)\n",
    "X = torch.FloatTensor(X)\n",
    "Y = torch.FloatTensor(Y)\n",
    "log_p_X = p_xy.p_x.log_prob(torch.FloatTensor(l).unsqueeze(0).unsqueeze(-1).repeat(res,1, n_dim)).sum(-1)\n",
    "log_p_Y = log_p_X.T\n",
    "log_p_XY_n = p_xy.log_prob(torch.cat([\n",
    "    torch.FloatTensor(X).view(-1,1),\n",
    "    torch.FloatTensor(Y).view(-1,1),\n",
    "], -1).unsqueeze(1).repeat(1, n_dim, 1)).sum(1).view(res,res)/ n_dim\n",
    "log_p_X_Y_n = (log_p_X + log_p_Y)/n_dim\n",
    "dist_results = {}\n",
    "\n",
    "for name in [\"nwj\", \"anwj\", \"pnwj\"]:\n",
    "    mi_estimator = mi_estimators[name]\n",
    "    if mi_estimator.proposal is None:\n",
    "        if mi_estimator.predictive  is None:\n",
    "            log_r_Y_X = log_p_Y\n",
    "        else:\n",
    "            Y_ = Y.unsqueeze(-1).repeat(1,1,n_dim)\n",
    "            p_a_Y = mi_estimator.predictive.condition(Y_)\n",
    "            log_p_A0_Y = p_a_Y.log_prob(torch.zeros(Y_.shape))\n",
    "            log_p_A0 = log_p_A1 = -n_dim*np.log(2)\n",
    "            log_p_A1_Y = p_a_Y.log_prob(torch.ones(Y_.shape))\n",
    "            p_a_X = p_a_x.condition(X)\n",
    "            log_p_A0_X = p_a_X.log_prob(torch.zeros(X.shape))*n_dim\n",
    "            log_p_A1_X = p_a_X.log_prob(torch.ones(X.shape))*n_dim\n",
    "\n",
    "            log_r_Y_X = ((log_p_A0_X+log_p_A0_Y+log_p_Y-log_p_A0).exp() + (log_p_A1_X+log_p_A1_Y+log_p_Y-log_p_A1).exp()).log()\n",
    "    else:\n",
    "        r_y_X = mi_estimator.proposal.condition(X.unsqueeze(-1).repeat(1,1,n_dim))\n",
    "        log_r_Y_X = r_y_X.log_prob(Y.unsqueeze(-1).repeat(1,1,n_dim))\n",
    "\n",
    "    if mi_estimator.ratio_estimator is None:\n",
    "        F = X*0\n",
    "    else:\n",
    "        F = mi_estimator.ratio_estimator(\n",
    "            X.unsqueeze(-1).repeat(1, 1, n_dim),\n",
    "            Y.unsqueeze(-1).repeat(1, 1, n_dim)\n",
    "        ).T.squeeze()\n",
    "\n",
    "\n",
    "    log_r_XY = log_r_Y_X + log_p_X\n",
    "\n",
    "    dist_results[name] = {\n",
    "        \"log r(x,y)\": log_r_XY/ n_dim,\n",
    "        \"f(x,y)\": F\n",
    "    }\n"
   ]
  },
  {
   "cell_type": "code",
   "execution_count": 130,
   "metadata": {},
   "outputs": [
    {
     "name": "stdout",
     "output_type": "stream",
     "text": [
      "4.755743248097133e-06 5.273011922836304 5.273016678579552 2197.017794079056\n",
      "3.4654968976974487 6.411126255989075 9.876623153686523 609.9516182145105\n",
      "4.615757167339325 6.657769083976746 11.27352625131607 187.80470683706585\n"
     ]
    },
    {
     "data": {
      "text/plain": "<matplotlib.colorbar.Colorbar at 0x7f3943103160>"
     },
     "execution_count": 130,
     "metadata": {},
     "output_type": "execute_result"
    },
    {
     "data": {
      "text/plain": "<Figure size 1080x720 with 6 Axes>",
      "image/png": "[encoded data removed]"
     },
     "metadata": {},
     "output_type": "display_data"
    },
    {
     "data": {
      "text/plain": "<Figure size 432x288 with 1 Axes>",
      "image/png": "[encoded data removed]"
     },
     "metadata": {},
     "output_type": "display_data"
    },
    {
     "data": {
      "text/plain": "<Figure size 360x360 with 2 Axes>",
      "image/png": "[encoded data removed]"
     },
     "metadata": {},
     "output_type": "display_data"
    }
   ],
   "source": [
    "f, ax = plt.subplots(2, len(dist_results), figsize=((len(dist_results))*5, 10))\n",
    "\n",
    "levels = np.linspace(-18,-10, 8)\n",
    "\n",
    "log_p_XY_n = log_p_XY_n - torch.logsumexp(log_p_XY_n.view(-1), -1)\n",
    "log_p_X_Y_n = log_p_X_Y_n - torch.logsumexp(log_p_X_Y_n.view(-1), -1)\n",
    "\n",
    "\n",
    "p_XY_n = log_p_XY_n.exp()\n",
    "p_X_Y_n = log_p_X_Y_n.exp()\n",
    "\n",
    "I_xy = (p_XY_n[p_XY_n>0]*(log_p_XY_n - log_p_X_Y_n)[p_XY_n>0]).sum().item()*n_dim\n",
    "\n",
    "f2, ax2 = plt.subplots(1,1)\n",
    "\n",
    "name_lookup = {\n",
    "    \"nwj\": \"$\\\\log\\\\ p(x)p(y)$\",\n",
    "    \"anwj\": \"$\\\\log\\\\  p(x)\\\\int p(y|a)p(a|x) da$\",\n",
    "    \"pnwj\": \"$\\\\log\\\\  p(x)r(y|x)$\",\n",
    "}\n",
    "\n",
    "for i, name in enumerate(dist_results):\n",
    "    dist = dist_results[name]\n",
    "    log_r_XY_n = dist['log r(x,y)']\n",
    "    log_r_XY_n = log_r_XY_n - torch.logsumexp(log_r_XY_n.reshape(-1), -1)\n",
    "\n",
    "    F = dist['f(x,y)']\n",
    "\n",
    "    ax[0,i].contourf(X, Y, log_r_XY_n.data.numpy(), levels=levels, extend=\"max\")\n",
    "    ax[0,i].set_title(name_lookup[name], fontsize=15)\n",
    "\n",
    "    r_XY_n = log_r_XY_n.exp()\n",
    "\n",
    "    log_q_XY_n = log_r_XY_n + F/n_dim\n",
    "    log_q_XY_n = log_q_XY_n - torch.logsumexp(log_q_XY_n.reshape(-1), -1)\n",
    "\n",
    "    ratio = (log_r_XY_n - log_p_X_Y_n)\n",
    "    ratio_2 = (log_p_XY_n - log_r_XY_n)\n",
    "    ratio_3 = (log_q_XY_n - log_p_X_Y_n)\n",
    "\n",
    "    ax[1,i].contourf(X,Y, log_q_XY_n.data.numpy(), levels=levels, extend=\"max\")\n",
    "\n",
    "    I_1 = (p_XY_n[p_XY_n>0]*ratio[p_XY_n>0]).sum().item()*n_dim\n",
    "    I_2 = (p_XY_n[p_XY_n>0]*ratio_3[p_XY_n>0]).sum().item()*n_dim\n",
    "\n",
    "    mean = (r_XY_n[r_XY_n>0] * F[r_XY_n>0].exp()).sum().item()\n",
    "    var = (r_XY_n[r_XY_n>0] * (F[r_XY_n>0].exp()-mean)**2).sum().item()*n_dim\n",
    "    std = var ** 0.5\n",
    "\n",
    "    # F_ = log_p_XY_n-log_r_XY_n\n",
    "    #\n",
    "    # mean_ = (r_XY_n[r_XY_n>0] * F_[r_XY_n>0].exp()).sum().item()\n",
    "    # var_ = (r_XY_n[r_XY_n>0] * (F_[r_XY_n>0].exp()-mean_)**2).sum().item()*n_dim\n",
    "    # std_ = var_ ** 0.5\n",
    "\n",
    "    print(I_1, I_2, I_1+I_2, std)\n",
    "\n",
    "    # ax2.barh(i,I_xy, color='r', label=\"$KL(p(x,y)||q(x,y))$\" if i==0 else \"\")\n",
    "    ax2.barh(i,I_2, color='orange', label=\"$KL_{f}(p(x,y)||r(x,y))$\" if i==0 else \"\")\n",
    "    ax2.barh(i,I_1, color='b', label=\"$I_{p,r}(x;y)$\" if i==0 else \"\")\n",
    "\n",
    "    #\n",
    "    # if std > 0:\n",
    "    #     ax[1,-1].bar(i, std, color='b')\n",
    "    #     # ax[1,-1].bar(i+0.1, std_, color='r')\n",
    "\n",
    "ax2.axvline(x=I_xy, ls=\"--\", color='k')\n",
    "ax2.set_yticks([0,1,2])\n",
    "ax2.set_yticklabels([\"$p(x)p(y)$\", \"$p(x)\\\\int p(y|a)p(a|x) da$\", \"$p(x)r_\\\\theta(y|x)$\"], fontsize=15)\n",
    "ax2.legend(loc='center left', bbox_to_anchor=(1, 0.5), fontsize=15)\n",
    "ax2.set_ylabel(\"Proposal\", fontsize=20)\n",
    "ax2.set_title(\"$I_{p,q}(x,y)$\", fontsize=15)\n",
    "ax2.text(I_xy,-0.75, \"$I(x;y)$\", fontsize=12, ha=\"center\")\n",
    "\n",
    "# ax[0,0].set_ylabel(\"$r(x,y)$\", fontsize=15)\n",
    "# ax[1,0].set_ylabel(\"$q(x,y)$\", fontsize=15)\n",
    "\n",
    "# ax[1, -1].set_yscale(\"log\")\n",
    "\n",
    "\n",
    "f, ax = plt.subplots(1,1, figsize=(5,5))\n",
    "c = ax.contourf(X,Y,log_p_XY_n, levels=levels, extend=\"max\")\n",
    "ax.set_title(\"$\\\\log\\\\ p(x,y)$\", fontsize=15)\n",
    "plt.colorbar(c)\n",
    "\n"
   ]
  },
  {
   "cell_type": "code",
   "execution_count": 115,
   "outputs": [
    {
     "name": "stdout",
     "output_type": "stream",
     "text": [
      "Help on Text in module matplotlib.text object:\n",
      "\n",
      "class Text(matplotlib.artist.Artist)\n",
      " |  Text(x=0, y=0, text='', color=None, verticalalignment='baseline', horizontalalignment='left', multialignment=None, fontproperties=None, rotation=None, linespacing=None, rotation_mode=None, usetex=None, wrap=False, **kwargs)\n",
      " |  \n",
      " |  Handle storing and drawing of text in window or data coordinates.\n",
      " |  \n",
      " |  Method resolution order:\n",
      " |      Text\n",
      " |      matplotlib.artist.Artist\n",
      " |      builtins.object\n",
      " |  \n",
      " |  Methods defined here:\n",
      " |  \n",
      " |  __getstate__(self)\n",
      " |  \n",
      " |  __init__(self, x=0, y=0, text='', color=None, verticalalignment='baseline', horizontalalignment='left', multialignment=None, fontproperties=None, rotation=None, linespacing=None, rotation_mode=None, usetex=None, wrap=False, **kwargs)\n",
      " |      Create a `.Text` instance at *x*, *y* with string *text*.\n",
      " |      \n",
      " |      Valid kwargs are\n",
      " |        agg_filter: a filter function, which takes a (m, n, 3) float array and a dpi value, and returns a (m, n, 3) array\n",
      " |        alpha: float\n",
      " |        animated: bool\n",
      " |        backgroundcolor: color\n",
      " |        bbox: dict with properties for `.patches.FancyBboxPatch`\n",
      " |        clip_box: `.Bbox`\n",
      " |        clip_on: bool\n",
      " |        clip_path: [(`~matplotlib.path.Path`, `.Transform`) | `.Patch` | None]\n",
      " |        color or c: color\n",
      " |        contains: callable\n",
      " |        figure: `.Figure`\n",
      " |        fontfamily or family: {FONTNAME, 'serif', 'sans-serif', 'cursive', 'fantasy', 'monospace'}\n",
      " |        fontproperties or font_properties: `.font_manager.FontProperties`\n",
      " |        fontsize or size: {size in points, 'xx-small', 'x-small', 'small', 'medium', 'large', 'x-large', 'xx-large'}\n",
      " |        fontstretch or stretch: {a numeric value in range 0-1000, 'ultra-condensed', 'extra-condensed', 'condensed', 'semi-condensed', 'normal', 'semi-expanded', 'expanded', 'extra-expanded', 'ultra-expanded'}\n",
      " |        fontstyle or style: {'normal', 'italic', 'oblique'}\n",
      " |        fontvariant or variant: {'normal', 'small-caps'}\n",
      " |        fontweight or weight: {a numeric value in range 0-1000, 'ultralight', 'light', 'normal', 'regular', 'book', 'medium', 'roman', 'semibold', 'demibold', 'demi', 'bold', 'heavy', 'extra bold', 'black'}\n",
      " |        gid: str\n",
      " |        horizontalalignment or ha: {'center', 'right', 'left'}\n",
      " |        in_layout: bool\n",
      " |        label: object\n",
      " |        linespacing: float (multiple of font size)\n",
      " |        multialignment or ma: {'left', 'right', 'center'}\n",
      " |        path_effects: `.AbstractPathEffect`\n",
      " |        picker: None or bool or float or callable\n",
      " |        position: (float, float)\n",
      " |        rasterized: bool or None\n",
      " |        rotation: {angle in degrees, 'vertical', 'horizontal'}\n",
      " |        rotation_mode: {None, 'default', 'anchor'}\n",
      " |        sketch_params: (scale: float, length: float, randomness: float)\n",
      " |        snap: bool or None\n",
      " |        text: object\n",
      " |        transform: `.Transform`\n",
      " |        url: str\n",
      " |        usetex: bool or None\n",
      " |        verticalalignment or va: {'center', 'top', 'bottom', 'baseline', 'center_baseline'}\n",
      " |        visible: bool\n",
      " |        wrap: bool\n",
      " |        x: float\n",
      " |        y: float\n",
      " |        zorder: float\n",
      " |  \n",
      " |  __repr__(self)\n",
      " |      Return repr(self).\n",
      " |  \n",
      " |  contains(self, mouseevent)\n",
      " |      Test whether the mouse event occurred in the patch.\n",
      " |      \n",
      " |      In the case of text, a hit is true anywhere in the\n",
      " |      axis-aligned bounding-box containing the text.\n",
      " |      \n",
      " |      Returns\n",
      " |      -------\n",
      " |      bool : bool\n",
      " |  \n",
      " |  draw(self, renderer)\n",
      " |      Draws the `.Text` object to the given *renderer*.\n",
      " |  \n",
      " |  get_bbox_patch(self)\n",
      " |      Return the bbox Patch, or None if the `.patches.FancyBboxPatch`\n",
      " |      is not made.\n",
      " |  \n",
      " |  get_c(self)\n",
      " |      Alias for `get_color`.\n",
      " |  \n",
      " |  get_color(self)\n",
      " |      Return the color of the text\n",
      " |  \n",
      " |  get_family(self)\n",
      " |      Alias for `get_fontfamily`.\n",
      " |  \n",
      " |  get_font_properties(self)\n",
      " |      Alias for `get_fontproperties`.\n",
      " |  \n",
      " |  get_fontfamily(self)\n",
      " |      Return the list of font families used for font lookup\n",
      " |      \n",
      " |      See Also\n",
      " |      --------\n",
      " |      .font_manager.FontProperties.get_family\n",
      " |  \n",
      " |  get_fontname(self)\n",
      " |      Return the font name as string\n",
      " |      \n",
      " |      See Also\n",
      " |      --------\n",
      " |      .font_manager.FontProperties.get_name\n",
      " |  \n",
      " |  get_fontproperties(self)\n",
      " |      Return the `.font_manager.FontProperties` object\n",
      " |  \n",
      " |  get_fontsize(self)\n",
      " |      Return the font size as integer\n",
      " |      \n",
      " |      See Also\n",
      " |      --------\n",
      " |      .font_manager.FontProperties.get_size_in_points\n",
      " |  \n",
      " |  get_fontstyle(self)\n",
      " |      Return the font style as string\n",
      " |      \n",
      " |      See Also\n",
      " |      --------\n",
      " |      .font_manager.FontProperties.get_style\n",
      " |  \n",
      " |  get_fontvariant(self)\n",
      " |      Return the font variant as a string\n",
      " |      \n",
      " |      See Also\n",
      " |      --------\n",
      " |      .font_manager.FontProperties.get_variant\n",
      " |  \n",
      " |  get_fontweight(self)\n",
      " |      Get the font weight as string or number\n",
      " |      \n",
      " |      See Also\n",
      " |      --------\n",
      " |      .font_manager.FontProperties.get_weight\n",
      " |  \n",
      " |  get_ha(self)\n",
      " |      Alias for `get_horizontalalignment`.\n",
      " |  \n",
      " |  get_horizontalalignment(self)\n",
      " |      Return the horizontal alignment as string.  Will be one of\n",
      " |      'left', 'center' or 'right'.\n",
      " |  \n",
      " |  get_name(self)\n",
      " |      Alias for `get_fontname`.\n",
      " |  \n",
      " |  get_position(self)\n",
      " |      Return the position of the text as a tuple (*x*, *y*)\n",
      " |  \n",
      " |  get_prop_tup(self, renderer=None)\n",
      " |      Return a hashable tuple of properties.\n",
      " |      \n",
      " |      Not intended to be human readable, but useful for backends who\n",
      " |      want to cache derived information about text (e.g., layouts) and\n",
      " |      need to know if the text has changed.\n",
      " |  \n",
      " |  get_rotation(self)\n",
      " |      Return the text angle as float in degrees.\n",
      " |  \n",
      " |  get_rotation_mode(self)\n",
      " |      Get the text rotation mode.\n",
      " |  \n",
      " |  get_size(self)\n",
      " |      Alias for `get_fontsize`.\n",
      " |  \n",
      " |  get_stretch(self)\n",
      " |      Get the font stretch as a string or number\n",
      " |      \n",
      " |      See Also\n",
      " |      --------\n",
      " |      .font_manager.FontProperties.get_stretch\n",
      " |  \n",
      " |  get_style(self)\n",
      " |      Alias for `get_fontstyle`.\n",
      " |  \n",
      " |  get_text(self)\n",
      " |      Get the text as string\n",
      " |  \n",
      " |  get_unitless_position(self)\n",
      " |      Return the unitless position of the text as a tuple (*x*, *y*)\n",
      " |  \n",
      " |  get_usetex(self)\n",
      " |      Return whether this `Text` object uses TeX for rendering.\n",
      " |  \n",
      " |  get_va(self)\n",
      " |      Alias for `get_verticalalignment`.\n",
      " |  \n",
      " |  get_variant(self)\n",
      " |      Alias for `get_fontvariant`.\n",
      " |  \n",
      " |  get_verticalalignment(self)\n",
      " |      Return the vertical alignment as string.  Will be one of\n",
      " |      'top', 'center', 'bottom' or 'baseline'.\n",
      " |  \n",
      " |  get_weight(self)\n",
      " |      Alias for `get_fontweight`.\n",
      " |  \n",
      " |  get_window_extent(self, renderer=None, dpi=None)\n",
      " |      Return the `Bbox` bounding the text, in display units.\n",
      " |      \n",
      " |      In addition to being used internally, this is useful for specifying\n",
      " |      clickable regions in a png file on a web page.\n",
      " |      \n",
      " |      Parameters\n",
      " |      ----------\n",
      " |      renderer : Renderer, optional\n",
      " |          A renderer is needed to compute the bounding box.  If the artist\n",
      " |          has already been drawn, the renderer is cached; thus, it is only\n",
      " |          necessary to pass this argument when calling `get_window_extent`\n",
      " |          before the first `draw`.  In practice, it is usually easier to\n",
      " |          trigger a draw first (e.g. by saving the figure).\n",
      " |      \n",
      " |      dpi : float, optional\n",
      " |          The dpi value for computing the bbox, defaults to\n",
      " |          ``self.figure.dpi`` (*not* the renderer dpi); should be set e.g. if\n",
      " |          to match regions with a figure saved with a custom dpi value.\n",
      " |  \n",
      " |  get_wrap(self)\n",
      " |      Return the wrapping state for the text.\n",
      " |  \n",
      " |  set_backgroundcolor(self, color)\n",
      " |      Set the background color of the text by updating the bbox.\n",
      " |      \n",
      " |      Parameters\n",
      " |      ----------\n",
      " |      color : color\n",
      " |      \n",
      " |      See Also\n",
      " |      --------\n",
      " |      .set_bbox : To change the position of the bounding box\n",
      " |  \n",
      " |  set_bbox(self, rectprops)\n",
      " |      Draw a bounding box around self.\n",
      " |      \n",
      " |      Parameters\n",
      " |      ----------\n",
      " |      rectprops : dict with properties for `.patches.FancyBboxPatch`\n",
      " |           The default boxstyle is 'square'. The mutation\n",
      " |           scale of the `.patches.FancyBboxPatch` is set to the fontsize.\n",
      " |      \n",
      " |      Examples\n",
      " |      --------\n",
      " |      ::\n",
      " |      \n",
      " |          t.set_bbox(dict(facecolor='red', alpha=0.5))\n",
      " |  \n",
      " |  set_c(self, color)\n",
      " |      Alias for `set_color`.\n",
      " |  \n",
      " |  set_clip_box(self, clipbox)\n",
      " |      Set the artist's clip `.Bbox`.\n",
      " |      \n",
      " |      Parameters\n",
      " |      ----------\n",
      " |      clipbox : `.Bbox`\n",
      " |  \n",
      " |  set_clip_on(self, b)\n",
      " |      Set whether the artist uses clipping.\n",
      " |      \n",
      " |      When False artists will be visible out side of the axes which\n",
      " |      can lead to unexpected results.\n",
      " |      \n",
      " |      Parameters\n",
      " |      ----------\n",
      " |      b : bool\n",
      " |  \n",
      " |  set_clip_path(self, path, transform=None)\n",
      " |      Set the artist's clip path, which may be:\n",
      " |      \n",
      " |      - a :class:`~matplotlib.patches.Patch` (or subclass) instance; or\n",
      " |      - a :class:`~matplotlib.path.Path` instance, in which case a\n",
      " |        :class:`~matplotlib.transforms.Transform` instance, which will be\n",
      " |        applied to the path before using it for clipping, must be provided;\n",
      " |        or\n",
      " |      - ``None``, to remove a previously set clipping path.\n",
      " |      \n",
      " |      For efficiency, if the path happens to be an axis-aligned rectangle,\n",
      " |      this method will set the clipping box to the corresponding rectangle\n",
      " |      and set the clipping path to ``None``.\n",
      " |      \n",
      " |      ACCEPTS: [(`~matplotlib.path.Path`, `.Transform`) | `.Patch` | None]\n",
      " |  \n",
      " |  set_color(self, color)\n",
      " |      Set the foreground color of the text\n",
      " |      \n",
      " |      Parameters\n",
      " |      ----------\n",
      " |      color : color\n",
      " |  \n",
      " |  set_family(self, fontname)\n",
      " |      Alias for `set_fontfamily`.\n",
      " |  \n",
      " |  set_font_properties(self, fp)\n",
      " |      Alias for `set_fontproperties`.\n",
      " |  \n",
      " |  set_fontfamily(self, fontname)\n",
      " |      Set the font family.  May be either a single string, or a list of\n",
      " |      strings in decreasing priority.  Each string may be either a real font\n",
      " |      name or a generic font class name.  If the latter, the specific font\n",
      " |      names will be looked up in the corresponding rcParams.\n",
      " |      \n",
      " |      If a `Text` instance is constructed with ``fontfamily=None``, then the\n",
      " |      font is set to :rc:`font.family`, and the\n",
      " |      same is done when `set_fontfamily()` is called on an existing\n",
      " |      `Text` instance.\n",
      " |      \n",
      " |      Parameters\n",
      " |      ----------\n",
      " |      fontname : {FONTNAME, 'serif', 'sans-serif', 'cursive', 'fantasy', 'monospace'}\n",
      " |      \n",
      " |      See Also\n",
      " |      --------\n",
      " |      .font_manager.FontProperties.set_family\n",
      " |  \n",
      " |  set_fontname(self, fontname)\n",
      " |      Alias for `set_family`.\n",
      " |      \n",
      " |      One-way alias only: the getter differs.\n",
      " |      \n",
      " |      Parameters\n",
      " |      ----------\n",
      " |      fontname : {FONTNAME, 'serif', 'sans-serif', 'cursive', 'fantasy', 'monospace'}\n",
      " |      \n",
      " |      See Also\n",
      " |      --------\n",
      " |      .font_manager.FontProperties.set_family\n",
      " |  \n",
      " |  set_fontproperties(self, fp)\n",
      " |      Set the font properties that control the text.\n",
      " |      \n",
      " |      Parameters\n",
      " |      ----------\n",
      " |      fp : `.font_manager.FontProperties`\n",
      " |  \n",
      " |  set_fontsize(self, fontsize)\n",
      " |      Set the font size.  May be either a size string, relative to\n",
      " |      the default font size, or an absolute font size in points.\n",
      " |      \n",
      " |      Parameters\n",
      " |      ----------\n",
      " |      fontsize : {size in points, 'xx-small', 'x-small', 'small', 'medium', 'large', 'x-large', 'xx-large'}\n",
      " |      \n",
      " |      See Also\n",
      " |      --------\n",
      " |      .font_manager.FontProperties.set_size\n",
      " |  \n",
      " |  set_fontstretch(self, stretch)\n",
      " |      Set the font stretch (horizontal condensation or expansion).\n",
      " |      \n",
      " |      Parameters\n",
      " |      ----------\n",
      " |      stretch : {a numeric value in range 0-1000, 'ultra-condensed', 'extra-condensed', 'condensed', 'semi-condensed', 'normal', 'semi-expanded', 'expanded', 'extra-expanded', 'ultra-expanded'}\n",
      " |      \n",
      " |      See Also\n",
      " |      --------\n",
      " |      .font_manager.FontProperties.set_stretch\n",
      " |  \n",
      " |  set_fontstyle(self, fontstyle)\n",
      " |      Set the font style.\n",
      " |      \n",
      " |      Parameters\n",
      " |      ----------\n",
      " |      fontstyle : {'normal', 'italic', 'oblique'}\n",
      " |      \n",
      " |      See Also\n",
      " |      --------\n",
      " |      .font_manager.FontProperties.set_style\n",
      " |  \n",
      " |  set_fontvariant(self, variant)\n",
      " |      Set the font variant, either 'normal' or 'small-caps'.\n",
      " |      \n",
      " |      Parameters\n",
      " |      ----------\n",
      " |      variant : {'normal', 'small-caps'}\n",
      " |      \n",
      " |      See Also\n",
      " |      --------\n",
      " |      .font_manager.FontProperties.set_variant\n",
      " |  \n",
      " |  set_fontweight(self, weight)\n",
      " |      Set the font weight.\n",
      " |      \n",
      " |      Parameters\n",
      " |      ----------\n",
      " |      weight : {a numeric value in range 0-1000, 'ultralight', 'light', 'normal', 'regular', 'book', 'medium', 'roman', 'semibold', 'demibold', 'demi', 'bold', 'heavy', 'extra bold', 'black'}\n",
      " |      \n",
      " |      See Also\n",
      " |      --------\n",
      " |      .font_manager.FontProperties.set_weight\n",
      " |  \n",
      " |  set_ha(self, align)\n",
      " |      Alias for `set_horizontalalignment`.\n",
      " |  \n",
      " |  set_horizontalalignment(self, align)\n",
      " |      Set the horizontal alignment to one of\n",
      " |      \n",
      " |      Parameters\n",
      " |      ----------\n",
      " |      align : {'center', 'right', 'left'}\n",
      " |  \n",
      " |  set_linespacing(self, spacing)\n",
      " |      Set the line spacing as a multiple of the font size.\n",
      " |      Default is 1.2.\n",
      " |      \n",
      " |      Parameters\n",
      " |      ----------\n",
      " |      spacing : float (multiple of font size)\n",
      " |  \n",
      " |  set_ma(self, align)\n",
      " |      Alias for `set_multialignment`.\n",
      " |  \n",
      " |  set_multialignment(self, align)\n",
      " |      Set the alignment for multiple lines layout.  The layout of the\n",
      " |      bounding box of all the lines is determined by the horizontalalignment\n",
      " |      and verticalalignment properties, but the multiline text within that\n",
      " |      box can be\n",
      " |      \n",
      " |      Parameters\n",
      " |      ----------\n",
      " |      align : {'left', 'right', 'center'}\n",
      " |  \n",
      " |  set_name(self, fontname)\n",
      " |      Alias for `set_fontname`.\n",
      " |  \n",
      " |  set_position(self, xy)\n",
      " |      Set the (*x*, *y*) position of the text.\n",
      " |      \n",
      " |      Parameters\n",
      " |      ----------\n",
      " |      xy : (float, float)\n",
      " |  \n",
      " |  set_rotation(self, s)\n",
      " |      Set the rotation of the text.\n",
      " |      \n",
      " |      Parameters\n",
      " |      ----------\n",
      " |      s : {angle in degrees, 'vertical', 'horizontal'}\n",
      " |  \n",
      " |  set_rotation_mode(self, m)\n",
      " |      Set text rotation mode.\n",
      " |      \n",
      " |      Parameters\n",
      " |      ----------\n",
      " |      m : {None, 'default', 'anchor'}\n",
      " |          If ``None`` or ``\"default\"``, the text will be first rotated, then\n",
      " |          aligned according to their horizontal and vertical alignments.  If\n",
      " |          ``\"anchor\"``, then alignment occurs before rotation.\n",
      " |  \n",
      " |  set_size(self, fontsize)\n",
      " |      Alias for `set_fontsize`.\n",
      " |  \n",
      " |  set_stretch(self, stretch)\n",
      " |      Alias for `set_fontstretch`.\n",
      " |  \n",
      " |  set_style(self, fontstyle)\n",
      " |      Alias for `set_fontstyle`.\n",
      " |  \n",
      " |  set_text(self, s)\n",
      " |      Set the text string *s*.\n",
      " |      \n",
      " |      It may contain newlines (``\\n``) or math in LaTeX syntax.\n",
      " |      \n",
      " |      Parameters\n",
      " |      ----------\n",
      " |      s : object\n",
      " |          Any object gets converted to its `str`, except ``None`` which\n",
      " |          becomes ``''``.\n",
      " |  \n",
      " |  set_usetex(self, usetex)\n",
      " |      Parameters\n",
      " |      ----------\n",
      " |      usetex : bool or None\n",
      " |          Whether to render using TeX, ``None`` means to use\n",
      " |          :rc:`text.usetex`.\n",
      " |  \n",
      " |  set_va(self, align)\n",
      " |      Alias for `set_verticalalignment`.\n",
      " |  \n",
      " |  set_variant(self, variant)\n",
      " |      Alias for `set_fontvariant`.\n",
      " |  \n",
      " |  set_verticalalignment(self, align)\n",
      " |      Set the vertical alignment\n",
      " |      \n",
      " |      Parameters\n",
      " |      ----------\n",
      " |      align : {'center', 'top', 'bottom', 'baseline', 'center_baseline'}\n",
      " |  \n",
      " |  set_weight(self, weight)\n",
      " |      Alias for `set_fontweight`.\n",
      " |  \n",
      " |  set_wrap(self, wrap)\n",
      " |      Set the wrapping state for the text.\n",
      " |      \n",
      " |      Parameters\n",
      " |      ----------\n",
      " |      wrap : bool\n",
      " |  \n",
      " |  set_x(self, x)\n",
      " |      Set the *x* position of the text.\n",
      " |      \n",
      " |      Parameters\n",
      " |      ----------\n",
      " |      x : float\n",
      " |  \n",
      " |  set_y(self, y)\n",
      " |      Set the *y* position of the text.\n",
      " |      \n",
      " |      Parameters\n",
      " |      ----------\n",
      " |      y : float\n",
      " |  \n",
      " |  update(self, kwargs)\n",
      " |      Update properties from a dictionary.\n",
      " |  \n",
      " |  update_bbox_position_size(self, renderer)\n",
      " |      Update the location and the size of the bbox.\n",
      " |      \n",
      " |      This method should be used when the position and size of the bbox needs\n",
      " |      to be updated before actually drawing the bbox.\n",
      " |  \n",
      " |  update_from(self, other)\n",
      " |      Copy properties from other to self.\n",
      " |  \n",
      " |  ----------------------------------------------------------------------\n",
      " |  Static methods defined here:\n",
      " |  \n",
      " |  is_math_text(s, usetex=None)\n",
      " |      [*Deprecated*] Returns a cleaned string and a boolean flag.\n",
      " |      The flag indicates if the given string *s* contains any mathtext,\n",
      " |      determined by counting unescaped dollar signs. If no mathtext\n",
      " |      is present, the cleaned string has its dollar signs unescaped.\n",
      " |      If usetex is on, the flag always has the value \"TeX\".\n",
      " |      \n",
      " |      Notes\n",
      " |      -----\n",
      " |      .. deprecated:: 3.1\n",
      " |  \n",
      " |  ----------------------------------------------------------------------\n",
      " |  Data and other attributes defined here:\n",
      " |  \n",
      " |  zorder = 3\n",
      " |  \n",
      " |  ----------------------------------------------------------------------\n",
      " |  Methods inherited from matplotlib.artist.Artist:\n",
      " |  \n",
      " |  add_callback(self, func)\n",
      " |      Add a callback function that will be called whenever one of the\n",
      " |      `.Artist`'s properties changes.\n",
      " |      \n",
      " |      Parameters\n",
      " |      ----------\n",
      " |      func : callable\n",
      " |          The callback function. It must have the signature::\n",
      " |      \n",
      " |              def func(artist: Artist) -> Any\n",
      " |      \n",
      " |          where *artist* is the calling `.Artist`. Return values may exist\n",
      " |          but are ignored.\n",
      " |      \n",
      " |      Returns\n",
      " |      -------\n",
      " |      oid : int\n",
      " |          The observer id associated with the callback. This id can be\n",
      " |          used for removing the callback with `.remove_callback` later.\n",
      " |      \n",
      " |      See Also\n",
      " |      --------\n",
      " |      remove_callback\n",
      " |  \n",
      " |  convert_xunits(self, x)\n",
      " |      Convert *x* using the unit type of the xaxis.\n",
      " |      \n",
      " |      If the artist is not in contained in an Axes or if the xaxis does not\n",
      " |      have units, *x* itself is returned.\n",
      " |  \n",
      " |  convert_yunits(self, y)\n",
      " |      Convert *y* using the unit type of the yaxis.\n",
      " |      \n",
      " |      If the artist is not in contained in an Axes or if the yaxis does not\n",
      " |      have units, *y* itself is returned.\n",
      " |  \n",
      " |  findobj(self, match=None, include_self=True)\n",
      " |      Find artist objects.\n",
      " |      \n",
      " |      Recursively find all `.Artist` instances contained in the artist.\n",
      " |      \n",
      " |      Parameters\n",
      " |      ----------\n",
      " |      match\n",
      " |          A filter criterion for the matches. This can be\n",
      " |      \n",
      " |          - *None*: Return all objects contained in artist.\n",
      " |          - A function with signature ``def match(artist: Artist) -> bool``.\n",
      " |            The result will only contain artists for which the function\n",
      " |            returns *True*.\n",
      " |          - A class instance: e.g., `.Line2D`. The result will only contain\n",
      " |            artists of this class or its subclasses (``isinstance`` check).\n",
      " |      \n",
      " |      include_self : bool\n",
      " |          Include *self* in the list to be checked for a match.\n",
      " |      \n",
      " |      Returns\n",
      " |      -------\n",
      " |      artists : list of `.Artist`\n",
      " |  \n",
      " |  format_cursor_data(self, data)\n",
      " |      Return a string representation of *data*.\n",
      " |      \n",
      " |      .. note::\n",
      " |          This method is intended to be overridden by artist subclasses.\n",
      " |          As an end-user of Matplotlib you will most likely not call this\n",
      " |          method yourself.\n",
      " |      \n",
      " |      The default implementation converts ints and floats and arrays of ints\n",
      " |      and floats into a comma-separated string enclosed in square brackets.\n",
      " |      \n",
      " |      See Also\n",
      " |      --------\n",
      " |      get_cursor_data\n",
      " |  \n",
      " |  get_agg_filter(self)\n",
      " |      Return filter function to be used for agg filter.\n",
      " |  \n",
      " |  get_alpha(self)\n",
      " |      Return the alpha value used for blending - not supported on all\n",
      " |      backends\n",
      " |  \n",
      " |  get_animated(self)\n",
      " |      Return the animated state.\n",
      " |  \n",
      " |  get_children(self)\n",
      " |      Return a list of the child `.Artist`\\s of this `.Artist`.\n",
      " |  \n",
      " |  get_clip_box(self)\n",
      " |      Return the clipbox.\n",
      " |  \n",
      " |  get_clip_on(self)\n",
      " |      Return whether the artist uses clipping.\n",
      " |  \n",
      " |  get_clip_path(self)\n",
      " |      Return the clip path.\n",
      " |  \n",
      " |  get_contains(self)\n",
      " |      Return the custom contains function of the artist if set, or *None*.\n",
      " |      \n",
      " |      See Also\n",
      " |      --------\n",
      " |      set_contains\n",
      " |  \n",
      " |  get_cursor_data(self, event)\n",
      " |      Return the cursor data for a given event.\n",
      " |      \n",
      " |      .. note::\n",
      " |          This method is intended to be overridden by artist subclasses.\n",
      " |          As an end-user of Matplotlib you will most likely not call this\n",
      " |          method yourself.\n",
      " |      \n",
      " |      Cursor data can be used by Artists to provide additional context\n",
      " |      information for a given event. The default implementation just returns\n",
      " |      *None*.\n",
      " |      \n",
      " |      Subclasses can override the method and return arbitrary data. However,\n",
      " |      when doing so, they must ensure that `.format_cursor_data` can convert\n",
      " |      the data to a string representation.\n",
      " |      \n",
      " |      The only current use case is displaying the z-value of an `.AxesImage`\n",
      " |      in the status bar of a plot window, while moving the mouse.\n",
      " |      \n",
      " |      Parameters\n",
      " |      ----------\n",
      " |      event : `matplotlib.backend_bases.MouseEvent`\n",
      " |      \n",
      " |      See Also\n",
      " |      --------\n",
      " |      format_cursor_data\n",
      " |  \n",
      " |  get_figure(self)\n",
      " |      Return the `.Figure` instance the artist belongs to.\n",
      " |  \n",
      " |  get_gid(self)\n",
      " |      Return the group id.\n",
      " |  \n",
      " |  get_in_layout(self)\n",
      " |      Return boolean flag, ``True`` if artist is included in layout\n",
      " |      calculations.\n",
      " |      \n",
      " |      E.g. :doc:`/tutorials/intermediate/constrainedlayout_guide`,\n",
      " |      `.Figure.tight_layout()`, and\n",
      " |      ``fig.savefig(fname, bbox_inches='tight')``.\n",
      " |  \n",
      " |  get_label(self)\n",
      " |      Return the label used for this artist in the legend.\n",
      " |  \n",
      " |  get_path_effects(self)\n",
      " |  \n",
      " |  get_picker(self)\n",
      " |      Return the picking behavior of the artist.\n",
      " |      \n",
      " |      The possible values are described in `.set_picker`.\n",
      " |      \n",
      " |      See Also\n",
      " |      --------\n",
      " |      set_picker, pickable, pick\n",
      " |  \n",
      " |  get_rasterized(self)\n",
      " |      Return whether the artist is to be rasterized.\n",
      " |  \n",
      " |  get_sketch_params(self)\n",
      " |      Returns the sketch parameters for the artist.\n",
      " |      \n",
      " |      Returns\n",
      " |      -------\n",
      " |      sketch_params : tuple or None\n",
      " |      \n",
      " |          A 3-tuple with the following elements:\n",
      " |      \n",
      " |          - *scale*: The amplitude of the wiggle perpendicular to the\n",
      " |            source line.\n",
      " |          - *length*: The length of the wiggle along the line.\n",
      " |          - *randomness*: The scale factor by which the length is\n",
      " |            shrunken or expanded.\n",
      " |      \n",
      " |          Returns *None* if no sketch parameters were set.\n",
      " |  \n",
      " |  get_snap(self)\n",
      " |      Returns the snap setting.\n",
      " |      \n",
      " |      See `.set_snap` for details.\n",
      " |  \n",
      " |  get_tightbbox(self, renderer)\n",
      " |      Like `Artist.get_window_extent`, but includes any clipping.\n",
      " |      \n",
      " |      Parameters\n",
      " |      ----------\n",
      " |      renderer : `.RendererBase` instance\n",
      " |          renderer that will be used to draw the figures (i.e.\n",
      " |          ``fig.canvas.get_renderer()``)\n",
      " |      \n",
      " |      Returns\n",
      " |      -------\n",
      " |      bbox : `.BBox`\n",
      " |          The enclosing bounding box (in figure pixel co-ordinates).\n",
      " |  \n",
      " |  get_transform(self)\n",
      " |      Return the `.Transform` instance used by this artist.\n",
      " |  \n",
      " |  get_transformed_clip_path_and_affine(self)\n",
      " |      Return the clip path with the non-affine part of its\n",
      " |      transformation applied, and the remaining affine part of its\n",
      " |      transformation.\n",
      " |  \n",
      " |  get_url(self)\n",
      " |      Return the url.\n",
      " |  \n",
      " |  get_visible(self)\n",
      " |      Return the visibility.\n",
      " |  \n",
      " |  get_zorder(self)\n",
      " |      Return the artist's zorder.\n",
      " |  \n",
      " |  have_units(self)\n",
      " |      Return *True* if units are set on the *x* or *y* axes.\n",
      " |  \n",
      " |  is_transform_set(self)\n",
      " |      Return whether the Artist has an explicitly set transform.\n",
      " |      \n",
      " |      This is *True* after `.set_transform` has been called.\n",
      " |  \n",
      " |  pchanged(self)\n",
      " |      Call all of the registered callbacks.\n",
      " |      \n",
      " |      This function is triggered internally when a property is changed.\n",
      " |      \n",
      " |      See Also\n",
      " |      --------\n",
      " |      add_callback\n",
      " |      remove_callback\n",
      " |  \n",
      " |  pick(self, mouseevent)\n",
      " |      Process a pick event.\n",
      " |      \n",
      " |      Each child artist will fire a pick event if *mouseevent* is over\n",
      " |      the artist and the artist has picker set.\n",
      " |      \n",
      " |      See Also\n",
      " |      --------\n",
      " |      set_picker, get_picker, pickable\n",
      " |  \n",
      " |  pickable(self)\n",
      " |      Return whether the artist is pickable.\n",
      " |      \n",
      " |      See Also\n",
      " |      --------\n",
      " |      set_picker, get_picker, pick\n",
      " |  \n",
      " |  properties(self)\n",
      " |      Return a dictionary of all the properties of the artist.\n",
      " |  \n",
      " |  remove(self)\n",
      " |      Remove the artist from the figure if possible.\n",
      " |      \n",
      " |      The effect will not be visible until the figure is redrawn, e.g.,\n",
      " |      with `.FigureCanvasBase.draw_idle`.  Call `~.axes.Axes.relim` to\n",
      " |      update the axes limits if desired.\n",
      " |      \n",
      " |      Note: `~.axes.Axes.relim` will not see collections even if the\n",
      " |      collection was added to the axes with *autolim* = True.\n",
      " |      \n",
      " |      Note: there is no support for removing the artist's legend entry.\n",
      " |  \n",
      " |  remove_callback(self, oid)\n",
      " |      Remove a callback based on its observer id.\n",
      " |      \n",
      " |      See Also\n",
      " |      --------\n",
      " |      add_callback\n",
      " |  \n",
      " |  set(self, **kwargs)\n",
      " |      A property batch setter.  Pass *kwargs* to set properties.\n",
      " |  \n",
      " |  set_agg_filter(self, filter_func)\n",
      " |      Set the agg filter.\n",
      " |      \n",
      " |      Parameters\n",
      " |      ----------\n",
      " |      filter_func : callable\n",
      " |          A filter function, which takes a (m, n, 3) float array and a dpi\n",
      " |          value, and returns a (m, n, 3) array.\n",
      " |      \n",
      " |          .. ACCEPTS: a filter function, which takes a (m, n, 3) float array\n",
      " |              and a dpi value, and returns a (m, n, 3) array\n",
      " |  \n",
      " |  set_alpha(self, alpha)\n",
      " |      Set the alpha value used for blending - not supported on all backends.\n",
      " |      \n",
      " |      Parameters\n",
      " |      ----------\n",
      " |      alpha : float\n",
      " |  \n",
      " |  set_animated(self, b)\n",
      " |      Set the artist's animation state.\n",
      " |      \n",
      " |      Parameters\n",
      " |      ----------\n",
      " |      b : bool\n",
      " |  \n",
      " |  set_contains(self, picker)\n",
      " |      Define a custom contains test for the artist.\n",
      " |      \n",
      " |      The provided callable replaces the default `.contains` method\n",
      " |      of the artist.\n",
      " |      \n",
      " |      Parameters\n",
      " |      ----------\n",
      " |      picker : callable\n",
      " |          A custom picker function to evaluate if an event is within the\n",
      " |          artist. The function must have the signature::\n",
      " |      \n",
      " |              def contains(artist: Artist, event: MouseEvent) -> bool, dict\n",
      " |      \n",
      " |          that returns:\n",
      " |      \n",
      " |          - a bool indicating if the event is within the artist\n",
      " |          - a dict of additional information. The dict should at least\n",
      " |            return the same information as the default ``contains()``\n",
      " |            implementation of the respective artist, but may provide\n",
      " |            additional information.\n",
      " |  \n",
      " |  set_figure(self, fig)\n",
      " |      Set the `.Figure` instance the artist belongs to.\n",
      " |      \n",
      " |      Parameters\n",
      " |      ----------\n",
      " |      fig : `.Figure`\n",
      " |  \n",
      " |  set_gid(self, gid)\n",
      " |      Set the (group) id for the artist.\n",
      " |      \n",
      " |      Parameters\n",
      " |      ----------\n",
      " |      gid : str\n",
      " |  \n",
      " |  set_in_layout(self, in_layout)\n",
      " |      Set if artist is to be included in layout calculations,\n",
      " |      E.g. :doc:`/tutorials/intermediate/constrainedlayout_guide`,\n",
      " |      `.Figure.tight_layout()`, and\n",
      " |      ``fig.savefig(fname, bbox_inches='tight')``.\n",
      " |      \n",
      " |      Parameters\n",
      " |      ----------\n",
      " |      in_layout : bool\n",
      " |  \n",
      " |  set_label(self, s)\n",
      " |      Set a label that will be displayed in the legend.\n",
      " |      \n",
      " |      Parameters\n",
      " |      ----------\n",
      " |      s : object\n",
      " |          *s* will be converted to a string by calling `str`.\n",
      " |  \n",
      " |  set_path_effects(self, path_effects)\n",
      " |      Set the path effects.\n",
      " |      \n",
      " |      Parameters\n",
      " |      ----------\n",
      " |      path_effects : `.AbstractPathEffect`\n",
      " |  \n",
      " |  set_picker(self, picker)\n",
      " |      Define the picking behavior of the artist.\n",
      " |      \n",
      " |      Parameters\n",
      " |      ----------\n",
      " |      picker : None or bool or float or callable\n",
      " |          This can be one of the following:\n",
      " |      \n",
      " |          - *None*: Picking is disabled for this artist (default).\n",
      " |      \n",
      " |          - A boolean: If *True* then picking will be enabled and the\n",
      " |            artist will fire a pick event if the mouse event is over\n",
      " |            the artist.\n",
      " |      \n",
      " |          - A float: If picker is a number it is interpreted as an\n",
      " |            epsilon tolerance in points and the artist will fire\n",
      " |            off an event if it's data is within epsilon of the mouse\n",
      " |            event.  For some artists like lines and patch collections,\n",
      " |            the artist may provide additional data to the pick event\n",
      " |            that is generated, e.g., the indices of the data within\n",
      " |            epsilon of the pick event\n",
      " |      \n",
      " |          - A function: If picker is callable, it is a user supplied\n",
      " |            function which determines whether the artist is hit by the\n",
      " |            mouse event::\n",
      " |      \n",
      " |              hit, props = picker(artist, mouseevent)\n",
      " |      \n",
      " |            to determine the hit test.  if the mouse event is over the\n",
      " |            artist, return *hit=True* and props is a dictionary of\n",
      " |            properties you want added to the PickEvent attributes.\n",
      " |  \n",
      " |  set_rasterized(self, rasterized)\n",
      " |      Force rasterized (bitmap) drawing in vector backend output.\n",
      " |      \n",
      " |      Defaults to None, which implies the backend's default behavior.\n",
      " |      \n",
      " |      Parameters\n",
      " |      ----------\n",
      " |      rasterized : bool or None\n",
      " |  \n",
      " |  set_sketch_params(self, scale=None, length=None, randomness=None)\n",
      " |      Sets the sketch parameters.\n",
      " |      \n",
      " |      Parameters\n",
      " |      ----------\n",
      " |      \n",
      " |      scale : float, optional\n",
      " |          The amplitude of the wiggle perpendicular to the source\n",
      " |          line, in pixels.  If scale is `None`, or not provided, no\n",
      " |          sketch filter will be provided.\n",
      " |      \n",
      " |      length : float, optional\n",
      " |           The length of the wiggle along the line, in pixels\n",
      " |           (default 128.0)\n",
      " |      \n",
      " |      randomness : float, optional\n",
      " |          The scale factor by which the length is shrunken or\n",
      " |          expanded (default 16.0)\n",
      " |      \n",
      " |          .. ACCEPTS: (scale: float, length: float, randomness: float)\n",
      " |  \n",
      " |  set_snap(self, snap)\n",
      " |      Set the snapping behavior.\n",
      " |      \n",
      " |      Snapping aligns positions with the pixel grid, which results in\n",
      " |      clearer images. For example, if a black line of 1px width was\n",
      " |      defined at a position in between two pixels, the resulting image\n",
      " |      would contain the interpolated value of that line in the pixel grid,\n",
      " |      which would be a grey value on both adjacent pixel positions. In\n",
      " |      contrast, snapping will move the line to the nearest integer pixel\n",
      " |      value, so that the resulting image will really contain a 1px wide\n",
      " |      black line.\n",
      " |      \n",
      " |      Snapping is currently only supported by the Agg and MacOSX backends.\n",
      " |      \n",
      " |      Parameters\n",
      " |      ----------\n",
      " |      snap : bool or None\n",
      " |          Possible values:\n",
      " |      \n",
      " |          - *True*: Snap vertices to the nearest pixel center.\n",
      " |          - *False*: Do not modify vertex positions.\n",
      " |          - *None*: (auto) If the path contains only rectilinear line\n",
      " |            segments, round to the nearest pixel center.\n",
      " |  \n",
      " |  set_transform(self, t)\n",
      " |      Set the artist transform.\n",
      " |      \n",
      " |      Parameters\n",
      " |      ----------\n",
      " |      t : `.Transform`\n",
      " |  \n",
      " |  set_url(self, url)\n",
      " |      Set the url for the artist.\n",
      " |      \n",
      " |      Parameters\n",
      " |      ----------\n",
      " |      url : str\n",
      " |  \n",
      " |  set_visible(self, b)\n",
      " |      Set the artist's visibility.\n",
      " |      \n",
      " |      Parameters\n",
      " |      ----------\n",
      " |      b : bool\n",
      " |  \n",
      " |  set_zorder(self, level)\n",
      " |      Set the zorder for the artist.  Artists with lower zorder\n",
      " |      values are drawn first.\n",
      " |      \n",
      " |      Parameters\n",
      " |      ----------\n",
      " |      level : float\n",
      " |  \n",
      " |  ----------------------------------------------------------------------\n",
      " |  Readonly properties inherited from matplotlib.artist.Artist:\n",
      " |  \n",
      " |  aname\n",
      " |  \n",
      " |  sticky_edges\n",
      " |      ``x`` and ``y`` sticky edge lists for autoscaling.\n",
      " |      \n",
      " |      When performing autoscaling, if a data limit coincides with a value in\n",
      " |      the corresponding sticky_edges list, then no margin will be added--the\n",
      " |      view limit \"sticks\" to the edge. A typical use case is histograms,\n",
      " |      where one usually expects no margin on the bottom edge (0) of the\n",
      " |      histogram.\n",
      " |      \n",
      " |      This attribute cannot be assigned to; however, the ``x`` and ``y``\n",
      " |      lists can be modified in place as needed.\n",
      " |      \n",
      " |      Examples\n",
      " |      --------\n",
      " |      \n",
      " |      >>> artist.sticky_edges.x[:] = (xmin, xmax)\n",
      " |      >>> artist.sticky_edges.y[:] = (ymin, ymax)\n",
      " |  \n",
      " |  ----------------------------------------------------------------------\n",
      " |  Data descriptors inherited from matplotlib.artist.Artist:\n",
      " |  \n",
      " |  __dict__\n",
      " |      dictionary for instance variables (if defined)\n",
      " |  \n",
      " |  __weakref__\n",
      " |      list of weak references to the object (if defined)\n",
      " |  \n",
      " |  axes\n",
      " |      The `~.axes.Axes` instance the artist resides in, or *None*.\n",
      " |  \n",
      " |  mouseover\n",
      " |  \n",
      " |  stale\n",
      " |      Whether the artist is 'stale' and needs to be re-drawn for the output\n",
      " |      to match the internal state of the artist.\n",
      "\n"
     ]
    }
   ],
   "source": [
    "[str(t.get_position()[0]) for t in ax2.get_xticklabels()]"
   ],
   "metadata": {
    "collapsed": false
   }
  },
  {
   "cell_type": "code",
   "execution_count": 123,
   "outputs": [
    {
     "ename": "AttributeError",
     "evalue": "'str' object has no attribute 'get_position'",
     "output_type": "error",
     "traceback": [
      "\u001B[0;31m---------------------------------------------------------------------------\u001B[0m",
      "\u001B[0;31mAttributeError\u001B[0m                            Traceback (most recent call last)",
      "\u001B[0;32m<ipython-input-123-f5cb408d0d75>\u001B[0m in \u001B[0;36m<module>\u001B[0;34m\u001B[0m\n\u001B[0;32m----> 1\u001B[0;31m \u001B[0;34m[\u001B[0m\u001B[0mstr\u001B[0m\u001B[0;34m(\u001B[0m\u001B[0mt\u001B[0m\u001B[0;34m.\u001B[0m\u001B[0mget_position\u001B[0m\u001B[0;34m(\u001B[0m\u001B[0;34m)\u001B[0m\u001B[0;34m[\u001B[0m\u001B[0;36m0\u001B[0m\u001B[0;34m]\u001B[0m\u001B[0;34m)\u001B[0m \u001B[0;32mfor\u001B[0m \u001B[0mt\u001B[0m \u001B[0;32min\u001B[0m \u001B[0mticks\u001B[0m\u001B[0;34m]\u001B[0m\u001B[0;34m\u001B[0m\u001B[0;34m\u001B[0m\u001B[0m\n\u001B[0m",
      "\u001B[0;32m<ipython-input-123-f5cb408d0d75>\u001B[0m in \u001B[0;36m<listcomp>\u001B[0;34m(.0)\u001B[0m\n\u001B[0;32m----> 1\u001B[0;31m \u001B[0;34m[\u001B[0m\u001B[0mstr\u001B[0m\u001B[0;34m(\u001B[0m\u001B[0mt\u001B[0m\u001B[0;34m.\u001B[0m\u001B[0mget_position\u001B[0m\u001B[0;34m(\u001B[0m\u001B[0;34m)\u001B[0m\u001B[0;34m[\u001B[0m\u001B[0;36m0\u001B[0m\u001B[0;34m]\u001B[0m\u001B[0;34m)\u001B[0m \u001B[0;32mfor\u001B[0m \u001B[0mt\u001B[0m \u001B[0;32min\u001B[0m \u001B[0mticks\u001B[0m\u001B[0;34m]\u001B[0m\u001B[0;34m\u001B[0m\u001B[0;34m\u001B[0m\u001B[0m\n\u001B[0m",
      "\u001B[0;31mAttributeError\u001B[0m: 'str' object has no attribute 'get_position'"
     ]
    }
   ],
   "source": [
    "[str(t.get_position()[0]) for t in ticks]"
   ],
   "metadata": {
    "collapsed": false
   }
  },
  {
   "cell_type": "code",
   "execution_count": 286,
   "outputs": [
    {
     "data": {
      "text/plain": "(<matplotlib.colorbar.Colorbar at 0x7fb491291700>, 303.55047607421875)"
     },
     "execution_count": 286,
     "metadata": {},
     "output_type": "execute_result"
    },
    {
     "data": {
      "text/plain": "<Figure size 432x288 with 2 Axes>",
      "image/png": "[encoded data removed]"
     },
     "metadata": {},
     "output_type": "display_data"
    }
   ],
   "source": [
    "F_ = log_p_XY_n - log_r_XY_n\n",
    "\n",
    "log_Z = (r_XY_n[r_XY_n>0] * F[r_XY_n>0].exp()).sum()\n",
    "\n",
    "\n",
    "mean = (r_XY_n[r_XY_n>0] * F[r_XY_n>0].exp()).sum().item()\n",
    "mean_ = (r_XY_n[r_XY_n>0] * F_[r_XY_n>0]-(F_.mean()).exp()).sum().item()\n",
    "\n",
    "var = (F_.exp()-mean)**2\n",
    "\n",
    "\n",
    "epsilon = 1e-4\n",
    "plt.contourf(X,Y, (r_XY_n*(r_XY_n>epsilon)*(F.exp()-mean)**2).data.numpy())\n",
    "plt.colorbar(), mean"
   ],
   "metadata": {
    "collapsed": false
   }
  },
  {
   "cell_type": "code",
   "execution_count": 269,
   "outputs": [
    {
     "data": {
      "text/plain": "tensor(303.5505, grad_fn=<SumBackward0>)"
     },
     "execution_count": 269,
     "metadata": {},
     "output_type": "execute_result"
    }
   ],
   "source": [
    "log_Z"
   ],
   "metadata": {
    "collapsed": false
   }
  },
  {
   "cell_type": "code",
   "execution_count": 267,
   "outputs": [
    {
     "ename": "TypeError",
     "evalue": "rsub() received an invalid combination of arguments - got (Tensor, numpy.ndarray), but expected one of:\n * (Tensor input, Tensor other, *, Number alpha)\n * (Tensor input, Number other, Number alpha)\n",
     "output_type": "error",
     "traceback": [
      "\u001B[0;31m---------------------------------------------------------------------------\u001B[0m",
      "\u001B[0;31mTypeError\u001B[0m                                 Traceback (most recent call last)",
      "\u001B[0;32m<ipython-input-267-42ec5ebd7ed8>\u001B[0m in \u001B[0;36m<module>\u001B[0;34m\u001B[0m\n\u001B[1;32m      2\u001B[0m \u001B[0;34m\u001B[0m\u001B[0m\n\u001B[1;32m      3\u001B[0m \u001B[0mlevels\u001B[0m \u001B[0;34m=\u001B[0m \u001B[0mnp\u001B[0m\u001B[0;34m.\u001B[0m\u001B[0mlinspace\u001B[0m\u001B[0;34m(\u001B[0m\u001B[0;34m-\u001B[0m\u001B[0;36m1000\u001B[0m\u001B[0;34m,\u001B[0m \u001B[0;36m200\u001B[0m\u001B[0;34m,\u001B[0m \u001B[0;36m10\u001B[0m\u001B[0;34m)\u001B[0m\u001B[0;34m\u001B[0m\u001B[0;34m\u001B[0m\u001B[0m\n\u001B[0;32m----> 4\u001B[0;31m \u001B[0mc\u001B[0m\u001B[0;34m=\u001B[0m\u001B[0max\u001B[0m\u001B[0;34m[\u001B[0m\u001B[0;36m0\u001B[0m\u001B[0;34m]\u001B[0m\u001B[0;34m.\u001B[0m\u001B[0mcontourf\u001B[0m\u001B[0;34m(\u001B[0m\u001B[0mX\u001B[0m\u001B[0;34m,\u001B[0m\u001B[0mY\u001B[0m\u001B[0;34m,\u001B[0m \u001B[0mF\u001B[0m\u001B[0;34m.\u001B[0m\u001B[0mdata\u001B[0m\u001B[0;34m.\u001B[0m\u001B[0mnumpy\u001B[0m\u001B[0;34m(\u001B[0m\u001B[0;34m)\u001B[0m\u001B[0;34m-\u001B[0m\u001B[0mF\u001B[0m\u001B[0;34m.\u001B[0m\u001B[0mmean\u001B[0m\u001B[0;34m(\u001B[0m\u001B[0;34m)\u001B[0m\u001B[0;34m,\u001B[0m \u001B[0mlevels\u001B[0m\u001B[0;34m=\u001B[0m\u001B[0mlevels\u001B[0m\u001B[0;34m)\u001B[0m\u001B[0;34m\u001B[0m\u001B[0;34m\u001B[0m\u001B[0m\n\u001B[0m\u001B[1;32m      5\u001B[0m \u001B[0mc\u001B[0m \u001B[0;34m=\u001B[0m \u001B[0max\u001B[0m\u001B[0;34m[\u001B[0m\u001B[0;36m1\u001B[0m\u001B[0;34m]\u001B[0m\u001B[0;34m.\u001B[0m\u001B[0mcontourf\u001B[0m\u001B[0;34m(\u001B[0m\u001B[0mX\u001B[0m\u001B[0;34m,\u001B[0m\u001B[0mY\u001B[0m\u001B[0;34m,\u001B[0m \u001B[0mF_\u001B[0m\u001B[0;34m.\u001B[0m\u001B[0mdata\u001B[0m\u001B[0;34m.\u001B[0m\u001B[0mnumpy\u001B[0m\u001B[0;34m(\u001B[0m\u001B[0;34m)\u001B[0m\u001B[0;34m,\u001B[0m \u001B[0mlevels\u001B[0m\u001B[0;34m=\u001B[0m\u001B[0mlevels\u001B[0m\u001B[0;34m)\u001B[0m\u001B[0;34m\u001B[0m\u001B[0;34m\u001B[0m\u001B[0m\n\u001B[1;32m      6\u001B[0m \u001B[0mplt\u001B[0m\u001B[0;34m.\u001B[0m\u001B[0mcolorbar\u001B[0m\u001B[0;34m(\u001B[0m\u001B[0mc\u001B[0m\u001B[0;34m)\u001B[0m\u001B[0;34m\u001B[0m\u001B[0;34m\u001B[0m\u001B[0m\n",
      "\u001B[0;32m~/anaconda3/envs/dl-kit/lib/python3.8/site-packages/torch/_tensor.py\u001B[0m in \u001B[0;36m__rsub__\u001B[0;34m(self, other)\u001B[0m\n\u001B[1;32m    542\u001B[0m         \u001B[0;32mif\u001B[0m \u001B[0mhas_torch_function_variadic\u001B[0m\u001B[0;34m(\u001B[0m\u001B[0mself\u001B[0m\u001B[0;34m,\u001B[0m \u001B[0mother\u001B[0m\u001B[0;34m)\u001B[0m\u001B[0;34m:\u001B[0m\u001B[0;34m\u001B[0m\u001B[0;34m\u001B[0m\u001B[0m\n\u001B[1;32m    543\u001B[0m             \u001B[0;32mreturn\u001B[0m \u001B[0mhandle_torch_function\u001B[0m\u001B[0;34m(\u001B[0m\u001B[0mTensor\u001B[0m\u001B[0;34m.\u001B[0m\u001B[0m__rsub__\u001B[0m\u001B[0;34m,\u001B[0m \u001B[0;34m(\u001B[0m\u001B[0mself\u001B[0m\u001B[0;34m,\u001B[0m \u001B[0mother\u001B[0m\u001B[0;34m)\u001B[0m\u001B[0;34m,\u001B[0m \u001B[0mself\u001B[0m\u001B[0;34m,\u001B[0m \u001B[0mother\u001B[0m\u001B[0;34m)\u001B[0m\u001B[0;34m\u001B[0m\u001B[0;34m\u001B[0m\u001B[0m\n\u001B[0;32m--> 544\u001B[0;31m         \u001B[0;32mreturn\u001B[0m \u001B[0m_C\u001B[0m\u001B[0;34m.\u001B[0m\u001B[0m_VariableFunctions\u001B[0m\u001B[0;34m.\u001B[0m\u001B[0mrsub\u001B[0m\u001B[0;34m(\u001B[0m\u001B[0mself\u001B[0m\u001B[0;34m,\u001B[0m \u001B[0mother\u001B[0m\u001B[0;34m)\u001B[0m\u001B[0;34m\u001B[0m\u001B[0;34m\u001B[0m\u001B[0m\n\u001B[0m\u001B[1;32m    545\u001B[0m \u001B[0;34m\u001B[0m\u001B[0m\n\u001B[1;32m    546\u001B[0m     \u001B[0;32mdef\u001B[0m \u001B[0m__rdiv__\u001B[0m\u001B[0;34m(\u001B[0m\u001B[0mself\u001B[0m\u001B[0;34m,\u001B[0m \u001B[0mother\u001B[0m\u001B[0;34m)\u001B[0m\u001B[0;34m:\u001B[0m\u001B[0;34m\u001B[0m\u001B[0;34m\u001B[0m\u001B[0m\n",
      "\u001B[0;31mTypeError\u001B[0m: rsub() received an invalid combination of arguments - got (Tensor, numpy.ndarray), but expected one of:\n * (Tensor input, Tensor other, *, Number alpha)\n * (Tensor input, Number other, Number alpha)\n"
     ]
    },
    {
     "data": {
      "text/plain": "<Figure size 432x288 with 2 Axes>",
      "image/png": "[encoded data removed]"
     },
     "metadata": {},
     "output_type": "display_data"
    }
   ],
   "source": [
    "f, ax = plt.subplots(1,2)\n",
    "\n",
    "levels = np.linspace(-1000, 200, 10)\n",
    "c=ax[0].contourf(X,Y, (F-F.mean()).data.numpy(), levels=levels)\n",
    "c = ax[1].contourf(X,Y, F_.data.numpy(), levels=levels)\n",
    "plt.colorbar(c)\n"
   ],
   "metadata": {
    "collapsed": false
   }
  },
  {
   "cell_type": "code",
   "execution_count": 255,
   "outputs": [
    {
     "data": {
      "text/plain": "tensor(4.3980)"
     },
     "execution_count": 255,
     "metadata": {},
     "output_type": "execute_result"
    }
   ],
   "source": [
    "(r_XY_n*(F_.exp()-mean)**2).sum()"
   ],
   "metadata": {
    "collapsed": false
   }
  },
  {
   "cell_type": "code",
   "execution_count": 175,
   "outputs": [
    {
     "data": {
      "text/plain": "tensor(-0.0015, grad_fn=<SumBackward0>)"
     },
     "execution_count": 175,
     "metadata": {},
     "output_type": "execute_result"
    },
    {
     "data": {
      "text/plain": "<Figure size 720x720 with 1 Axes>",
      "image/png": "[encoded data removed]"
     },
     "metadata": {},
     "output_type": "display_data"
    }
   ],
   "source": [
    "f, ax = plt.subplots(1,1, figsize=(10,10))\n",
    "\n",
    "row = 128\n",
    "\n",
    "ax.plot(X[row,:], (log_p_XY[:,row]/n_dim).exp())\n",
    "\n",
    "(log_p_XY[:,row].exp()*(log_q_XY[:,row]-log_p_XY[:,row])).sum()\n",
    "\n",
    "\n"
   ],
   "metadata": {
    "collapsed": false
   }
  },
  {
   "cell_type": "code",
   "execution_count": 141,
   "outputs": [
    {
     "data": {
      "text/plain": "(tensor(6.8730), 6.594504714012146)"
     },
     "execution_count": 141,
     "metadata": {},
     "output_type": "execute_result"
    }
   ],
   "source": [
    "mi, I_xy"
   ],
   "metadata": {
    "collapsed": false
   }
  },
  {
   "cell_type": "code",
   "execution_count": 56,
   "outputs": [
    {
     "data": {
      "text/plain": "(tensor(-3.9311, grad_fn=<SumBackward0>), tensor(-7.3969), tensor(1.))"
     },
     "execution_count": 56,
     "metadata": {},
     "output_type": "execute_result"
    }
   ],
   "source": [
    "(p_XY[p_XY>0]*dist_results[\"anwj\"][\"log r(x,y)\"][p_XY>0]).sum(), (p_XY[p_XY>0]*dist_results[\"nwj\"][\"log r(x,y)\"][p_XY>0]).sum(), p_XY[p_XY>0].sum()"
   ],
   "metadata": {
    "collapsed": false
   }
  },
  {
   "cell_type": "code",
   "execution_count": 134,
   "metadata": {},
   "outputs": [
    {
     "data": {
      "text/plain": "<matplotlib.colorbar.Colorbar at 0x7fd36327f850>"
     },
     "execution_count": 134,
     "metadata": {},
     "output_type": "execute_result"
    },
    {
     "data": {
      "text/plain": "<Figure size 432x288 with 2 Axes>",
      "image/png": "[encoded data removed]"
     },
     "metadata": {},
     "output_type": "display_data"
    }
   ],
   "source": [
    "plt.contourf(X,Y, log_p_X/n_dim, levels=levels)\n",
    "plt.colorbar()"
   ]
  },
  {
   "cell_type": "markdown",
   "metadata": {},
   "source": [
    "# Barber-Agakov"
   ]
  },
  {
   "cell_type": "code",
   "execution_count": 135,
   "metadata": {},
   "outputs": [],
   "source": [
    "estimator = mi_estimators['ba']\n",
    "r_y_x = estimator.proposal\n",
    "\n",
    "r_y_X = r_y_x.condition(torch.FloatTensor(l).unsqueeze(-1).repeat(1,n_dim))\n",
    "r_Y_X = r_y_X.log_prob(torch.FloatTensor(l).unsqueeze(1).unsqueeze(-1).repeat(1,1,n_dim)).data.numpy()\n",
    "\n",
    "\n",
    "dist_results.append({\n",
    "    \"estimator\": \"ba\",\n",
    "    \"log r(y|x)\": r_Y_X,\n",
    "    \"f(x,y)\": r_Y_X*0,\n",
    "    }\n",
    ")\n"
   ]
  },
  {
   "cell_type": "code",
   "execution_count": 136,
   "metadata": {},
   "outputs": [
    {
     "data": {
      "text/plain": "<matplotlib.contour.QuadContourSet at 0x7fd362c20af0>"
     },
     "execution_count": 136,
     "metadata": {},
     "output_type": "execute_result"
    },
    {
     "data": {
      "text/plain": "<Figure size 432x288 with 1 Axes>",
      "image/png": "[encoded data removed]"
     },
     "metadata": {},
     "output_type": "display_data"
    }
   ],
   "source": [
    "plt.contourf(X,Y, r_Y_X, levels=levels, extend=\"max\")"
   ]
  },
  {
   "cell_type": "markdown",
   "metadata": {},
   "source": [
    "# Dual"
   ]
  },
  {
   "cell_type": "code",
   "execution_count": 137,
   "metadata": {},
   "outputs": [],
   "source": [
    "log_p_Y = p_xy.p_x.log_prob(torch.FloatTensor(l).unsqueeze(0).repeat(res,1).unsqueeze(-1)).sum(-1).T\n",
    "\n",
    "for name in [ \"nwj\", \"mine\", \"js\", \"cpc\", \"smile\", \"flo\"]:\n",
    "    if name not in mi_estimators:\n",
    "        continue\n",
    "    estimator = mi_estimators[name]\n",
    "\n",
    "    r_Y_X = log_p_Y\n",
    "    f_X_Y = estimator.ratio_estimator(\n",
    "        torch.Tensor(l).unsqueeze(-1).repeat(1, n_dim),\n",
    "        torch.Tensor(l).unsqueeze(0).unsqueeze(-1).repeat(res, 1, n_dim)).T.squeeze()\n",
    "\n",
    "    # if name == 'cpc':\n",
    "    #     f_X_Y -= torch.logsumexp(f_X_Y, -1).unsqueeze(-1)-2*np.log(res)\n",
    "\n",
    "    dist_results.append({\n",
    "        \"estimator\": name,\n",
    "        \"log r(y|x)\": r_Y_X.data.numpy(),\n",
    "        \"f(x,y)\": f_X_Y.data.numpy(),\n",
    "        }\n",
    "    )\n"
   ]
  },
  {
   "cell_type": "code",
   "execution_count": 138,
   "metadata": {},
   "outputs": [],
   "source": [
    "for name in [ \"flo\"]:\n",
    "    if name not in mi_estimators:\n",
    "        continue\n",
    "    estimator = mi_estimators[name]\n",
    "\n",
    "    r_Y_X = p_xy.p_x.log_prob(torch.FloatTensor(l).unsqueeze(0).repeat(res,1).unsqueeze(-1)).sum(-1).T\n",
    "    f_X_Y = estimator.baseline(None,\n",
    "        torch.Tensor(l).unsqueeze(-1).repeat(1, n_dim),\n",
    "        torch.Tensor(l).unsqueeze(0).unsqueeze(-1).repeat(res, 1, n_dim)).T.squeeze()\n",
    "\n",
    "    # if name == 'cpc':\n",
    "    #     f_X_Y -= torch.logsumexp(f_X_Y, -1).unsqueeze(-1)-2*np.log(res)\n",
    "\n",
    "    dist_results.append({\n",
    "        \"estimator\": name,\n",
    "        \"log r(y|x)\": r_Y_X.data.numpy(),\n",
    "        \"f(x,y)\": f_X_Y.data.numpy(),\n",
    "        }\n",
    "    )"
   ]
  },
  {
   "cell_type": "code",
   "execution_count": 80,
   "metadata": {},
   "outputs": [
    {
     "name": "stderr",
     "output_type": "stream",
     "text": [
      "<ipython-input-80-d24263dd95c7>:12: UserWarning: To copy construct from a tensor, it is recommended to use sourceTensor.clone().detach() or sourceTensor.clone().detach().requires_grad_(True), rather than torch.tensor(sourceTensor).\n",
      "  log_p_A0_X = p_a_x.condition(torch.tensor(X)).log_prob(torch.zeros(X.shape))*n_dim\n",
      "<ipython-input-80-d24263dd95c7>:13: UserWarning: To copy construct from a tensor, it is recommended to use sourceTensor.clone().detach() or sourceTensor.clone().detach().requires_grad_(True), rather than torch.tensor(sourceTensor).\n",
      "  log_p_A1_X = p_a_x.condition(torch.tensor(X)).log_prob(torch.ones(X.shape))*n_dim\n"
     ]
    },
    {
     "ename": "AttributeError",
     "evalue": "'dict' object has no attribute 'append'",
     "output_type": "error",
     "traceback": [
      "\u001B[0;31m---------------------------------------------------------------------------\u001B[0m",
      "\u001B[0;31mAttributeError\u001B[0m                            Traceback (most recent call last)",
      "\u001B[0;32m<ipython-input-80-d24263dd95c7>\u001B[0m in \u001B[0;36m<module>\u001B[0;34m\u001B[0m\n\u001B[1;32m     21\u001B[0m     \u001B[0;31m#     f_X_Y -= torch.logsumexp(f_X_Y, -1).unsqueeze(-1)-2*np.log(res)\u001B[0m\u001B[0;34m\u001B[0m\u001B[0;34m\u001B[0m\u001B[0;34m\u001B[0m\u001B[0m\n\u001B[1;32m     22\u001B[0m \u001B[0;34m\u001B[0m\u001B[0m\n\u001B[0;32m---> 23\u001B[0;31m     dist_results.append({\n\u001B[0m\u001B[1;32m     24\u001B[0m         \u001B[0;34m\"estimator\"\u001B[0m\u001B[0;34m:\u001B[0m \u001B[0mname\u001B[0m\u001B[0;34m,\u001B[0m\u001B[0;34m\u001B[0m\u001B[0;34m\u001B[0m\u001B[0m\n\u001B[1;32m     25\u001B[0m         \u001B[0;34m\"log r(y|x)\"\u001B[0m\u001B[0;34m:\u001B[0m \u001B[0mr_Y_X\u001B[0m\u001B[0;34m.\u001B[0m\u001B[0mdata\u001B[0m\u001B[0;34m.\u001B[0m\u001B[0mnumpy\u001B[0m\u001B[0;34m(\u001B[0m\u001B[0;34m)\u001B[0m\u001B[0;34m,\u001B[0m\u001B[0;34m\u001B[0m\u001B[0;34m\u001B[0m\u001B[0m\n",
      "\u001B[0;31mAttributeError\u001B[0m: 'dict' object has no attribute 'append'"
     ]
    }
   ],
   "source": [
    "for name in [\"anwj\"]:\n",
    "    if name not in mi_estimators:\n",
    "        continue\n",
    "    estimator = mi_estimators[name]\n",
    "\n",
    "    Y_ = torch.Tensor(Y).unsqueeze(-1).repeat(1,1,n_dim)\n",
    "    p_a_Y = estimator.predictive.condition(Y_)\n",
    "    log_p_A0_Y = p_a_Y.log_prob(torch.zeros(Y_.shape))\n",
    "    log_p_A0 = log_p_A1 = -n_dim*np.log(2)\n",
    "    log_p_A1_Y = p_a_Y.log_prob(torch.ones(Y_.shape))\n",
    "\n",
    "    log_p_A0_X = p_a_x.condition(torch.tensor(X)).log_prob(torch.zeros(X.shape))*n_dim\n",
    "    log_p_A1_X = p_a_x.condition(torch.tensor(X)).log_prob(torch.ones(X.shape))*n_dim\n",
    "\n",
    "    r_Y_X = ((log_p_A0_X+log_p_A0_Y+log_p_Y-log_p_A0).exp() + (log_p_A1_X+log_p_A1_Y+log_p_Y-log_p_A1).exp()).log()\n",
    "    f_X_Y = estimator.ratio_estimator(\n",
    "        torch.Tensor(l).unsqueeze(-1).repeat(1, n_dim),\n",
    "        torch.Tensor(l).unsqueeze(0).unsqueeze(-1).repeat(res, 1, n_dim)).T.squeeze()\n",
    "\n",
    "    # if name == 'cpc':\n",
    "    #     f_X_Y -= torch.logsumexp(f_X_Y, -1).unsqueeze(-1)-2*np.log(res)\n",
    "\n",
    "    dist_results.append({\n",
    "        \"estimator\": name,\n",
    "        \"log r(y|x)\": r_Y_X.data.numpy(),\n",
    "        \"f(x,y)\": f_X_Y.data.numpy(),\n",
    "        }\n",
    "    )"
   ]
  },
  {
   "cell_type": "code",
   "execution_count": 140,
   "metadata": {},
   "outputs": [
    {
     "data": {
      "text/plain": "[<matplotlib.lines.Line2D at 0x7fd369483400>]"
     },
     "execution_count": 140,
     "metadata": {},
     "output_type": "execute_result"
    },
    {
     "data": {
      "text/plain": "<Figure size 432x288 with 1 Axes>",
      "image/png": "[encoded data removed]"
     },
     "metadata": {},
     "output_type": "display_data"
    }
   ],
   "source": [
    "plt.plot(log_p_A0_X[0,:])"
   ]
  },
  {
   "cell_type": "code",
   "execution_count": 141,
   "metadata": {},
   "outputs": [
    {
     "data": {
      "text/plain": "torch.Size([512, 512])"
     },
     "execution_count": 141,
     "metadata": {},
     "output_type": "execute_result"
    }
   ],
   "source": [
    "p_a_Y.log_prob(torch.zeros(Y_.shape)).shape"
   ]
  },
  {
   "cell_type": "code",
   "execution_count": 142,
   "metadata": {},
   "outputs": [
    {
     "data": {
      "text/plain": "<matplotlib.contour.QuadContourSet at 0x7fd3698b3190>"
     },
     "execution_count": 142,
     "metadata": {},
     "output_type": "execute_result"
    },
    {
     "data": {
      "text/plain": "<Figure size 1080x360 with 3 Axes>",
      "image/png": "[encoded data removed]"
     },
     "metadata": {},
     "output_type": "display_data"
    }
   ],
   "source": [
    "f, ax = plt.subplots(1,3, figsize=(15,5))\n",
    "\n",
    "ax[0].contourf(X,Y,log_p_A0_X)\n",
    "ax[1].contourf(X,Y,log_p_A0_Y.data.numpy())\n",
    "ax[2].contourf(X,Y,log_p_Y)"
   ]
  },
  {
   "cell_type": "code",
   "execution_count": 143,
   "metadata": {},
   "outputs": [
    {
     "data": {
      "text/plain": "[<matplotlib.lines.Line2D at 0x7fd36949c670>]"
     },
     "execution_count": 143,
     "metadata": {},
     "output_type": "execute_result"
    },
    {
     "data": {
      "text/plain": "<Figure size 432x288 with 1 Axes>",
      "image/png": "[encoded data removed]"
     },
     "metadata": {},
     "output_type": "display_data"
    }
   ],
   "source": [
    "plt.plot(Y[:,0], np.exp(log_p_Y[:,0]/n_dim))\n",
    "plt.plot(Y[:,0], np.exp(r_Y_X.data.numpy()[:,0]/n_dim))"
   ]
  },
  {
   "cell_type": "code",
   "execution_count": 144,
   "metadata": {},
   "outputs": [
    {
     "data": {
      "text/plain": "(torch.Size([512, 5]), torch.Size([512, 512, 5]), torch.Size([512, 512]))"
     },
     "execution_count": 144,
     "metadata": {},
     "output_type": "execute_result"
    }
   ],
   "source": [
    "torch.Tensor(l).unsqueeze(-1).repeat(1, n_dim).shape,torch.Tensor(l).unsqueeze(0).unsqueeze(-1).repeat(res, 1, n_dim).shape, f_X_Y.shape"
   ]
  },
  {
   "cell_type": "code",
   "execution_count": 144,
   "metadata": {},
   "outputs": [],
   "source": []
  },
  {
   "cell_type": "code",
   "execution_count": 145,
   "metadata": {},
   "outputs": [
    {
     "data": {
      "text/plain": "<matplotlib.colorbar.Colorbar at 0x7fd360bd1670>"
     },
     "execution_count": 145,
     "metadata": {},
     "output_type": "execute_result"
    },
    {
     "data": {
      "text/plain": "<Figure size 432x288 with 2 Axes>",
      "image/png": "[encoded data removed]"
     },
     "metadata": {},
     "output_type": "display_data"
    }
   ],
   "source": [
    "plt.contourf(X,Y, f_X_Y.data.numpy(), extend=\"max\", levels=levels)\n",
    "plt.colorbar()"
   ]
  },
  {
   "cell_type": "markdown",
   "metadata": {},
   "source": [
    "# Primal+Dual"
   ]
  },
  {
   "cell_type": "code",
   "execution_count": 146,
   "metadata": {},
   "outputs": [],
   "source": [
    "for name in [\"pnwj\", \"pmine\", \"psmile\", \"pjs\", \"pcpc\"]:\n",
    "    if name not in mi_estimators:\n",
    "        continue\n",
    "    estimator = mi_estimators[name]\n",
    "\n",
    "    r_Y_X = estimator.proposal.condition(torch.FloatTensor(l).unsqueeze(-1).repeat(1,n_dim)).log_prob(\n",
    "        torch.FloatTensor(l).unsqueeze(1).unsqueeze(-1).repeat(1,1,n_dim)\n",
    "    ).data\n",
    "\n",
    "    f_X_Y = estimator.ratio_estimator(\n",
    "        torch.Tensor(l).unsqueeze(-1).repeat(1, n_dim),\n",
    "        torch.Tensor(l).unsqueeze(0).unsqueeze(-1).repeat(res, 1, n_dim)).T.squeeze()\n",
    "\n",
    "    dist_results.append({\n",
    "        \"estimator\": name,\n",
    "        \"log r(y|x)\": r_Y_X.data.numpy(),\n",
    "        \"f(x,y)\": f_X_Y.data.numpy(),\n",
    "        }\n",
    "    )\n"
   ]
  },
  {
   "cell_type": "code",
   "execution_count": 147,
   "metadata": {},
   "outputs": [],
   "source": [
    "# estimator = mi_estimators[name]\n",
    "#\n",
    "# r_X_Y = Normal(0,1).log_prob(torch.FloatTensor(l)).unsqueeze(0).repeat(res,1)\n",
    "# f_X_Y = estimator.ratio_estimator(\n",
    "#     torch.Tensor(l).unsqueeze(-1).repeat(1, n_dim),\n",
    "#     torch.Tensor(l).unsqueeze(0).unsqueeze(-1).repeat(res, 1, n_dim)).squeeze()\n",
    "#\n",
    "# # q_x_y = estimator.r_x_y\n",
    "# #\n",
    "# # q_x_Y = q_x_y.condition(torch.FloatTensor(l).unsqueeze(-1).repeat(1,n_dim))\n",
    "# # q_X_Y = q_x_Y.log_prob(torch.FloatTensor(l).unsqueeze(1).unsqueeze(-1).repeat(1,1,n_dim)).data\n",
    "#\n",
    "# log_Z = torch.logsumexp((f_X_Y + r_X_Y), 0).mean()-np.log(res)\n",
    "#\n",
    "# dist_results.append({\n",
    "#     \"estimator\": name,\n",
    "#     \"log r(x|y)\": r_X_Y.data.numpy(),\n",
    "#     \"f(x,y) - log Z\": (f_X_Y-log_Z).data.numpy(),\n",
    "#     }\n",
    "# )\n"
   ]
  },
  {
   "cell_type": "code",
   "execution_count": 148,
   "metadata": {},
   "outputs": [
    {
     "data": {
      "text/plain": "<Figure size 1080x1440 with 12 Axes>",
      "image/png": "[encoded data removed]"
     },
     "metadata": {},
     "output_type": "display_data"
    }
   ],
   "source": [
    "imgsize=5\n",
    "f, ax = plt.subplots(len(dist_results), 3, figsize=(imgsize*3, imgsize*len(dist_results)))\n",
    "\n",
    "if ax.ndim==1:\n",
    "    ax = ax.reshape(1,-1)\n",
    "\n",
    "ax[0,0].set_title(\"$\\\\log\\\\ p(x)r(y|x)$\", fontsize=15)\n",
    "ax[0,1].set_title(\"$f(x,y)$\", fontsize=15)\n",
    "# ax[0,2].set_title(\"$\\\\log\\\\ q(y|x) $\", fontsize=15)\n",
    "ax[0,2].set_title(\"$\\\\log\\\\ p(x)q(y|x)$\", fontsize=15)\n",
    "\n",
    "levels = np.linspace(-8,2, 8)\n",
    "\n",
    "log_p_XY = p_xy.log_prob(torch.cat([\n",
    "    torch.FloatTensor(X).view(-1,1),\n",
    "    torch.FloatTensor(Y).view(-1,1),\n",
    "], -1).unsqueeze(1).repeat(1,n_dim, 1)).sum(1).view(res,res).data.numpy()\n",
    "\n",
    "for i, dist_result in enumerate(dist_results):\n",
    "    log_r_Y_X = dist_result[\"log r(y|x)\"]\n",
    "    f = dist_result[\"f(x,y)\"]\n",
    "    # f_clamp = torch.clamp(torch.FloatTensor(dist_result[\"f(x,y)\"]), -1000, 1000).data.numpy()\n",
    "\n",
    "    # log_Z_r = torch.logsumexp(torch.FloatTensor(log_r_Y_X + log_p_X).view(-1), 0).item()\n",
    "    # log_Z_q = torch.logsumexp(torch.FloatTensor(log_r_Y_X + f + log_p_X).reshape(-1), 0).item()\n",
    "\n",
    "    ax[i,0].contourf(X, Y, (log_r_Y_X+log_p_X) / n_dim, levels=levels, extend=\"max\")\n",
    "    ax[i,1].contourf(X,Y, f/n_dim , levels=levels, extend=\"max\")\n",
    "    # c = ax[i,2].contourf(X, Y, (f + log_r_Y_X) / n_dim, levels=levels, extend=\"max\")\n",
    "    ax[i,2].contourf(X, Y, (log_p_X + log_r_Y_X + f) / n_dim, levels=levels, extend=\"max\")\n",
    "    # ax[i,3].contourf(X, Y, (log_p_XY - log_p_X - log_r_Y_X) / n_dim, levels=levels, extend=\"max\")\n",
    "    ax[i,0].set_ylabel(name_lookup[dist_result[\"estimator\"]], fontsize=15)\n"
   ]
  },
  {
   "cell_type": "code",
   "execution_count": 88,
   "metadata": {},
   "outputs": [
    {
     "data": {
      "text/plain": [
       "<matplotlib.contour.QuadContourSet at 0x7fd362d37220>"
      ]
     },
     "execution_count": 88,
     "metadata": {},
     "output_type": "execute_result"
    },
    {
     "data": {
      "image/png": "[encoded data removed]",
      "text/plain": [
       "<Figure size 1080x360 with 3 Axes>"
      ]
     },
     "metadata": {},
     "output_type": "display_data"
    }
   ],
   "source": [
    "f, ax = plt.subplots(1,3, figsize=(3*imgsize, imgsize))\n",
    "\n",
    "ax[0].set_title(\"$\\\\log\\\\ p(x) $\", fontsize=15)\n",
    "ax[1].set_title(\"$\\\\log\\\\ p(y|x) $\", fontsize=15)\n",
    "ax[2].set_title(\"$\\\\log\\\\ p(x,y) $\", fontsize=15)\n",
    "\n",
    "\n",
    "log_p_XY = p_xy.log_prob(torch.cat([\n",
    "    torch.FloatTensor(X).view(-1,1),\n",
    "    torch.FloatTensor(Y).view(-1,1),\n",
    "], -1).unsqueeze(1).repeat(1,n_dim, 1)).sum(1).view(res,res).data.numpy()\n",
    "\n",
    "# log_Z_X = torch.logsumexp(log_p_X.reshape(-1), -1)\n",
    "# log_Z_XY = torch.logsumexp(log_p_XY.view(-1), -1)\n",
    "\n",
    "ax[0].contourf(X,Y, log_p_X/n_dim, levels=levels)\n",
    "ax[1].contourf(X,Y, (log_p_XY-log_p_X)/n_dim, levels=levels)\n",
    "ax[2].contourf(X,Y, log_p_XY/n_dim, levels=levels)"
   ]
  },
  {
   "cell_type": "code",
   "execution_count": 64,
   "metadata": {},
   "outputs": [
    {
     "data": {
      "text/plain": [
       "array([[-143.82942, -141.99588, -140.17462, ..., -140.17462, -141.99588,\n",
       "        -143.82942],\n",
       "       [-143.82942, -141.99588, -140.17462, ..., -140.17462, -141.99588,\n",
       "        -143.82942],\n",
       "       [-143.82942, -141.99588, -140.17462, ..., -140.17462, -141.99588,\n",
       "        -143.82942],\n",
       "       ...,\n",
       "       [-143.82942, -141.99588, -140.17462, ..., -140.17462, -141.99588,\n",
       "        -143.82942],\n",
       "       [-143.82942, -141.99588, -140.17462, ..., -140.17462, -141.99588,\n",
       "        -143.82942],\n",
       "       [-143.82942, -141.99588, -140.17462, ..., -140.17462, -141.99588,\n",
       "        -143.82942]], dtype=float32)"
      ]
     },
     "execution_count": 64,
     "metadata": {},
     "output_type": "execute_result"
    }
   ],
   "source": [
    "log_p_X"
   ]
  },
  {
   "cell_type": "code",
   "execution_count": 65,
   "metadata": {},
   "outputs": [
    {
     "ename": "TypeError",
     "evalue": "chunk(): argument 'input' (position 1) must be Tensor, not tuple",
     "output_type": "error",
     "traceback": [
      "\u001B[0;31m---------------------------------------------------------------------------\u001B[0m",
      "\u001B[0;31mTypeError\u001B[0m                                 Traceback (most recent call last)",
      "\u001B[0;32m<ipython-input-65-5da2a474e7be>\u001B[0m in \u001B[0;36m<module>\u001B[0;34m\u001B[0m\n\u001B[0;32m----> 1\u001B[0;31m \u001B[0mx\u001B[0m\u001B[0;34m,\u001B[0m \u001B[0my\u001B[0m \u001B[0;34m=\u001B[0m \u001B[0mtorch\u001B[0m\u001B[0;34m.\u001B[0m\u001B[0mchunk\u001B[0m\u001B[0;34m(\u001B[0m\u001B[0mp_xy\u001B[0m\u001B[0;34m.\u001B[0m\u001B[0msample\u001B[0m\u001B[0;34m(\u001B[0m\u001B[0;34m[\u001B[0m\u001B[0;36m1000000\u001B[0m\u001B[0;34m]\u001B[0m\u001B[0;34m)\u001B[0m\u001B[0;34m,\u001B[0m \u001B[0;36m2\u001B[0m\u001B[0;34m,\u001B[0m \u001B[0;34m-\u001B[0m\u001B[0;36m1\u001B[0m\u001B[0;34m)\u001B[0m\u001B[0;34m\u001B[0m\u001B[0;34m\u001B[0m\u001B[0m\n\u001B[0m\u001B[1;32m      2\u001B[0m \u001B[0mx\u001B[0m \u001B[0;34m=\u001B[0m \u001B[0mx\u001B[0m\u001B[0;34m.\u001B[0m\u001B[0msqueeze\u001B[0m\u001B[0;34m(\u001B[0m\u001B[0;34m)\u001B[0m\u001B[0;34m\u001B[0m\u001B[0;34m\u001B[0m\u001B[0m\n\u001B[1;32m      3\u001B[0m \u001B[0my\u001B[0m \u001B[0;34m=\u001B[0m \u001B[0my\u001B[0m\u001B[0;34m.\u001B[0m\u001B[0msqueeze\u001B[0m\u001B[0;34m(\u001B[0m\u001B[0;34m)\u001B[0m\u001B[0;34m\u001B[0m\u001B[0;34m\u001B[0m\u001B[0m\n\u001B[1;32m      4\u001B[0m \u001B[0;34m\u001B[0m\u001B[0m\n\u001B[1;32m      5\u001B[0m \u001B[0mx_\u001B[0m \u001B[0;34m=\u001B[0m \u001B[0mmi_estimators\u001B[0m\u001B[0;34m[\u001B[0m\u001B[0;34m\"pnwj\"\u001B[0m\u001B[0;34m]\u001B[0m\u001B[0;34m.\u001B[0m\u001B[0msample_negatives\u001B[0m\u001B[0;34m(\u001B[0m\u001B[0mx\u001B[0m\u001B[0;34m,\u001B[0m\u001B[0my\u001B[0m\u001B[0;34m.\u001B[0m\u001B[0munsqueeze\u001B[0m\u001B[0;34m(\u001B[0m\u001B[0;36m1\u001B[0m\u001B[0;34m)\u001B[0m\u001B[0;34m)\u001B[0m\u001B[0;34m\u001B[0m\u001B[0;34m\u001B[0m\u001B[0m\n",
      "\u001B[0;31mTypeError\u001B[0m: chunk(): argument 'input' (position 1) must be Tensor, not tuple"
     ]
    }
   ],
   "source": [
    "x, y = torch.chunk(p_xy.sample([1000000]), 2, -1)\n",
    "x = x.squeeze()\n",
    "y = y.squeeze()\n",
    "\n",
    "x_ = mi_estimators[\"pnwj\"].sample_negatives(x,y.unsqueeze(1))\n",
    "#\n",
    "# plt.plot(x[:,0], y[:,0], '.', label='p(x|y)', alpha=0.1)\n",
    "# plt.plot(x_[:,0,0], y[:,0], '.', label='r(x|y)', alpha=0.1)\n",
    "# plt.legend(fontsize=15)"
   ]
  },
  {
   "cell_type": "code",
   "execution_count": null,
   "metadata": {},
   "outputs": [],
   "source": [
    "m = -4\n",
    "M = 4\n",
    "res = 32\n",
    "X, Y = np.meshgrid(np.linspace(m,M, res),np.linspace(m,M, res))\n",
    "density, _, _ = np.histogram2d(x[:,0].data.numpy(), y[:,0].data.numpy(), range=[[m,M],[m,M]], bins=res)\n",
    "density_2, _, _ = np.histogram2d(x_[:,0,0].data.numpy(), y[:,0].data.numpy(), range=[[m,M],[m,M]], bins=res)\n",
    "\n",
    "f_ = mi_estimators[\"pnwj\"].ratio_estimator(\n",
    "    torch.linspace(m,M,res).unsqueeze(-1).repeat(1,n_dim),\n",
    "    torch.linspace(m,M,res).unsqueeze(0).unsqueeze(-1).repeat(res,1,n_dim)).squeeze().data.numpy()\n",
    "\n",
    "log_Z = (mi_estimators[\"pnwj\"].ratio_estimator(x_[:2048],y[:2048].unsqueeze(1))-1).exp().mean().item()\n",
    "\n",
    "fig, ax = plt.subplots(1,4,figsize=(20,5))\n",
    "ax[0].contourf(X,Y, density)\n",
    "ax[1].contourf(X,Y, density_2)\n",
    "c = ax[2].contourf(X,Y, density/density_2, levels=[0,0.9,1.1,2])\n",
    "c = ax[3].contourf(X,Y, f_+log_Z, levels=[0,0.9,1.1,2])\n",
    "\n",
    "ax[0].set_title(\"$p(x,y)$\", fontsize=15)\n",
    "ax[1].set_title(\"$r(x|y)p(y)$\", fontsize=15)\n",
    "ax[2].set_title(\"$p(x|y)/r(x|y)$\", fontsize=15)\n",
    "ax[3].set_title(\"$f(x,y)+\\\\log Z$\", fontsize=15)\n",
    "\n",
    "fig.colorbar(c, ax=ax[3])\n"
   ]
  },
  {
   "cell_type": "code",
   "execution_count": 32,
   "metadata": {},
   "outputs": [
    {
     "data": {
      "image/png": "[encoded data removed]",
      "text/plain": [
       "<Figure size 432x288 with 1 Axes>"
      ]
     },
     "metadata": {},
     "output_type": "display_data"
    }
   ],
   "source": [
    "for i in range(1,15):\n",
    "    s_x = x[:2**i]\n",
    "    s_y = y[:2**i].unsqueeze(1)\n",
    "    s_x_ = mi_estimators[\"pnwj\"].sample_negatives(s_x,s_y)\n",
    "    f_ = mi_estimators[\"pnwj\"].ratio_estimator(s_x_,s_y)\n",
    "    f = mi_estimators[\"pnwj\"].ratio_estimator(s_x,s_y)\n",
    "    b = mi_estimators[\"pnwj\"].baseline(f_, y).unsqueeze(1)\n",
    "    n = torch.FloatTensor(f).mean() - (f_-1).exp().mean()\n",
    "    n_,_ = NWJ.forward(mi_estimators[\"pnwj\"], s_x, s_y)\n",
    "\n",
    "\n",
    "    plt.plot(2**i, n.item(), 'Xk')\n",
    "    plt.plot(2**i, n_.item(), 'or')\n",
    "\n",
    "plt.xscale(\"log\")"
   ]
  },
  {
   "cell_type": "code",
   "execution_count": 23,
   "metadata": {},
   "outputs": [
    {
     "data": {
      "text/plain": [
       "(torch.Size([16384, 1, 1]),\n",
       " torch.Size([16384, 2]),\n",
       " torch.Size([16384, 1, 2]),\n",
       " torch.Size([16384, 1, 2]))"
      ]
     },
     "execution_count": 23,
     "metadata": {},
     "output_type": "execute_result"
    }
   ],
   "source": [
    "f_.shape, s_x.shape, s_y.shape, s_x_.shape,"
   ]
  },
  {
   "cell_type": "code",
   "execution_count": 26,
   "metadata": {},
   "outputs": [
    {
     "data": {
      "text/plain": [
       "torch.Size([16384, 1])"
      ]
     },
     "execution_count": 26,
     "metadata": {},
     "output_type": "execute_result"
    }
   ],
   "source": [
    ".shape"
   ]
  },
  {
   "cell_type": "code",
   "execution_count": 50,
   "metadata": {},
   "outputs": [
    {
     "data": {
      "text/plain": [
       "(tensor(1.1730, grad_fn=<MeanBackward0>),\n",
       " tensor(1.3298, grad_fn=<MeanBackward0>))"
      ]
     },
     "execution_count": 50,
     "metadata": {},
     "output_type": "execute_result"
    },
    {
     "data": {
      "image/png": "[encoded data removed]",
      "text/plain": [
       "<Figure size 432x288 with 1 Axes>"
      ]
     },
     "metadata": {},
     "output_type": "display_data"
    }
   ],
   "source": [
    "f = mi_estimators['pnwj'].ratio_estimator(x,y.unsqueeze(1))\n",
    "f_ = mi_estimators['pnwj'].ratio_estimator(x_,y.unsqueeze(1))\n",
    "\n",
    "\n",
    "plt.hist(f.view(-1).data, bins=100);\n",
    "plt.hist(f_.view(-1).data, bins=100);\n",
    "\n",
    "f.mean(), (f_-1).exp().mean()"
   ]
  },
  {
   "cell_type": "code",
   "execution_count": 102,
   "metadata": {},
   "outputs": [
    {
     "ename": "KeyError",
     "evalue": "'smile'",
     "output_type": "error",
     "traceback": [
      "\u001B[0;31m---------------------------------------------------------------------------\u001B[0m",
      "\u001B[0;31mKeyError\u001B[0m                                  Traceback (most recent call last)",
      "\u001B[0;32m<ipython-input-102-61aac11c04bf>\u001B[0m in \u001B[0;36m<module>\u001B[0;34m\u001B[0m\n\u001B[0;32m----> 1\u001B[0;31m \u001B[0mmi_estimator\u001B[0m \u001B[0;34m=\u001B[0m \u001B[0mmi_estimators\u001B[0m\u001B[0;34m[\u001B[0m\u001B[0;34m\"smile\"\u001B[0m\u001B[0;34m]\u001B[0m\u001B[0;34m\u001B[0m\u001B[0;34m\u001B[0m\u001B[0m\n\u001B[0m\u001B[1;32m      2\u001B[0m \u001B[0mmi_estimator\u001B[0m\u001B[0;34m.\u001B[0m\u001B[0meval\u001B[0m\u001B[0;34m(\u001B[0m\u001B[0;34m)\u001B[0m\u001B[0;34m\u001B[0m\u001B[0;34m\u001B[0m\u001B[0m\n\u001B[1;32m      3\u001B[0m \u001B[0;34m\u001B[0m\u001B[0m\n\u001B[1;32m      4\u001B[0m \u001B[0mmi_values\u001B[0m \u001B[0;34m=\u001B[0m \u001B[0;34m[\u001B[0m\u001B[0;34m]\u001B[0m\u001B[0;34m\u001B[0m\u001B[0;34m\u001B[0m\u001B[0m\n\u001B[1;32m      5\u001B[0m \u001B[0;32mfor\u001B[0m \u001B[0m_\u001B[0m \u001B[0;32min\u001B[0m \u001B[0mtqdm\u001B[0m\u001B[0;34m(\u001B[0m\u001B[0mrange\u001B[0m\u001B[0;34m(\u001B[0m\u001B[0mn_batches\u001B[0m\u001B[0;34m)\u001B[0m\u001B[0;34m)\u001B[0m\u001B[0;34m:\u001B[0m\u001B[0;34m\u001B[0m\u001B[0;34m\u001B[0m\u001B[0m\n",
      "\u001B[0;31mKeyError\u001B[0m: 'smile'"
     ]
    }
   ],
   "source": [
    "mi_estimator = mi_estimators[\"smile\"]\n",
    "mi_estimator.eval()\n",
    "\n",
    "mi_values = []\n",
    "for _ in tqdm(range(n_batches)):\n",
    "    batch_size = 128\n",
    "    x, y = torch.chunk(p_xy.sample([batch_size]), 2, -1)\n",
    "    x = x.squeeze()\n",
    "    y = y.squeeze()\n",
    "    for tau in np.linspace(0, 10, 10):\n",
    "        mi_estimator.tau=tau\n",
    "        mi_value, _ = mi_estimator(x,y)\n",
    "        mi_values.append(\n",
    "            {\n",
    "                \"value\": mi_value.item(),\n",
    "                \"tau\": tau\n",
    "            })\n",
    "\n"
   ]
  },
  {
   "cell_type": "code",
   "execution_count": null,
   "metadata": {},
   "outputs": [],
   "source": []
  },
  {
   "cell_type": "code",
   "execution_count": 81,
   "metadata": {},
   "outputs": [
    {
     "data": {
      "application/vnd.jupyter.widget-view+json": {
       "model_id": "5d10eadfc1ae40d4bf400b73dc10f0d9",
       "version_major": 2,
       "version_minor": 0
      },
      "text/plain": [
       "HBox(children=(FloatProgress(value=0.0, max=2000.0), HTML(value='')))"
      ]
     },
     "metadata": {},
     "output_type": "display_data"
    },
    {
     "name": "stdout",
     "output_type": "stream",
     "text": [
      "\n"
     ]
    },
    {
     "data": {
      "application/vnd.jupyter.widget-view+json": {
       "model_id": "49a91a1f17f846d09d78792093092dfd",
       "version_major": 2,
       "version_minor": 0
      },
      "text/plain": [
       "HBox(children=(FloatProgress(value=0.0, max=2000.0), HTML(value='')))"
      ]
     },
     "metadata": {},
     "output_type": "display_data"
    },
    {
     "name": "stdout",
     "output_type": "stream",
     "text": [
      "\n"
     ]
    },
    {
     "data": {
      "application/vnd.jupyter.widget-view+json": {
       "model_id": "59c12eee5ef44aeba7e404c503205630",
       "version_major": 2,
       "version_minor": 0
      },
      "text/plain": [
       "HBox(children=(FloatProgress(value=0.0, max=2000.0), HTML(value='')))"
      ]
     },
     "metadata": {},
     "output_type": "display_data"
    },
    {
     "name": "stdout",
     "output_type": "stream",
     "text": [
      "\n"
     ]
    },
    {
     "data": {
      "application/vnd.jupyter.widget-view+json": {
       "model_id": "c289af502af740a293a188f4f6439ab7",
       "version_major": 2,
       "version_minor": 0
      },
      "text/plain": [
       "HBox(children=(FloatProgress(value=0.0, max=2000.0), HTML(value='')))"
      ]
     },
     "metadata": {},
     "output_type": "display_data"
    },
    {
     "name": "stdout",
     "output_type": "stream",
     "text": [
      "\n"
     ]
    },
    {
     "data": {
      "application/vnd.jupyter.widget-view+json": {
       "model_id": "0ea75fe4173d488d892f85eba847f88c",
       "version_major": 2,
       "version_minor": 0
      },
      "text/plain": [
       "HBox(children=(FloatProgress(value=0.0, max=2000.0), HTML(value='')))"
      ]
     },
     "metadata": {},
     "output_type": "display_data"
    },
    {
     "name": "stdout",
     "output_type": "stream",
     "text": [
      "\n"
     ]
    },
    {
     "data": {
      "image/png": "[encoded data removed]",
      "text/plain": [
       "<Figure size 432x288 with 1 Axes>"
      ]
     },
     "metadata": {
      "needs_background": "light"
     },
     "output_type": "display_data"
    }
   ],
   "source": [
    "smile_values = pd.DataFrame(mi_values).groupby([\"tau\"]).aggregate(['mean','std']).reset_index()\n",
    "plt.plot(np.abs(smile_values[\"value\",\"mean\"].values-mi),smile_values[\"value\",\"std\"].values)\n",
    "\n",
    "\n",
    "for name in results.estimator.unique():\n",
    "    mi_values = []\n",
    "    mi_estimator = mi_estimators[name]\n",
    "    mi_estimator.eval()\n",
    "\n",
    "    for _ in tqdm(range(n_batches)):\n",
    "        batch_size = 128\n",
    "        x, y = torch.chunk(p_xy.sample([batch_size]), 2, -1)\n",
    "        x = x.squeeze()\n",
    "        y = y.squeeze()\n",
    "\n",
    "        mi_value, _ = mi_estimator(x,y)\n",
    "        mi_values.append(mi_value.item())\n",
    "    estimated_mi = np.mean(mi_values)\n",
    "    bias = np.abs(estimated_mi-mi)\n",
    "    std = np.std(mi_values)\n",
    "\n",
    "    plt.plot(bias, std, 'o')\n",
    "    plt.text(bias+offset, std+offset, name_lookup[name], fontsize=15)\n",
    "\n",
    "plt.xlim(0)\n",
    "plt.ylim(0)\n",
    "plt.xlabel(\"Bias [nats]\", fontsize=15)\n",
    "plt.ylabel(\"Standard Deviation [nats]\", fontsize=15)\n",
    "sns.despine()\n",
    "\n",
    "plt.xlim(0)\n",
    "plt.ylim(0)\n",
    "plt.xlabel(\"Bias [nats]\", fontsize=15)\n",
    "plt.ylabel(\"Standard Deviation [nats]\", fontsize=15)\n",
    "sns.despine()"
   ]
  },
  {
   "cell_type": "code",
   "execution_count": 79,
   "metadata": {},
   "outputs": [
    {
     "data": {
      "text/plain": [
       "0    0.187909\n",
       "1    0.862464\n",
       "2    1.693506\n",
       "3    2.168220\n",
       "4    2.464533\n",
       "5    2.673230\n",
       "6    2.811783\n",
       "7    2.892598\n",
       "8    2.930922\n",
       "9    2.947360\n",
       "Name: (value, mean), dtype: float64"
      ]
     },
     "execution_count": 79,
     "metadata": {},
     "output_type": "execute_result"
    }
   ],
   "source": [
    "np.abs(smile_values[\"value\",\"mean\"]-mi)"
   ]
  },
  {
   "cell_type": "code",
   "execution_count": 12,
   "metadata": {},
   "outputs": [
    {
     "ename": "AttributeError",
     "evalue": "'SMILE' object has no attribute 'baseline'",
     "output_type": "error",
     "traceback": [
      "\u001B[0;31m---------------------------------------------------------------------------\u001B[0m",
      "\u001B[0;31mAttributeError\u001B[0m                            Traceback (most recent call last)",
      "\u001B[0;32m<ipython-input-12-4d2018e40dbc>\u001B[0m in \u001B[0;36m<module>\u001B[0;34m\u001B[0m\n\u001B[0;32m----> 1\u001B[0;31m \u001B[0mmi_estimators\u001B[0m\u001B[0;34m[\u001B[0m\u001B[0;34m'smile'\u001B[0m\u001B[0;34m]\u001B[0m\u001B[0;34m.\u001B[0m\u001B[0mbaseline\u001B[0m\u001B[0;34m\u001B[0m\u001B[0;34m\u001B[0m\u001B[0m\n\u001B[0m",
      "\u001B[0;32m~/anaconda3/envs/dl-kit/lib/python3.8/site-packages/torch/nn/modules/module.py\u001B[0m in \u001B[0;36m__getattr__\u001B[0;34m(self, name)\u001B[0m\n\u001B[1;32m   1128\u001B[0m             \u001B[0;32mif\u001B[0m \u001B[0mname\u001B[0m \u001B[0;32min\u001B[0m \u001B[0mmodules\u001B[0m\u001B[0;34m:\u001B[0m\u001B[0;34m\u001B[0m\u001B[0;34m\u001B[0m\u001B[0m\n\u001B[1;32m   1129\u001B[0m                 \u001B[0;32mreturn\u001B[0m \u001B[0mmodules\u001B[0m\u001B[0;34m[\u001B[0m\u001B[0mname\u001B[0m\u001B[0;34m]\u001B[0m\u001B[0;34m\u001B[0m\u001B[0;34m\u001B[0m\u001B[0m\n\u001B[0;32m-> 1130\u001B[0;31m         raise AttributeError(\"'{}' object has no attribute '{}'\".format(\n\u001B[0m\u001B[1;32m   1131\u001B[0m             type(self).__name__, name))\n\u001B[1;32m   1132\u001B[0m \u001B[0;34m\u001B[0m\u001B[0m\n",
      "\u001B[0;31mAttributeError\u001B[0m: 'SMILE' object has no attribute 'baseline'"
     ]
    }
   ],
   "source": [
    "mi_estimators['smile'].baseline"
   ]
  },
  {
   "cell_type": "code",
   "execution_count": null,
   "metadata": {},
   "outputs": [],
   "source": [
    "y_ = mi_estimators['nwj'].sample_negatives(x,y)\n",
    "plt.plot(y[0,0], y[0,1],'o')\n",
    "plt.plot(y_[1,:,0], y_[1,:,1], '.')"
   ]
  },
  {
   "cell_type": "code",
   "execution_count": null,
   "metadata": {},
   "outputs": [],
   "source": [
    "f_ = mi_estimators['cpc'].ratio_estimator(x,y_)\n",
    "f = mi_estimators['cpc'].ratio_estimator(x,y)\n",
    "a = mi_estimators['cpc'].baseline(f_,x)\n",
    "f.shape, f_.shape"
   ]
  },
  {
   "cell_type": "code",
   "execution_count": null,
   "metadata": {},
   "outputs": [],
   "source": [
    "import math\n",
    "(torch.logsumexp(f_, 1)-np.log(x.shape[0])).mean(), a.mean(), mi_estimators['cpc'].compute_normalization(f_,x,y)"
   ]
  },
  {
   "cell_type": "code",
   "execution_count": null,
   "metadata": {},
   "outputs": [],
   "source": [
    "plt.axhline(mi, color='k', ls='--')\n",
    "    N = 10000\n",
    "    values = np.nan_to_num(mi_values)\n",
    "    # values[values > 100] = 100\n",
    "    # values[values < -500] = -500"
   ]
  },
  {
   "cell_type": "code",
   "execution_count": null,
   "metadata": {},
   "outputs": [],
   "source": [
    "consider_last = 10000\n",
    "values[-consider_last:].mean(), values[-consider_last:].std(), mi"
   ]
  },
  {
   "cell_type": "code",
   "execution_count": 17,
   "metadata": {},
   "outputs": [
    {
     "data": {
      "text/plain": [
       "(16.662906572914125, 0.3977542873183761, tensor(11.6395))"
      ]
     },
     "execution_count": 17,
     "metadata": {},
     "output_type": "execute_result"
    }
   ],
   "source": [
    "consider_last = 10000\n",
    "values[-consider_last:].mean(), values[-consider_last:].std(), mi"
   ]
  },
  {
   "cell_type": "code",
   "execution_count": 14,
   "metadata": {},
   "outputs": [],
   "source": [
    "from core.distributions.utils import conditional_transformed_normal\n",
    "\n",
    "x_dim = y_dim = 10\n",
    "hidden_dims = [32, 32]\n",
    "\n",
    "dist = conditional_transformed_normal(\n",
    "    input_dim=x_dim,\n",
    "    context_dim=y_dim,\n",
    "    hidden_dims=hidden_dims,\n",
    ")"
   ]
  },
  {
   "cell_type": "code",
   "execution_count": 15,
   "metadata": {},
   "outputs": [
    {
     "data": {
      "text/plain": [
       "torch.Size([128, 10])"
      ]
     },
     "execution_count": 15,
     "metadata": {},
     "output_type": "execute_result"
    }
   ],
   "source": [
    "mi_estimator.r_x_y.condition(torch.zeros(128, 10)).sample().shape"
   ]
  },
  {
   "cell_type": "code",
   "execution_count": null,
   "metadata": {},
   "outputs": [],
   "source": []
  }
 ],
 "metadata": {
  "kernelspec": {
   "display_name": "Python 3",
   "language": "python",
   "name": "python3"
  },
  "language_info": {
   "codemirror_mode": {
    "name": "ipython",
    "version": 3
   },
   "file_extension": ".py",
   "mimetype": "text/x-python",
   "name": "python",
   "nbconvert_exporter": "python",
   "pygments_lexer": "ipython3",
   "version": "3.8.1"
  }
 },
 "nbformat": 4,
 "nbformat_minor": 1
}
