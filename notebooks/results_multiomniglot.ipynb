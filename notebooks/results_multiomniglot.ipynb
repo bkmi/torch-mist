{
 "cells": [
  {
   "cell_type": "code",
   "execution_count": 1,
   "metadata": {
    "collapsed": true
   },
   "outputs": [],
   "source": [
    "import wandb\n",
    "import torch\n",
    "import pandas as pd\n",
    "import numpy as np\n",
    "import matplotlib.pyplot as plt\n",
    "from tqdm.auto import tqdm\n",
    "import seaborn as sns\n",
    "sns.set_style('whitegrid')\n",
    "import os\n",
    "os.chdir('..')"
   ]
  },
  {
   "cell_type": "code",
   "execution_count": 2,
   "outputs": [],
   "source": [
    "api = wandb.Api()\n",
    "\n",
    "fontsize=15\n",
    "ticksize=11\n",
    "titlesize=20\n",
    "imgsize=7\n",
    "linewidth=3\n",
    "markersize=10"
   ],
   "metadata": {
    "collapsed": false
   }
  },
  {
   "cell_type": "code",
   "execution_count": 3,
   "outputs": [
    {
     "name": "stderr",
     "output_type": "stream",
     "text": [
      "/home/marco/anaconda3/envs/dl-kit/lib/python3.8/site-packages/torchvision/io/image.py:13: UserWarning: Failed to load image Python extension: libc10_cuda.so: cannot open shared object file: No such file or directory\n",
      "  warn(f\"Failed to load image Python extension: {e}\")\n"
     ]
    },
    {
     "data": {
      "text/plain": "array([ 4.00733319,  7.9585769 , 11.82977791])"
     },
     "execution_count": 3,
     "metadata": {},
     "output_type": "execute_result"
    }
   ],
   "source": [
    "from core.data.datasets import MultiOmniglot\n",
    "n_images = 3\n",
    "train_set = MultiOmniglot(\"/data/OMNIGLOT\", n_images=n_images)\n",
    "\n",
    "mis = np.cumsum([np.log(train_set.n_characters[alphabet]) for alphabet in train_set.used_alphabets])\n",
    "mis"
   ],
   "metadata": {
    "collapsed": false
   }
  },
  {
   "cell_type": "code",
   "execution_count": 4,
   "outputs": [
    {
     "data": {
      "text/plain": "[45, 50, 37]"
     },
     "execution_count": 4,
     "metadata": {},
     "output_type": "execute_result"
    },
    {
     "data": {
      "text/plain": "<Figure size 432x288 with 6 Axes>",
      "image/png": "[encoded data removed]"
     },
     "metadata": {},
     "output_type": "display_data"
    }
   ],
   "source": [
    "f, ax = plt.subplots(2,3)\n",
    "for i in range(3):\n",
    "    ax[0,i].imshow(train_set[0]['x'][i])\n",
    "    ax[1,i].imshow(train_set[0]['y'][i])\n",
    "train_set[0]['t']"
   ],
   "metadata": {
    "collapsed": false
   }
  },
  {
   "cell_type": "code",
   "execution_count": 5,
   "outputs": [
    {
     "data": {
      "text/plain": "<PIL.Image.Image image mode=L size=105x105>",
      "image/png": "[encoded data removed]"
     },
     "execution_count": 5,
     "metadata": {},
     "output_type": "execute_result"
    }
   ],
   "source": [
    "train_set.get_image(train_set.used_alphabets[1], 27, 5)"
   ],
   "metadata": {
    "collapsed": false
   }
  },
  {
   "cell_type": "code",
   "execution_count": 6,
   "outputs": [],
   "source": [
    "# DATA_DIR=<DIRECTORY> wandb agent badboyz2000/multiomniglot/vzv5kurz"
   ],
   "metadata": {
    "collapsed": false
   }
  },
  {
   "cell_type": "code",
   "execution_count": 7,
   "outputs": [
    {
     "data": {
      "text/plain": "  0%|          | 0/26 [00:00<?, ?it/s]",
      "application/vnd.jupyter.widget-view+json": {
       "version_major": 2,
       "version_minor": 0,
       "model_id": "e5a8b2c23e414630b367e53deb105eae"
      }
     },
     "metadata": {},
     "output_type": "display_data"
    },
    {
     "name": "stdout",
     "output_type": "stream",
     "text": [
      "logical-sweep-14 running\n",
      "driven-sweep-13 running\n",
      "likely-sweep-12 running\n",
      "sage-sweep-11 running\n",
      "happy-sweep-12 running\n",
      "cool-sweep-11 running\n",
      "celestial-sweep-10 running\n",
      "apricot-sweep-9 running\n"
     ]
    }
   ],
   "source": [
    "runs = list(api.sweep('badboyz2000/multiomniglot/vzv5kurz').runs)\n",
    "runs += list(api.sweep('badboyz2000/multiomniglot/jqjc2x4g').runs)\n",
    "results = []\n",
    "\n",
    "config_keys = {\n",
    "    \"fit.model.init_args.mi_estimator.init_args.discriminative_estimator.class_path\" : \"Discriminative estimator\",\n",
    "    \"fit.model.init_args.mi_estimator.init_args.generative_estimator.class_path\": \"Generative estimator\",\n",
    "    \"fit.model.init_args.mi_estimator.init_args.discriminative_estimator.init_args.neg_samples\": \"Negative samples\",\n",
    "    \"fit.data.init_args.n_images\": \"N Images\"\n",
    "}\n",
    "\n",
    "results_keys = {\n",
    "    \"mi/value/train_epoch\": \"mi\",\n",
    "    \"mi/grad/variance/train_epoch\" : \"Variance\",\n",
    "    \"mi/gen/grad/variance/train_epoch\" : \"Generative Variance\",\n",
    "    \"mi/gen/value/train_epoch\": \"generative mi\",\n",
    "    \"mi/dis/value/train_epoch\": \"discriminative mi\",\n",
    "    \"_runtime\": \"runtime\"\n",
    "}\n",
    "\n",
    "\n",
    "for run in tqdm(runs):\n",
    "    if run.state == \"finished\" and run.summary[\"trainer/global_step\"]>90000:\n",
    "        entry = {}\n",
    "        for key, name in config_keys.items():\n",
    "            if key in run.config:\n",
    "                entry[name] = run.config[key]\n",
    "            else:\n",
    "                entry[name] = \"None\"\n",
    "        for key, name in results_keys.items():\n",
    "            entry[name] = float(run.summary[key])\n",
    "        entry[\"name\"] = run.name\n",
    "\n",
    "        results.append(entry)\n",
    "    else:\n",
    "        print(run.name, run.state)\n",
    "\n",
    "results = pd.DataFrame(results)"
   ],
   "metadata": {
    "collapsed": false
   }
  },
  {
   "cell_type": "code",
   "execution_count": 7,
   "outputs": [],
   "source": [],
   "metadata": {
    "collapsed": false
   }
  },
  {
   "cell_type": "code",
   "execution_count": 8,
   "outputs": [
    {
     "data": {
      "text/plain": "   Discriminative estimator Generative estimator  Negative samples  N Images  \\\n0                      MINE                 None                 1         1   \n1                        JS                 None                 1         1   \n2                       NWJ                 None                 1         1   \n3                       FLO                 None                 1         1   \n4                 AlphaTUBA                 None                 0         1   \n5                   InfoNCE                 None                 0         1   \n6                     SMILE                 None                 1         1   \n7                      MINE                 None                 1         1   \n8                        JS                 None                 1         1   \n9                       NWJ                 None                 1         1   \n10                AlphaTUBA                  ABC                 0         2   \n11                  InfoNCE                  ABC                 0         2   \n12                    SMILE                  ABC                 1         2   \n13                     MINE                  ABC                 1         2   \n14                       JS                  ABC                 1         2   \n15                    SMILE                  ABC                 1         1   \n16                       JS                  ABC                 1         1   \n17                      NWJ                  ABC                 1         1   \n\n              mi      Variance  Generative Variance  generative mi  \\\n0   5.883541e+00  4.351635e-01             0.000000       0.000000   \n1   4.052562e+00  2.069217e-03             0.000000       0.000000   \n2  -2.195080e-08  3.714903e-17             0.000000       0.000000   \n3   4.815253e-08  4.408310e-12             0.000000       0.000000   \n4   3.794158e+00  2.314609e-03             0.000000       0.000000   \n5   3.825603e+00  2.229276e-03             0.000000       0.000000   \n6   4.605157e+00  2.068029e-03             0.000000       0.000000   \n7   6.046667e+00  4.348560e-01             0.000000       0.000000   \n8   4.053207e+00  2.067504e-03             0.000000       0.000000   \n9   4.052509e+00  3.973326e-01             0.000000       0.000000   \n10  7.504748e+00  6.241074e-01             0.220007       3.326792   \n11  3.466370e-03  1.175752e+00             1.175747       0.003447   \n12  4.013643e+00  3.547817e-01             0.126601       3.372785   \n13  1.072577e-02  9.913041e-01             0.991304       0.010726   \n14  4.006577e+00  3.194974e-01             0.115012       3.387395   \n15  4.009776e+00  3.375306e-01             0.118849       3.395335   \n16  4.001436e+00  2.812923e-01             0.096346       3.391767   \n17  4.007741e+00  5.374766e-01             0.113693       3.388353   \n\n    discriminative mi      runtime                name   True mi      Bias  \n0        5.883541e+00  3274.704770      lyric-sweep-10  4.007333  1.876207  \n1        4.052562e+00  3087.715108       vital-sweep-9  4.007333  0.045229  \n2       -2.195080e-08  3271.848081    feasible-sweep-8  4.007333  4.007333  \n3        4.815253e-08  3301.171991       fancy-sweep-7  4.007333  4.007333  \n4        3.794158e+00  3367.733960   efficient-sweep-6  4.007333  0.213175  \n5        3.825603e+00  2973.994459      genial-sweep-5  4.007333  0.181730  \n6        4.605157e+00  3078.833490      desert-sweep-4  4.007333  0.597824  \n7        6.046667e+00  3092.900296       lemon-sweep-3  4.007333  2.039333  \n8        4.053207e+00  2897.247782      pretty-sweep-2  4.007333  0.045874  \n9        4.052509e+00  2539.200076       sunny-sweep-1  4.007333  0.045176  \n10       4.177950e+00  2720.944401      brisk-sweep-13  7.958577  0.453829  \n11       1.917864e-05  2588.069660  wandering-sweep-12  7.958577  7.955111  \n12       6.408574e-01  2581.197850      dandy-sweep-11  7.958577  3.944934  \n13       3.650844e-08  2603.146854    vibrant-sweep-10  7.958577  7.947851  \n14       6.191824e-01  2530.153636        firm-sweep-9  7.958577  3.952000  \n15       6.144392e-01  2418.153830        rare-sweep-4  4.007333  0.002442  \n16       6.096706e-01  2385.950819      golden-sweep-2  4.007333  0.005897  \n17       6.193904e-01  2368.444713        rose-sweep-1  4.007333  0.000408  ",
      "text/html": "<div>\n<style scoped>\n    .dataframe tbody tr th:only-of-type {\n        vertical-align: middle;\n    }\n\n    .dataframe tbody tr th {\n        vertical-align: top;\n    }\n\n    .dataframe thead th {\n        text-align: right;\n    }\n</style>\n<table border=\"1\" class=\"dataframe\">\n  <thead>\n    <tr style=\"text-align: right;\">\n      <th></th>\n      <th>Discriminative estimator</th>\n      <th>Generative estimator</th>\n      <th>Negative samples</th>\n      <th>N Images</th>\n      <th>mi</th>\n      <th>Variance</th>\n      <th>Generative Variance</th>\n      <th>generative mi</th>\n      <th>discriminative mi</th>\n      <th>runtime</th>\n      <th>name</th>\n      <th>True mi</th>\n      <th>Bias</th>\n    </tr>\n  </thead>\n  <tbody>\n    <tr>\n      <th>0</th>\n      <td>MINE</td>\n      <td>None</td>\n      <td>1</td>\n      <td>1</td>\n      <td>5.883541e+00</td>\n      <td>4.351635e-01</td>\n      <td>0.000000</td>\n      <td>0.000000</td>\n      <td>5.883541e+00</td>\n      <td>3274.704770</td>\n      <td>lyric-sweep-10</td>\n      <td>4.007333</td>\n      <td>1.876207</td>\n    </tr>\n    <tr>\n      <th>1</th>\n      <td>JS</td>\n      <td>None</td>\n      <td>1</td>\n      <td>1</td>\n      <td>4.052562e+00</td>\n      <td>2.069217e-03</td>\n      <td>0.000000</td>\n      <td>0.000000</td>\n      <td>4.052562e+00</td>\n      <td>3087.715108</td>\n      <td>vital-sweep-9</td>\n      <td>4.007333</td>\n      <td>0.045229</td>\n    </tr>\n    <tr>\n      <th>2</th>\n      <td>NWJ</td>\n      <td>None</td>\n      <td>1</td>\n      <td>1</td>\n      <td>-2.195080e-08</td>\n      <td>3.714903e-17</td>\n      <td>0.000000</td>\n      <td>0.000000</td>\n      <td>-2.195080e-08</td>\n      <td>3271.848081</td>\n      <td>feasible-sweep-8</td>\n      <td>4.007333</td>\n      <td>4.007333</td>\n    </tr>\n    <tr>\n      <th>3</th>\n      <td>FLO</td>\n      <td>None</td>\n      <td>1</td>\n      <td>1</td>\n      <td>4.815253e-08</td>\n      <td>4.408310e-12</td>\n      <td>0.000000</td>\n      <td>0.000000</td>\n      <td>4.815253e-08</td>\n      <td>3301.171991</td>\n      <td>fancy-sweep-7</td>\n      <td>4.007333</td>\n      <td>4.007333</td>\n    </tr>\n    <tr>\n      <th>4</th>\n      <td>AlphaTUBA</td>\n      <td>None</td>\n      <td>0</td>\n      <td>1</td>\n      <td>3.794158e+00</td>\n      <td>2.314609e-03</td>\n      <td>0.000000</td>\n      <td>0.000000</td>\n      <td>3.794158e+00</td>\n      <td>3367.733960</td>\n      <td>efficient-sweep-6</td>\n      <td>4.007333</td>\n      <td>0.213175</td>\n    </tr>\n    <tr>\n      <th>5</th>\n      <td>InfoNCE</td>\n      <td>None</td>\n      <td>0</td>\n      <td>1</td>\n      <td>3.825603e+00</td>\n      <td>2.229276e-03</td>\n      <td>0.000000</td>\n      <td>0.000000</td>\n      <td>3.825603e+00</td>\n      <td>2973.994459</td>\n      <td>genial-sweep-5</td>\n      <td>4.007333</td>\n      <td>0.181730</td>\n    </tr>\n    <tr>\n      <th>6</th>\n      <td>SMILE</td>\n      <td>None</td>\n      <td>1</td>\n      <td>1</td>\n      <td>4.605157e+00</td>\n      <td>2.068029e-03</td>\n      <td>0.000000</td>\n      <td>0.000000</td>\n      <td>4.605157e+00</td>\n      <td>3078.833490</td>\n      <td>desert-sweep-4</td>\n      <td>4.007333</td>\n      <td>0.597824</td>\n    </tr>\n    <tr>\n      <th>7</th>\n      <td>MINE</td>\n      <td>None</td>\n      <td>1</td>\n      <td>1</td>\n      <td>6.046667e+00</td>\n      <td>4.348560e-01</td>\n      <td>0.000000</td>\n      <td>0.000000</td>\n      <td>6.046667e+00</td>\n      <td>3092.900296</td>\n      <td>lemon-sweep-3</td>\n      <td>4.007333</td>\n      <td>2.039333</td>\n    </tr>\n    <tr>\n      <th>8</th>\n      <td>JS</td>\n      <td>None</td>\n      <td>1</td>\n      <td>1</td>\n      <td>4.053207e+00</td>\n      <td>2.067504e-03</td>\n      <td>0.000000</td>\n      <td>0.000000</td>\n      <td>4.053207e+00</td>\n      <td>2897.247782</td>\n      <td>pretty-sweep-2</td>\n      <td>4.007333</td>\n      <td>0.045874</td>\n    </tr>\n    <tr>\n      <th>9</th>\n      <td>NWJ</td>\n      <td>None</td>\n      <td>1</td>\n      <td>1</td>\n      <td>4.052509e+00</td>\n      <td>3.973326e-01</td>\n      <td>0.000000</td>\n      <td>0.000000</td>\n      <td>4.052509e+00</td>\n      <td>2539.200076</td>\n      <td>sunny-sweep-1</td>\n      <td>4.007333</td>\n      <td>0.045176</td>\n    </tr>\n    <tr>\n      <th>10</th>\n      <td>AlphaTUBA</td>\n      <td>ABC</td>\n      <td>0</td>\n      <td>2</td>\n      <td>7.504748e+00</td>\n      <td>6.241074e-01</td>\n      <td>0.220007</td>\n      <td>3.326792</td>\n      <td>4.177950e+00</td>\n      <td>2720.944401</td>\n      <td>brisk-sweep-13</td>\n      <td>7.958577</td>\n      <td>0.453829</td>\n    </tr>\n    <tr>\n      <th>11</th>\n      <td>InfoNCE</td>\n      <td>ABC</td>\n      <td>0</td>\n      <td>2</td>\n      <td>3.466370e-03</td>\n      <td>1.175752e+00</td>\n      <td>1.175747</td>\n      <td>0.003447</td>\n      <td>1.917864e-05</td>\n      <td>2588.069660</td>\n      <td>wandering-sweep-12</td>\n      <td>7.958577</td>\n      <td>7.955111</td>\n    </tr>\n    <tr>\n      <th>12</th>\n      <td>SMILE</td>\n      <td>ABC</td>\n      <td>1</td>\n      <td>2</td>\n      <td>4.013643e+00</td>\n      <td>3.547817e-01</td>\n      <td>0.126601</td>\n      <td>3.372785</td>\n      <td>6.408574e-01</td>\n      <td>2581.197850</td>\n      <td>dandy-sweep-11</td>\n      <td>7.958577</td>\n      <td>3.944934</td>\n    </tr>\n    <tr>\n      <th>13</th>\n      <td>MINE</td>\n      <td>ABC</td>\n      <td>1</td>\n      <td>2</td>\n      <td>1.072577e-02</td>\n      <td>9.913041e-01</td>\n      <td>0.991304</td>\n      <td>0.010726</td>\n      <td>3.650844e-08</td>\n      <td>2603.146854</td>\n      <td>vibrant-sweep-10</td>\n      <td>7.958577</td>\n      <td>7.947851</td>\n    </tr>\n    <tr>\n      <th>14</th>\n      <td>JS</td>\n      <td>ABC</td>\n      <td>1</td>\n      <td>2</td>\n      <td>4.006577e+00</td>\n      <td>3.194974e-01</td>\n      <td>0.115012</td>\n      <td>3.387395</td>\n      <td>6.191824e-01</td>\n      <td>2530.153636</td>\n      <td>firm-sweep-9</td>\n      <td>7.958577</td>\n      <td>3.952000</td>\n    </tr>\n    <tr>\n      <th>15</th>\n      <td>SMILE</td>\n      <td>ABC</td>\n      <td>1</td>\n      <td>1</td>\n      <td>4.009776e+00</td>\n      <td>3.375306e-01</td>\n      <td>0.118849</td>\n      <td>3.395335</td>\n      <td>6.144392e-01</td>\n      <td>2418.153830</td>\n      <td>rare-sweep-4</td>\n      <td>4.007333</td>\n      <td>0.002442</td>\n    </tr>\n    <tr>\n      <th>16</th>\n      <td>JS</td>\n      <td>ABC</td>\n      <td>1</td>\n      <td>1</td>\n      <td>4.001436e+00</td>\n      <td>2.812923e-01</td>\n      <td>0.096346</td>\n      <td>3.391767</td>\n      <td>6.096706e-01</td>\n      <td>2385.950819</td>\n      <td>golden-sweep-2</td>\n      <td>4.007333</td>\n      <td>0.005897</td>\n    </tr>\n    <tr>\n      <th>17</th>\n      <td>NWJ</td>\n      <td>ABC</td>\n      <td>1</td>\n      <td>1</td>\n      <td>4.007741e+00</td>\n      <td>5.374766e-01</td>\n      <td>0.113693</td>\n      <td>3.388353</td>\n      <td>6.193904e-01</td>\n      <td>2368.444713</td>\n      <td>rose-sweep-1</td>\n      <td>4.007333</td>\n      <td>0.000408</td>\n    </tr>\n  </tbody>\n</table>\n</div>"
     },
     "execution_count": 8,
     "metadata": {},
     "output_type": "execute_result"
    }
   ],
   "source": [
    "results[\"True mi\"] = mis[results[\"N Images\"]-1]\n",
    "results[\"Bias\"] = np.abs(results[\"mi\"]-results[\"True mi\"])\n",
    "results[\"Generative estimator\"] = [r.split('.')[-1] for r in results[\"Generative estimator\"]]\n",
    "results[\"Discriminative estimator\"] = [r.split('.')[-1] for r in results[\"Discriminative estimator\"]]\n",
    "results"
   ],
   "metadata": {
    "collapsed": false
   }
  },
  {
   "cell_type": "code",
   "execution_count": 8,
   "outputs": [],
   "source": [],
   "metadata": {
    "collapsed": false
   }
  },
  {
   "cell_type": "code",
   "execution_count": 10,
   "outputs": [
    {
     "data": {
      "text/plain": "<Figure size 360x360 with 1 Axes>",
      "image/png": "[encoded data removed]"
     },
     "metadata": {},
     "output_type": "display_data"
    }
   ],
   "source": [
    "f, ax = plt.subplots(1,1, figsize=(5,5))\n",
    "\n",
    "ax = [ax]\n",
    "\n",
    "n_images = 2\n",
    "mi = mis[n_images-1]\n",
    "\n",
    "disc_models_to_show = [\"NWJ\", \"MINE\", \"InfoNCE\", \"JS\", \"AlphaTUBA\", \"SMILE\", \"FLO\"] #\n",
    "hue_order = [\"None\", \"ABC\"]\n",
    "\n",
    "g_0 = sns.barplot(\n",
    "    results[results[\"N Images\"]==n_images],\n",
    "    x=\"Discriminative estimator\",\n",
    "    order=disc_models_to_show,\n",
    "    hue=\"Generative estimator\",\n",
    "    hue_order=hue_order,\n",
    "    edgecolor='k',\n",
    "    y=\"mi\",\n",
    "    ax=ax[0]\n",
    ")\n",
    "\n",
    "for line in ax[0].lines: # put this before you call the 'mean' plot function.\n",
    "    line.set_label(s='')\n",
    "\n",
    "g = sns.barplot(\n",
    "    results[results[\"N Images\"]==n_images],\n",
    "    order=disc_models_to_show,\n",
    "    x=\"Discriminative estimator\",\n",
    "    hue=\"Generative estimator\",\n",
    "    hue_order=hue_order,\n",
    "    y=\"generative mi\",\n",
    "    hatch='///',\n",
    "    edgecolor='k',\n",
    "    ax=ax[0],\n",
    ")\n",
    "\n",
    "g.legend_.remove()\n",
    "\n",
    "\n",
    "ax[0].set_ylim(0,8)\n",
    "ax[0].set_ylabel(\"Mutual Information [nats]\", fontsize=fontsize)\n",
    "# ax[1].set_ylabel(\"Variance [nats$^2$]\", fontsize=fontsize)\n",
    "\n",
    "for i in range(1):\n",
    "    ax[i].set_xlabel(\"\")\n",
    "    ax[i].set_ylabel(ax[i].get_ylabel(), fontsize=fontsize)\n",
    "    ax[i].tick_params(axis='both', which='major', labelsize=ticksize)\n",
    "    ax[i].set_xticklabels(ax[i].get_xticklabels(), rotation=90)\n",
    "\n",
    "ax[0].axhline(y=mi, color='k', ls='--', linewidth=linewidth)#, label=\"$I({\\\\bf x};{\\\\bf y})$\")\n",
    "\n",
    "\n",
    "\n",
    "\n",
    "# for i, legobj in enumerate(leg.legendHandles):\n",
    "#     if i > len(hue_order):\n",
    "#         legobj.hide()\n",
    "from matplotlib.patches import Patch\n",
    "from matplotlib.lines import Line2D\n",
    "from matplotlib.text import Text\n",
    "\n",
    "leg = ax[0].legend(handles=[\n",
    "    Patch(facecolor=ax[0].patches[0].get_facecolor(), label='Proposal', alpha=0),\n",
    "    Patch(facecolor=ax[0].patches[0].get_facecolor(), label='$p({\\\\bf x})p({\\\\bf y})$'),\n",
    "    Patch(facecolor=ax[0].patches[len(disc_models_to_show)].get_facecolor(), label='$p({\\\\bf x})p({\\\\bf y}|h({\\\\bf x}))$'),\n",
    "],\n",
    "fontsize=ticksize, frameon=False, loc=\"upper left\")\n",
    "\n",
    "plt.gca().add_artist(leg)\n",
    "\n",
    "ax[0].legend(handles=[\n",
    "    Patch(facecolor=ax[0].patches[0].get_facecolor(), label='Components', alpha=0),\n",
    "    Line2D([0],[0], linestyle='--', linewidth=linewidth, color='k', label='$I({\\\\bf x};{\\\\bf y})$'),\n",
    "    Patch(edgecolor='k', facecolor=\"w\", label='$I_r({\\\\bf x};{\\\\bf y})$', hatch='///'),\n",
    "    Patch(edgecolor='k', facecolor=\"w\", label='KL$_f(p({\\\\bf x},{\\\\bf y})||r({\\\\bf x},{\\\\bf y}))$'),\n",
    "], fontsize=ticksize, frameon=False, loc=\"upper right\")\n",
    "\n",
    "sns.despine()"
   ],
   "metadata": {
    "collapsed": false
   }
  },
  {
   "cell_type": "code",
   "execution_count": 13,
   "outputs": [
    {
     "data": {
      "text/plain": "<Figure size 360x360 with 1 Axes>",
      "image/png": "[encoded data removed]"
     },
     "metadata": {},
     "output_type": "display_data"
    }
   ],
   "source": [
    "f, ax = plt.subplots(1,1, figsize=(5,5))\n",
    "\n",
    "ax = [ax]\n",
    "\n",
    "mi = mis[n_images-1]\n",
    "\n",
    "disc_models_to_show = [\"NWJ\", \"MINE\", \"InfoNCE\", \"JS\", \"AlphaTUBA\", \"SMILE\", \"FLO\"] #\n",
    "hue_order = [\"None\", \"ABC\"]\n",
    "\n",
    "g_0 = sns.barplot(\n",
    "    results[results[\"N Images\"]==n_images],\n",
    "    x=\"Discriminative estimator\",\n",
    "    order=disc_models_to_show,\n",
    "    hue=\"Generative estimator\",\n",
    "    hue_order=hue_order,\n",
    "    edgecolor='k',\n",
    "    y=\"Bias\",\n",
    "    ax=ax[0]\n",
    ")\n",
    "\n",
    "ax[0].set_yscale(\"log\")\n",
    "\n",
    "for line in ax[0].lines: # put this before you call the 'mean' plot function.\n",
    "    line.set_label(s='')\n",
    "\n",
    "\n",
    "# ax[0].set_yscale(\"log\")\n",
    "ax[0].set_ylabel(\"Absolute Error [nats]\", fontsize=fontsize)\n",
    "# ax[1].set_ylabel(\"Variance [nats$^2$]\", fontsize=fontsize)\n",
    "\n",
    "for i in range(1):\n",
    "    ax[i].set_xlabel(\"\")\n",
    "    ax[i].set_ylabel(ax[i].get_ylabel(), fontsize=fontsize)\n",
    "    ax[i].tick_params(axis='both', which='major', labelsize=ticksize)\n",
    "    ax[i].set_xticklabels(ax[i].get_xticklabels(), rotation=90)\n",
    "\n",
    "\n",
    "# for i, legobj in enumerate(leg.legendHandles):\n",
    "#     if i > len(hue_order):\n",
    "#         legobj.hide()\n",
    "from matplotlib.patches import Patch\n",
    "from matplotlib.lines import Line2D\n",
    "from matplotlib.text import Text\n",
    "\n",
    "leg = ax[0].legend(handles=[\n",
    "    Patch(facecolor=ax[0].patches[0].get_facecolor(), label='Proposal', alpha=0),\n",
    "    Patch(facecolor=ax[0].patches[0].get_facecolor(), label='$p({\\\\bf x})p({\\\\bf y})$'),\n",
    "    Patch(facecolor=ax[0].patches[len(disc_models_to_show)].get_facecolor(), label='$p({\\\\bf x})p({\\\\bf y}|h({\\\\bf x}))$'),\n",
    "],\n",
    "fontsize=ticksize, frameon=False, loc=\"upper right\")\n",
    "\n",
    "\n",
    "plt.gca().add_artist(leg)\n",
    "\n",
    "\n",
    "sns.despine()"
   ],
   "metadata": {
    "collapsed": false
   }
  },
  {
   "cell_type": "code",
   "execution_count": 15,
   "outputs": [
    {
     "data": {
      "text/plain": "<Figure size 360x360 with 1 Axes>",
      "image/png": "[encoded data removed]"
     },
     "metadata": {},
     "output_type": "display_data"
    }
   ],
   "source": [
    "f, ax = plt.subplots(1,1, figsize=(5,5))\n",
    "\n",
    "ax = [ax]\n",
    "\n",
    "mi = mis[n_images-1]\n",
    "\n",
    "disc_models_to_show = [\"NWJ\", \"MINE\", \"InfoNCE\", \"JS\", \"AlphaTUBA\", \"SMILE\", \"FLO\"] #\n",
    "hue_order = [\"None\", \"ABC\"]\n",
    "\n",
    "g_0 = sns.barplot(\n",
    "    results[results[\"N Images\"]==n_images],\n",
    "    x=\"Discriminative estimator\",\n",
    "    order=disc_models_to_show,\n",
    "    hue=\"Generative estimator\",\n",
    "    hue_order=hue_order,\n",
    "    edgecolor='k',\n",
    "    y=\"Variance\",\n",
    "    ax=ax[0]\n",
    ")\n",
    "\n",
    "for line in ax[0].lines: # put this before you call the 'mean' plot function.\n",
    "    line.set_label(s='')\n",
    "\n",
    "g = sns.barplot(\n",
    "    results[results[\"N Images\"]==n_images],\n",
    "    order=disc_models_to_show,\n",
    "    x=\"Discriminative estimator\",\n",
    "    hue=\"Generative estimator\",\n",
    "    hue_order=hue_order,\n",
    "    y=\"Generative Variance\",\n",
    "    hatch='///',\n",
    "    edgecolor='k',\n",
    "    ax=ax[0],\n",
    "    alpha=0.5,\n",
    ")\n",
    "\n",
    "g.legend_.remove()\n",
    "#\n",
    "#\n",
    "\n",
    "# ax[1].set_yscale(\"log\")\n",
    "# g.legend_.remove()\n",
    "\n",
    "# g_0.legend_.draw()\n",
    "\n",
    "\n",
    "# leg = ax[0].legend(fontsize=ticksize, loc='center left', bbox_to_anchor=(1, 0.5), title=\"Generative Model\")\n",
    "\n",
    "\n",
    "ax[0].set_yscale(\"log\")\n",
    "\n",
    "ax[0].set_ylabel(\"Variance [nats^2]\", fontsize=fontsize)\n",
    "# ax[1].set_ylabel(\"Variance [nats$^2$]\", fontsize=fontsize)\n",
    "\n",
    "for i in range(1):\n",
    "    ax[i].set_xlabel(\"\")\n",
    "    ax[i].set_ylabel(ax[i].get_ylabel(), fontsize=fontsize)\n",
    "    ax[i].tick_params(axis='both', which='major', labelsize=ticksize)\n",
    "    ax[i].set_xticklabels(ax[i].get_xticklabels(), rotation=90)\n",
    "\n",
    "\n",
    "\n",
    "\n",
    "\n",
    "\n",
    "# for i, legobj in enumerate(leg.legendHandles):\n",
    "#     if i > len(hue_order):\n",
    "#         legobj.hide()\n",
    "from matplotlib.patches import Patch\n",
    "from matplotlib.lines import Line2D\n",
    "from matplotlib.text import Text\n",
    "\n",
    "leg = ax[0].legend(handles=[\n",
    "    Patch(facecolor=ax[0].patches[0].get_facecolor(), label='Proposal', alpha=0),\n",
    "    Patch(facecolor=ax[0].patches[0].get_facecolor(), label='$p({\\\\bf x})p({\\\\bf y})$'),\n",
    "    Patch(facecolor=ax[0].patches[len(disc_models_to_show)].get_facecolor(), label='$p({\\\\bf x})p({\\\\bf y}|h({\\\\bf x}))$'),\n",
    "],\n",
    "fontsize=ticksize, frameon=False, loc=\"upper left\")\n",
    "\n",
    "plt.gca().add_artist(leg)\n",
    "\n",
    "\n",
    "ax[0].legend(handles=[\n",
    "    Patch(facecolor=ax[0].patches[0].get_facecolor(), label='Components', alpha=0),\n",
    "    Patch(edgecolor='k', facecolor=\"w\", label='$I_r({\\\\bf x};{\\\\bf y})$', hatch='///'),\n",
    "    Patch(edgecolor='k', facecolor=\"w\", label='KL$_f(p({\\\\bf x},{\\\\bf y})||r({\\\\bf x},{\\\\bf y}))$'),\n",
    "], fontsize=ticksize, frameon=False, loc=\"upper right\")\n",
    "\n",
    "sns.despine()"
   ],
   "metadata": {
    "collapsed": false
   }
  },
  {
   "cell_type": "code",
   "execution_count": 11,
   "outputs": [],
   "source": [],
   "metadata": {
    "collapsed": false
   }
  },
  {
   "cell_type": "code",
   "execution_count": null,
   "outputs": [],
   "source": [],
   "metadata": {
    "collapsed": false
   }
  }
 ],
 "metadata": {
  "kernelspec": {
   "display_name": "Python 3",
   "language": "python",
   "name": "python3"
  },
  "language_info": {
   "codemirror_mode": {
    "name": "ipython",
    "version": 2
   },
   "file_extension": ".py",
   "mimetype": "text/x-python",
   "name": "python",
   "nbconvert_exporter": "python",
   "pygments_lexer": "ipython2",
   "version": "2.7.6"
  }
 },
 "nbformat": 4,
 "nbformat_minor": 0
}
