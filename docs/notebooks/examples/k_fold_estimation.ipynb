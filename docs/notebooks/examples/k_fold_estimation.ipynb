{
 "cells": [
  {
   "cell_type": "markdown",
   "id": "9ba9194dd39b13e3",
   "metadata": {
    "collapsed": false
   },
   "source": [
    "# K-Fold Mutual Information Estimation\n",
    "\n",
    "The `torch_mist` package provides basic utilities for estimating value of mutual information using k-fold cross validation.\n",
    "The considered dataset is split into `K` folds, then `K-2` folds are used to train the mutual information estimation, one fold is used to determine when to stop the training and the last is used to evaluate the value of mutual information. \n",
    "\n",
    "This procedure is repeated `K` times (with different train/validation/test splits) to increase the reliability of the estimates."
   ]
  },
  {
   "cell_type": "code",
   "execution_count": 5,
   "id": "439dfd504ccb66c1",
   "metadata": {
    "collapsed": false,
    "ExecuteTime": {
     "end_time": "2024-03-15T13:39:32.589899Z",
     "start_time": "2024-03-15T13:39:04.200324Z"
    }
   },
   "outputs": [
    {
     "name": "stdout",
     "output_type": "stream",
     "text": [
      "The dataset has 150 entries.\n",
      "Creating the 5 train/validation/test splits\n"
     ]
    },
    {
     "data": {
      "text/plain": "Fold:   0%|          | 0/5 [00:00<?, ?it/s]",
      "application/vnd.jupyter.widget-view+json": {
       "version_major": 2,
       "version_minor": 0,
       "model_id": "ace646003be441daa0ec1b3b8cd25606"
      }
     },
     "metadata": {},
     "output_type": "display_data"
    }
   ],
   "source": [
    "from torch_mist import k_fold_mi_estimate\n",
    "from sklearn.datasets import load_iris\n",
    "\n",
    "# Load the Iris Dataset as a pandas DataFrame\n",
    "iris_dataset = load_iris(as_frame=True)['data']\n",
    "\n",
    "# Create np.arrays corresponding to petal and sepal size\n",
    "petal = iris_dataset[['petal length (cm)', 'petal width (cm)']].values\n",
    "sepal = iris_dataset[['sepal length (cm)', 'sepal width (cm)']].values\n",
    "\n",
    "# Estimate how much information the petal size and the target specie have in common\n",
    "estimated_mi, log = k_fold_mi_estimate(\n",
    "    # Data parameters\n",
    "    data=(petal, sepal),          \n",
    "    folds=5,                    # Number of folds for cross-validation\n",
    "    seed=42,                    # Seed used to randomize the splits\n",
    "    # Estimation parameters\n",
    "    estimator_name='smile',     # Use the Smile mutual information estimator\n",
    "    hidden_dims=[128],          # Hidden dimensions\n",
    "    neg_samples=8,              # Number of negative samples\n",
    "    max_iterations=5000,        # Maximum number of train iterations per fold (max_epoch can be used insted)\n",
    "    patience=200,\n",
    "    \n",
    "    verbose=True,\n",
    "    verbose_train=False\n",
    ")"
   ]
  },
  {
   "cell_type": "markdown",
   "id": "fd0c26e42c980eff",
   "metadata": {
    "collapsed": false
   },
   "source": [
    " The `k_fold_mi_estimate` utility function returns the average test mutual information together with a train log, which reports the values of mutual information on train, validation, test and all the available data for each fold. The return value `estimated_mi` refers to the average mutual information on the test folds."
   ]
  },
  {
   "cell_type": "code",
   "execution_count": 9,
   "id": "f2c6d1ea2727fd64",
   "metadata": {
    "collapsed": false,
    "ExecuteTime": {
     "end_time": "2024-03-15T13:41:26.514464Z",
     "start_time": "2024-03-15T13:41:26.510887Z"
    }
   },
   "outputs": [
    {
     "name": "stdout",
     "output_type": "stream",
     "text": [
      "I(petal;sepal) : 0.8029249548912049 nats\n"
     ]
    }
   ],
   "source": [
    "print(f'I(petal;sepal) : {estimated_mi} nats')"
   ]
  },
  {
   "cell_type": "code",
   "execution_count": 10,
   "id": "81ed3c51219e35",
   "metadata": {
    "collapsed": false,
    "ExecuteTime": {
     "end_time": "2024-03-15T13:41:28.146671Z",
     "start_time": "2024-03-15T13:41:27.939627Z"
    }
   },
   "outputs": [
    {
     "data": {
      "text/plain": "<Figure size 640x480 with 1 Axes>",
      "image/png": "[encoded data removed]"
     },
     "metadata": {},
     "output_type": "display_data"
    }
   ],
   "source": [
    "import seaborn as sns\n",
    "sns.set_style('whitegrid')\n",
    "\n",
    "sns.barplot(log, x='split', y='value')\n",
    "sns.despine()"
   ]
  },
  {
   "cell_type": "code",
   "outputs": [],
   "source": [],
   "metadata": {
    "collapsed": false
   },
   "id": "2f06438cf6f277c8"
  }
 ],
 "metadata": {
  "kernelspec": {
   "display_name": "Python 3 (ipykernel)",
   "language": "python",
   "name": "python3"
  },
  "language_info": {
   "codemirror_mode": {
    "name": "ipython",
    "version": 3
   },
   "file_extension": ".py",
   "mimetype": "text/x-python",
   "name": "python",
   "nbconvert_exporter": "python",
   "pygments_lexer": "ipython3",
   "version": "3.9.16"
  }
 },
 "nbformat": 4,
 "nbformat_minor": 5
}
