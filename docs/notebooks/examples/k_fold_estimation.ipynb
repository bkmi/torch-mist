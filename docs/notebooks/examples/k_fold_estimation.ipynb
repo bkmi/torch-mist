{
 "cells": [
  {
   "cell_type": "markdown",
   "source": [
    "# K-Fold Mutual Information Estimation\n",
    "\n",
    "The `torch_mist` package provides basic utilities for estimating value of mutual information using k-fold cross validation.\n",
    "The considered dataset is split into `K` folds, then `K-2` folds are used to train the mutual information estimation, one fold is used to determine when to stop the training and the last is used to evaluate the value of mutual information. \n",
    "\n",
    "This procedure is repeated `K` times (with different train/validation/test splits) to increase the reliability of the estimates."
   ],
   "metadata": {
    "collapsed": false
   },
   "id": "9ba9194dd39b13e3"
  },
  {
   "cell_type": "code",
   "outputs": [
    {
     "name": "stdout",
     "output_type": "stream",
     "text": [
      "[Info]: max_epochs and max_iterations are not specified, using max_iterations=5000 by default.\n",
      "Instantiating the smile estimator\n",
      "Instantiating the estimator with {'estimator_name': 'smile', 'neg_samples': 8, 'x_dim': 2, 'y_dim': 2}\n",
      "[Info]: hidden_dims is not specified. Using hidden_dims=[128] by default.\n",
      "SMILE(\n",
      "  (ratio_estimator): JointCritic(\n",
      "    (joint_net): DenseNN(\n",
      "      (layers): ModuleList(\n",
      "        (0): Linear(in_features=4, out_features=128, bias=True)\n",
      "        (1): Linear(in_features=128, out_features=1, bias=True)\n",
      "      )\n",
      "      (f): ReLU(inplace=True)\n",
      "    )\n",
      "  )\n",
      "  (baseline): BatchLogMeanExp()\n",
      "  (neg_samples): 8\n",
      ")\n",
      "Training the estimator\n",
      "The dataset has 150 entries.\n",
      "Creating the 5 train/validation/test splits\n",
      "Train size: 90\n",
      "Validation size: 30\n",
      "Test size: 30\n"
     ]
    },
    {
     "data": {
      "text/plain": "Fold:   0%|          | 0/5 [00:00<?, ?it/s]",
      "application/vnd.jupyter.widget-view+json": {
       "version_major": 2,
       "version_minor": 0,
       "model_id": "aee7430ac5a04b76aef65331bd0007c6"
      }
     },
     "metadata": {},
     "output_type": "display_data"
    }
   ],
   "source": [
    "from torch_mist import k_fold_mi_estimate\n",
    "from sklearn.datasets import load_iris\n",
    "\n",
    "# Load the Iris Dataset as a pandas DataFrame\n",
    "iris_dataset = load_iris(as_frame=True)['data']\n",
    "\n",
    "# Create np.arrays corresponding to petal and sepal size\n",
    "petal = iris_dataset[['petal length (cm)', 'petal width (cm)']].values\n",
    "sepal = iris_dataset[['sepal length (cm)', 'sepal width (cm)']].values\n",
    "\n",
    "# Estimate how much information the petal size and the target specie have in common\n",
    "estimated_mi, log = k_fold_mi_estimate(\n",
    "    data=(petal, sepal),          \n",
    "    estimator_name='smile',     # Use the Smile mutual information estimator\n",
    "    folds=5,                    # Number of folds for cross-validation\n",
    "    neg_samples=8,               # Number of negative samples\n",
    "    verbose=True,\n",
    "    seed=42,\n",
    "    patience=200,\n",
    ")"
   ],
   "metadata": {
    "collapsed": false,
    "ExecuteTime": {
     "end_time": "2024-02-23T12:59:38.368837361Z",
     "start_time": "2024-02-23T12:59:01.011620703Z"
    }
   },
   "id": "439dfd504ccb66c1",
   "execution_count": 4
  },
  {
   "cell_type": "markdown",
   "source": [
    " The `k_fold_mi_estimate` utility function returns the average test mutual information together with a train log, which reports the values of mutual information on train, validation and test for each fold."
   ],
   "metadata": {
    "collapsed": false
   },
   "id": "fd0c26e42c980eff"
  },
  {
   "cell_type": "code",
   "outputs": [
    {
     "name": "stdout",
     "output_type": "stream",
     "text": [
      "I(petal;sepal) : 0.7510437607765198 nats\n"
     ]
    }
   ],
   "source": [
    "print(f'I(petal;sepal) : {estimated_mi} nats')"
   ],
   "metadata": {
    "collapsed": false,
    "ExecuteTime": {
     "end_time": "2024-02-23T13:00:14.076198714Z",
     "start_time": "2024-02-23T13:00:14.069371457Z"
    }
   },
   "id": "f2c6d1ea2727fd64",
   "execution_count": 5
  },
  {
   "cell_type": "code",
   "outputs": [
    {
     "data": {
      "text/plain": "<Figure size 640x480 with 1 Axes>",
      "image/png": "[encoded data removed]"
     },
     "metadata": {},
     "output_type": "display_data"
    }
   ],
   "source": [
    "import seaborn as sns\n",
    "sns.set_style('whitegrid')\n",
    "\n",
    "sns.barplot(log, x='split', y='value')\n",
    "sns.despine()"
   ],
   "metadata": {
    "collapsed": false,
    "ExecuteTime": {
     "end_time": "2024-02-23T13:00:15.843542278Z",
     "start_time": "2024-02-23T13:00:15.472510850Z"
    }
   },
   "id": "81ed3c51219e35",
   "execution_count": 6
  },
  {
   "cell_type": "code",
   "outputs": [],
   "source": [],
   "metadata": {
    "collapsed": false
   },
   "id": "f39f583760250326"
  }
 ],
 "metadata": {
  "kernelspec": {
   "display_name": "Python 3",
   "language": "python",
   "name": "python3"
  },
  "language_info": {
   "codemirror_mode": {
    "name": "ipython",
    "version": 2
   },
   "file_extension": ".py",
   "mimetype": "text/x-python",
   "name": "python",
   "nbconvert_exporter": "python",
   "pygments_lexer": "ipython2",
   "version": "2.7.6"
  }
 },
 "nbformat": 4,
 "nbformat_minor": 5
}
