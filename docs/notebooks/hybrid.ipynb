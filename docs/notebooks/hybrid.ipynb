{
 "cells": [
  {
   "cell_type": "markdown",
   "source": [
    "# Hybrid Mutual Information Estimators\n",
    "\n",
    "In this example we showcase the limitation of a generative estimator (`DoE`) and a discriminative estimator (`MINE`), then show how to combine generative and generative approaches to obtain better estimates.\n"
   ],
   "metadata": {
    "collapsed": false
   },
   "id": "f2141c400e29fbed"
  },
  {
   "cell_type": "code",
   "execution_count": 1,
   "outputs": [],
   "source": [
    "import warnings\n",
    "warnings.filterwarnings('ignore')\n",
    "import numpy as np\n",
    "import torch\n",
    "import matplotlib.pyplot as plt\n",
    "import seaborn as sns\n",
    "from torch_mist.data.multimixture import MultivariateCorrelatedNormalMixture\n",
    "from torch_mist.utils import train_mi_estimator\n",
    "from torch_mist.utils.logging.metrics import compute_mean_std\n",
    "\n",
    "import pandas as pd\n",
    "\n",
    "sns.set_style('whitegrid')\n",
    "IMG_SIZE=3\n",
    "n_dim = 5\n",
    "\n",
    "\n",
    "train_parameters = dict(\n",
    "    max_epochs=20,\n",
    "    batch_size=64,\n",
    "    verbose=True,\n",
    "    valid_percentage=0,\n",
    "    lr_annealing=False,\n",
    "    optimizer_params={'lr':5e-4},\n",
    "# log the batch_loss and log_ratio methods during training and evaluation respectively\n",
    "# for each one we compute the mean and standard deviation (batch-wise)\n",
    "    eval_logged_methods=[\n",
    "        ('log_ratio', compute_mean_std),\n",
    "    ],\n",
    "    train_logged_methods=[        \n",
    "        ('batch_loss', compute_mean_std)\n",
    "    ],\n",
    ")\n",
    "\n",
    "# Definition of the distribution\n",
    "p_XY = MultivariateCorrelatedNormalMixture(n_dim=n_dim)\n",
    "\n",
    "true_mi = p_XY.mutual_information('x','y')\n",
    "\n",
    "p_Y_given_X = p_XY.conditional('x')\n",
    "p_Y = p_XY.marginal('y')\n",
    "\n",
    "samples = p_XY.sample([100000])"
   ],
   "metadata": {
    "collapsed": false,
    "ExecuteTime": {
     "end_time": "2024-02-09T15:00:10.210813714Z",
     "start_time": "2024-02-09T15:00:06.911206562Z"
    }
   },
   "id": "ed905357d0dd091f"
  },
  {
   "cell_type": "markdown",
   "source": [
    "## Generative Estimators: High Bias\n",
    "\n",
    "One of the main problems of generative mutual information estimation lies in the modeling for $q_\\theta(y|x)$ and the approximation of $H(y)$.\n",
    "In particular lack of flexibility for the model of $q_\\theta(y|x)$ yields under-estimation of mutual information.\n",
    "\n",
    "We start by considering a simple difference of entropies estimator (`DoE`) in which $q_\\theta(y|x)$ is modeled with a conditional linear transformation of a Normal distribution, while $r_\\psi(y)$ is modeled with a parametric spline transform."
   ],
   "metadata": {
    "collapsed": false
   },
   "id": "bb93f4100ba7530"
  },
  {
   "cell_type": "code",
   "execution_count": 2,
   "outputs": [
    {
     "name": "stdout",
     "output_type": "stream",
     "text": [
      "Warning: parameter hidden_dims ignored for spline.\n"
     ]
    },
    {
     "data": {
      "text/plain": "Epoch:   0%|          | 0/20 [00:00<?, ?it/s]",
      "application/vnd.jupyter.widget-view+json": {
       "version_major": 2,
       "version_minor": 0,
       "model_id": "9ff8a525250240e1aa0f79d9532e66c4"
      }
     },
     "metadata": {},
     "output_type": "display_data"
    },
    {
     "data": {
      "text/plain": "Iteration:   0%|          | 0/1563 [00:00<?, ?it/s]",
      "application/vnd.jupyter.widget-view+json": {
       "version_major": 2,
       "version_minor": 0,
       "model_id": "377c491b764c4a9882455e49f9fc7d59"
      }
     },
     "metadata": {},
     "output_type": "display_data"
    }
   ],
   "source": [
    "from torch_mist.estimators import doe\n",
    "\n",
    "estimators = {}\n",
    "estimators['DoE']=doe(\n",
    "    x_dim=n_dim,\n",
    "    y_dim=n_dim,\n",
    "    hidden_dims=[256, 128],\n",
    "    conditional_transform_name='conditional_linear',\n",
    "    marginal_transform_name='spline',\n",
    ")\n",
    "\n",
    "\n",
    "doe_log = train_mi_estimator(\n",
    "    estimator=estimators['DoE'],\n",
    "    data=samples,\n",
    "    **train_parameters\n",
    ")\n",
    "\n",
    "doe_log['estimator'] = 'DoE'\n",
    "log = doe_log"
   ],
   "metadata": {
    "collapsed": false,
    "ExecuteTime": {
     "end_time": "2024-02-09T15:06:29.205166487Z",
     "start_time": "2024-02-09T15:00:16.216714046Z"
    }
   },
   "id": "8df5a35e290b2bb6"
  },
  {
   "cell_type": "markdown",
   "source": [
    "We can observe that the `DoE` estimator does not approach the true value of mutual information for this task. This is due to the lack of flexibility of $q_\\theta(y|x)$."
   ],
   "metadata": {
    "collapsed": false
   },
   "id": "b7598be3e0b08590"
  },
  {
   "cell_type": "code",
   "outputs": [
    {
     "data": {
      "text/plain": "            value             name  split  iteration  epoch estimator\n0       41.490074  batch_loss/mean  train          1      0       DoE\n1        7.704221   batch_loss/std  train          1      0       DoE\n2        7.686633   log_ratio/mean  train          1      0       DoE\n3        5.218551    log_ratio/std  train          1      0       DoE\n4       40.317764  batch_loss/mean  train          2      0       DoE\n...           ...              ...    ...        ...    ...       ...\n125035   1.176636    log_ratio/std  train      31259     19       DoE\n125036   6.769984  batch_loss/mean  train      31260     19       DoE\n125037   3.453923   batch_loss/std  train      31260     19       DoE\n125038   4.641295   log_ratio/mean  train      31260     19       DoE\n125039   1.316320    log_ratio/std  train      31260     19       DoE\n\n[125040 rows x 6 columns]",
      "text/html": "<div>\n<style scoped>\n    .dataframe tbody tr th:only-of-type {\n        vertical-align: middle;\n    }\n\n    .dataframe tbody tr th {\n        vertical-align: top;\n    }\n\n    .dataframe thead th {\n        text-align: right;\n    }\n</style>\n<table border=\"1\" class=\"dataframe\">\n  <thead>\n    <tr style=\"text-align: right;\">\n      <th></th>\n      <th>value</th>\n      <th>name</th>\n      <th>split</th>\n      <th>iteration</th>\n      <th>epoch</th>\n      <th>estimator</th>\n    </tr>\n  </thead>\n  <tbody>\n    <tr>\n      <th>0</th>\n      <td>41.490074</td>\n      <td>batch_loss/mean</td>\n      <td>train</td>\n      <td>1</td>\n      <td>0</td>\n      <td>DoE</td>\n    </tr>\n    <tr>\n      <th>1</th>\n      <td>7.704221</td>\n      <td>batch_loss/std</td>\n      <td>train</td>\n      <td>1</td>\n      <td>0</td>\n      <td>DoE</td>\n    </tr>\n    <tr>\n      <th>2</th>\n      <td>7.686633</td>\n      <td>log_ratio/mean</td>\n      <td>train</td>\n      <td>1</td>\n      <td>0</td>\n      <td>DoE</td>\n    </tr>\n    <tr>\n      <th>3</th>\n      <td>5.218551</td>\n      <td>log_ratio/std</td>\n      <td>train</td>\n      <td>1</td>\n      <td>0</td>\n      <td>DoE</td>\n    </tr>\n    <tr>\n      <th>4</th>\n      <td>40.317764</td>\n      <td>batch_loss/mean</td>\n      <td>train</td>\n      <td>2</td>\n      <td>0</td>\n      <td>DoE</td>\n    </tr>\n    <tr>\n      <th>...</th>\n      <td>...</td>\n      <td>...</td>\n      <td>...</td>\n      <td>...</td>\n      <td>...</td>\n      <td>...</td>\n    </tr>\n    <tr>\n      <th>125035</th>\n      <td>1.176636</td>\n      <td>log_ratio/std</td>\n      <td>train</td>\n      <td>31259</td>\n      <td>19</td>\n      <td>DoE</td>\n    </tr>\n    <tr>\n      <th>125036</th>\n      <td>6.769984</td>\n      <td>batch_loss/mean</td>\n      <td>train</td>\n      <td>31260</td>\n      <td>19</td>\n      <td>DoE</td>\n    </tr>\n    <tr>\n      <th>125037</th>\n      <td>3.453923</td>\n      <td>batch_loss/std</td>\n      <td>train</td>\n      <td>31260</td>\n      <td>19</td>\n      <td>DoE</td>\n    </tr>\n    <tr>\n      <th>125038</th>\n      <td>4.641295</td>\n      <td>log_ratio/mean</td>\n      <td>train</td>\n      <td>31260</td>\n      <td>19</td>\n      <td>DoE</td>\n    </tr>\n    <tr>\n      <th>125039</th>\n      <td>1.316320</td>\n      <td>log_ratio/std</td>\n      <td>train</td>\n      <td>31260</td>\n      <td>19</td>\n      <td>DoE</td>\n    </tr>\n  </tbody>\n</table>\n<p>125040 rows × 6 columns</p>\n</div>"
     },
     "execution_count": 7,
     "metadata": {},
     "output_type": "execute_result"
    }
   ],
   "source": [
    "log"
   ],
   "metadata": {
    "collapsed": false,
    "ExecuteTime": {
     "end_time": "2024-02-09T15:07:33.631594216Z",
     "start_time": "2024-02-09T15:07:33.602377049Z"
    }
   },
   "id": "54aa6028b41200c8",
   "execution_count": 7
  },
  {
   "cell_type": "code",
   "execution_count": 8,
   "outputs": [
    {
     "data": {
      "text/plain": "<Figure size 640x480 with 1 Axes>",
      "image/png": "[encoded data removed]"
     },
     "metadata": {},
     "output_type": "display_data"
    }
   ],
   "source": [
    "sns.lineplot(log[log['name']=='log_ratio/mean'], x='epoch', y='value', hue='estimator', ci='sd')\n",
    "plt.axhline(y=true_mi, ls='--', color='k', label='True $I(x;y)$')\n",
    "plt.ylim(0,)\n",
    "plt.xlim(0,20)\n",
    "plt.ylabel('Mutual Information [nats]')\n",
    "plt.legend();"
   ],
   "metadata": {
    "collapsed": false,
    "ExecuteTime": {
     "end_time": "2024-02-09T15:08:17.668332445Z",
     "start_time": "2024-02-09T15:08:17.347900394Z"
    }
   },
   "id": "173a4a1f8b07dbd4"
  },
  {
   "cell_type": "markdown",
   "source": [
    "Similarly, we can instantiate and train a `PQ` estimator, which is based on modeling $q_\\theta(\\overline{y}|x)$ and $q_\\psi(\\overline{y})$ for a discretized $\\overline{y}=Q_y(y)$."
   ],
   "metadata": {
    "collapsed": false
   },
   "id": "75fceab87a903f6"
  },
  {
   "cell_type": "code",
   "execution_count": 9,
   "outputs": [
    {
     "data": {
      "text/plain": "Epoch:   0%|          | 0/20 [00:00<?, ?it/s]",
      "application/vnd.jupyter.widget-view+json": {
       "version_major": 2,
       "version_minor": 0,
       "model_id": "50d6db8e67334617bd4d7b081f62e801"
      }
     },
     "metadata": {},
     "output_type": "display_data"
    },
    {
     "data": {
      "text/plain": "Iteration:   0%|          | 0/1563 [00:00<?, ?it/s]",
      "application/vnd.jupyter.widget-view+json": {
       "version_major": 2,
       "version_minor": 0,
       "model_id": "87395c65ff6c47fab79c7cc5b2bb00e9"
      }
     },
     "metadata": {},
     "output_type": "display_data"
    }
   ],
   "source": [
    "from torch_mist.estimators import pq\n",
    "from torch_mist.quantization import kmeans_quantization\n",
    "\n",
    "# Learn a quantization function for y using K-means\n",
    "quantize_y = kmeans_quantization(\n",
    "    data=samples['y'],\n",
    "    n_bins=32\n",
    ")\n",
    "\n",
    "estimators['PQ']=pq(\n",
    "    x_dim=n_dim,\n",
    "    quantize_y=quantize_y,\n",
    "    hidden_dims=[256, 128],\n",
    ")\n",
    "\n",
    "\n",
    "pq_log = train_mi_estimator(\n",
    "    estimator=estimators['PQ'],\n",
    "    data=samples,\n",
    "    **train_parameters\n",
    ")\n",
    "\n",
    "pq_log['estimator'] = 'PQ'\n",
    "log = pd.concat([log, pq_log])"
   ],
   "metadata": {
    "collapsed": false,
    "ExecuteTime": {
     "end_time": "2024-02-09T15:11:28.284033861Z",
     "start_time": "2024-02-09T15:08:20.774839486Z"
    }
   },
   "id": "ab849d7269db2680"
  },
  {
   "cell_type": "code",
   "execution_count": 11,
   "outputs": [
    {
     "data": {
      "text/plain": "<Figure size 640x480 with 1 Axes>",
      "image/png": "[encoded data removed]"
     },
     "metadata": {},
     "output_type": "display_data"
    }
   ],
   "source": [
    "sns.lineplot(log[log['name']=='log_ratio/mean'], x='epoch', y='value', hue='estimator', ci='sd')\n",
    "plt.axhline(y=true_mi, ls='--', color='k', label='True $I(x;y)$')\n",
    "plt.ylim(0,)\n",
    "plt.xlim(0,20)\n",
    "plt.ylabel('Mutual Information [nats]')\n",
    "plt.legend();"
   ],
   "metadata": {
    "collapsed": false,
    "ExecuteTime": {
     "end_time": "2024-02-09T15:14:31.493007840Z",
     "start_time": "2024-02-09T15:14:31.060118028Z"
    }
   },
   "id": "ebd153af3e49459f"
  },
  {
   "cell_type": "markdown",
   "source": [
    "## Discriminative Estimators: High Variance\n",
    "\n",
    "If on the one hand generative estimators are generally not powerful enough to match the true ratio, discriminative estimators are affected by high-variance.\n",
    "We showcase the issues of discriminative mutual information estimators by computing the mean and variance of the estimates for $\\log\\frac{p(x,y)}{p(x)p(y)}$ within each training batch. \n",
    "For this example we use `MINE` mutual information estimator with a `joint_critic` and 1 negative sample for each positive one."
   ],
   "metadata": {
    "collapsed": false
   },
   "id": "9bf32779425a85f2"
  },
  {
   "cell_type": "code",
   "execution_count": 13,
   "id": "74837c274002ee2d",
   "metadata": {
    "collapsed": false,
    "ExecuteTime": {
     "end_time": "2024-02-09T15:18:11.125121087Z",
     "start_time": "2024-02-09T15:14:50.337720784Z"
    }
   },
   "outputs": [
    {
     "data": {
      "text/plain": "Epoch:   0%|          | 0/20 [00:00<?, ?it/s]",
      "application/vnd.jupyter.widget-view+json": {
       "version_major": 2,
       "version_minor": 0,
       "model_id": "7cc0b599fe0d46ac8a5118cae5a08b51"
      }
     },
     "metadata": {},
     "output_type": "display_data"
    },
    {
     "data": {
      "text/plain": "Iteration:   0%|          | 0/1563 [00:00<?, ?it/s]",
      "application/vnd.jupyter.widget-view+json": {
       "version_major": 2,
       "version_minor": 0,
       "model_id": "31b9aeaa2ea14719bd074c81d1d68f00"
      }
     },
     "metadata": {},
     "output_type": "display_data"
    }
   ],
   "source": [
    "from torch_mist.estimators import mine\n",
    "\n",
    "estimators['MINE'] = mine(\n",
    "    x_dim=n_dim,\n",
    "    y_dim=n_dim,\n",
    "    hidden_dims=[256, 128],\n",
    "    neg_samples=1\n",
    ")\n",
    "\n",
    "mine_log = train_mi_estimator(\n",
    "    estimator=estimators['MINE'],\n",
    "    data=samples,\n",
    "    **train_parameters\n",
    ")\n",
    "\n",
    "mine_log['estimator'] = 'MINE'\n",
    "log = pd.concat([log, mine_log])"
   ]
  },
  {
   "cell_type": "markdown",
   "source": [
    "We can observe that the `MINE` estimator does not approach the true value of mutual information for this task."
   ],
   "metadata": {
    "collapsed": false
   },
   "id": "5c349e9afcba2953"
  },
  {
   "cell_type": "code",
   "execution_count": null,
   "id": "d067be1c0387597",
   "metadata": {
    "collapsed": false,
    "ExecuteTime": {
     "start_time": "2024-02-09T15:06:29.971393236Z"
    }
   },
   "outputs": [],
   "source": [
    "sns.lineplot(log[log['name']=='log_ratio'], x='epoch', y='mean', hue='estimator', ci='sd')\n",
    "plt.axhline(y=true_mi, ls='--', color='k', label='True $I(x;y)$')\n",
    "plt.ylim(0,)\n",
    "plt.xlim(0,20)\n",
    "plt.ylabel('Mutual Information [nats]')\n",
    "plt.legend();"
   ]
  },
  {
   "cell_type": "markdown",
   "source": [
    "Note that the `MINE` estimator has considerable variance for both loss and log-ratio estimation when compared to the generative counterpart."
   ],
   "metadata": {
    "collapsed": false
   },
   "id": "3c7b5f04b84ff357"
  },
  {
   "cell_type": "markdown",
   "source": [
    "## Hybrid mutual information estimation\n",
    "\n",
    "By combining normalized and unnormalized distributions, we can define a more general class of estimators that can take advantage of the low variance of generative estimators and the flexibility of the discriminative approaches.\n",
    "\n",
    "We start by defining a variational distribution $q_\\theta(x,y)$ as the product of a learnable proposal $r_\\theta(x,y)$ and an energy $F_\\theta(x,y)$:\n",
    "$$\n",
    "q_\\theta(x,y) = \\frac{r_\\theta(x,y) e^{F_\\theta(x,y)}}{\\int r_\\theta(x,y)e^{F_\\theta(x,y)}dx dy}\n",
    "$$\n",
    "\n",
    "Using the expression for $q_\\theta(x,y)$, we can derive the following estimator:\n",
    "$$\n",
    "I(x;y)\\ge \\underbrace{\\mathbb{E}_{p(x,y)}\\left[\\log\\frac{r_\\theta(x,y)}{p(x)p(y)}\\right]}_{\\text{Generative estimation}} + \\underbrace{\\mathbb{E}_{p(x,y)}\\left[F_\\theta(x,y)\\right] - \\mathbb{E}_{r_\\theta(x,y)}\\left[e^{F_\\theta(x,y)}\\right]+1}_{\\text{Discriminative estimation}}.\n",
    "$$\n",
    "The first part of the expression is equivalent to the mutual information lower bound obtained with a generative mutual information estimation (e.g. DoE, BA, CLUB,...), while the second component has a similar expression to the discriminative approaches (e.g. MINE, NWJ, SMILE, ...), with one crucial difference.\n",
    "When computing the partition function (last term), the samples are not drawn from the product distribution $p(x)p(y)$, but from the proposal $r_\\theta(x,y)$ instead.\n",
    "Whenever $r_\\theta(x,y)$ approaches $p(x,y)$, the variance of the estimation for the normalization constant decreases. This helps in addressing one of the main issues with discriminative estimators."
   ],
   "metadata": {
    "collapsed": false
   },
   "id": "a785940561459502"
  },
  {
   "cell_type": "markdown",
   "source": [
    "### Hybrid: Difference of Entropies + MINE\n",
    "One simple option for designing a suitable (normalized) proposal $r_\\theta(x,y)$ consists in modeling the conditional distribution $r_\\theta(y|x)$ instead of the entire joint:\n",
    "$$\n",
    "r_\\theta(x,y) = p(x)r_\\theta(y|x)\n",
    "$$\n",
    "Using this expression in the lower-bound above, we obtain:\n",
    "$$\n",
    "I(x;y)\\ge \\underbrace{\\mathbb{E}_{p(x,y)}\\left[\\log\\frac{r_\\theta(y|x)}{p(y)}\\right]}_{\\text{Generative estimation}} + \\underbrace{\\mathbb{E}_{p(x,y)}\\left[F_\\theta(x,y)\\right] - \\mathbb{E}_{p(x)r_\\theta(y|x)}\\left[e^{F_\\theta(x,y)}\\right]+1}_{\\text{Discriminative estimation}}.\n",
    "$$\n",
    "In the following example, we will use the trained `DoE` estimator to approximate the generative component, and fine-tune the `MINE` to model the ratio between $\\log\\frac{p(y|x)}{r_\\theta(y|x)}$ (instead of $\\log\\frac{p(y|x)}{p(y)}$ as in the original `MINE` estimator).\n",
    "This can be easily done by passing the two estimator to the `HybridMIEstimator` class which takes care of combining the estimates, using $r_\\theta(y|x)$ instead of $p(y)$ to draw negative samples."
   ],
   "metadata": {
    "collapsed": false
   },
   "id": "422ed92a231d746b"
  },
  {
   "cell_type": "code",
   "execution_count": null,
   "id": "105dba81155f68cc",
   "metadata": {
    "collapsed": false,
    "ExecuteTime": {
     "start_time": "2024-02-09T15:06:29.971436577Z"
    }
   },
   "outputs": [],
   "source": [
    "from torch_mist.utils.freeze import freeze\n",
    "from torch_mist.estimators.hybrid import ResampledHybridMIEstimator\n",
    "from copy import deepcopy\n",
    "\n",
    "# Initialize the hybrid mutual information estimator. We re-use the pre-trained DoE and MINE estimators\n",
    "# Since DoE has been already trained to converge, we can freeze it to speed up the computation, which\n",
    "# will focus on updating the MINE estimator with negatives drawn from r(y|x) instead of p(y).\n",
    "estimators['DoE+MINE'] = ResampledHybridMIEstimator(\n",
    "    generative_estimator=freeze(estimators['DoE']),\n",
    "    discriminative_estimator=deepcopy(estimators['MINE'])\n",
    ")\n",
    "\n",
    "hybrid_log = train_mi_estimator(\n",
    "    estimator=estimators['DoE+MINE'],\n",
    "    data=samples,\n",
    "    **train_parameters\n",
    ")\n",
    "\n",
    "hybrid_log['estimator'] = 'DoE+MINE'\n",
    "log = pd.concat([log, hybrid_log])"
   ]
  },
  {
   "cell_type": "markdown",
   "source": [
    "We can see that our hybrid architecture results in much more accurate estimates that slowly approach the ground-truth mutual information value. The estimates have lower variance when compared to `MINE` and lower bias than `DoE`."
   ],
   "metadata": {
    "collapsed": false
   },
   "id": "c5ec8c8f6534c84b"
  },
  {
   "cell_type": "code",
   "execution_count": null,
   "id": "6b48ef215d42b4ba",
   "metadata": {
    "collapsed": false,
    "ExecuteTime": {
     "start_time": "2024-02-09T15:06:29.971489829Z"
    }
   },
   "outputs": [],
   "source": [
    "sns.lineplot(log[log['name']=='log_ratio'], x='epoch', y='mean', hue='estimator', errorbar='sd')\n",
    "plt.axhline(y=true_mi, ls='--', color='k', label='True $I(x;y)$')\n",
    "plt.ylim(0,15)\n",
    "plt.xlim(0,20)\n",
    "plt.legend()"
   ]
  },
  {
   "cell_type": "markdown",
   "source": [
    "### Hybrid: Predictive Quantization and hard-negatives.\n",
    "\n",
    "Among the various choices for the proposal $r_\\theta(x,y)$ we can consider $p(x)(y|\\overline{x})$, in which $\\overline x$ corresponds to a quantized version of $x$. In other words, we consider $y$ for which the corresponding $x$ maps into the same quantization $\\overline x$:\n",
    "$$\n",
    "r_\\theta(x,y) = p(x)p(y|\\overline{x}) = p(x)\\int p(x,y|\\overline{x}) dx = p(x)\\mathbb{E}_{p(x|\\overline{x})}[p(y|x)] , \n",
    "$$\n",
    "in which $p(x|\\overline{x})$ refer to the distribution of all the $x$ that are discretized to the same $\\overline x$.\n",
    "\n",
    "Using this proposal, we obtain:\n",
    "$$\n",
    "I(x;y)\\ge \\underbrace{\\mathbb{E}_{p(x,y)}\\left[\\log\\frac{p(\\overline{x}|y)}{p(\\overline{x})}\\right]}_{\\text{Predictive Quantization Generative estimate}} + \\underbrace{\\mathbb{E}_{p(x,y)}\\left[F_\\theta(x,y)\\right] - \\mathbb{E}_{p(x)p(y|\\overline{x})}\\left[e^{F_\\theta(x,y)}\\right]-1}_{\\text{Discriminative Estimate with hard negatives}}.\n",
    "$$\n",
    "The first term corresponds to the `PQ` generative estimates, which can be seen as a difference of discrete entropies, that are easier to estimate. The second terms corresponds to a discriminative estimate in which the negatives are drown from $p(x)p(y|\\overline{x})$ instead of $p(x)p(y)$. This is analogous to the concept of hard negative sampling, since we sample a batch of $y$ for which the corresponding $x$ maps to the same $\\overline x$, which we can interpret as similar values of $x$.\n",
    "\n",
    "Since mutual information is symmetric, and, by convention, we defined all mutual information estimators assuming that $y$ is lower-dimensional and easier to model, we implement a version in which we quantize $y$ into $\\overline y$ instead, and consider $x$ with the same $\\overline y$ as negatives. We do this by first sampling one $\\overline{y}$ then creating batches of pairs $(x_i,y_i)$ with $y_i$ that correspond to the sampled $\\overline y$.\n",
    "\n",
    "$$\n",
    "I(x;y)\\ge \\mathbb{E}_{p(\\overline y)}\\left[\\mathbb{E}_{p(x,y|\\overline y)}\\left[\\log\\frac{p(\\overline{y}|x)}{p(\\overline{y}))}\\right] + \\mathbb{E}_{p(x, y|\\overline y)}\\left[F_\\theta(x,y)\\right] - \\mathbb{E}_{p(x|\\overline{y})p(y|\\overline{y})}\\left[e^{F_\\theta(x,y)}\\right]-1 \\right].\n",
    "$$\n",
    "Note that in order to make sure that each batch contains the appropriate amount of negative samples, we make sure to sample multiple $y$ that map to the same $\\overline y$ in the same batch. With batch size $N$ and $M$ as the number of negatives, we sample batches as follows:\n",
    "\n",
    "1) Sample $K=N//(M+1)$ quantized $y$ : $[\\overline y_i]_{i=1}^K\\sim p(\\overline{y})$\n",
    "2) Sample $M$ pairs $(x_{ij}, y_{ij})$ for which $Q(y_{ij})=\\overline{y}_i$ for each $\\overline{y}_i$ sampled in the previous step: $[(x_{ij},y_{ij})]_{j=1}^M \\sim p(x,y|\\overline{y})$\n",
    "\n",
    "This procedure results in batches of size $N$ in which each pair has $M$ negatives sampled from $p(x,y|\\overline{y})$ that can be contrasted against, and it is integrated in the `train_mi_estimator` function, which takes care of creating/modifying the data-loader.\n"
   ],
   "metadata": {
    "collapsed": false
   },
   "id": "9f0124234b789e37"
  },
  {
   "cell_type": "code",
   "execution_count": null,
   "outputs": [],
   "source": [
    "from torch_mist.estimators import hybrid_pq\n",
    "\n",
    "# We define the hybrid PQ+MINE estimator using the same MINE discriminative estimator trained before as a starting point\n",
    "estimators['PQ+MINE'] = hybrid_pq(\n",
    "    quantize_y=quantize_y,\n",
    "    x_dim=n_dim,\n",
    "    hidden_dims=[256, 128],\n",
    "    discriminative_estimator=deepcopy(estimators['MINE'])\n",
    ")\n",
    "\n",
    "# Note that the train_mi_estimator internally creates data-loader to sample batches of (x_i, y_i) \n",
    "# for which Q(y_i) is the same for the whole batch\n",
    "hybrid_log = train_mi_estimator(\n",
    "    estimator=estimators['PQ+MINE'],\n",
    "    data=samples,\n",
    "    **train_parameters\n",
    ")\n",
    "\n",
    "hybrid_log['estimator'] = 'PQ+MINE'\n",
    "log = pd.concat([log, hybrid_log])\n"
   ],
   "metadata": {
    "collapsed": false,
    "ExecuteTime": {
     "start_time": "2024-02-09T15:06:29.971527643Z"
    }
   },
   "id": "9121fc7601d80434"
  },
  {
   "cell_type": "code",
   "execution_count": null,
   "outputs": [],
   "source": [
    "sns.lineplot(log[log['name']=='log_ratio'], x='epoch', y='mean', hue='estimator', errorbar='sd')\n",
    "plt.axhline(y=true_mi, ls='--', color='k', label='True $I(x;y)$')\n",
    "plt.ylim(0,15)\n",
    "plt.xlim(0,20)\n",
    "plt.legend()"
   ],
   "metadata": {
    "collapsed": false,
    "ExecuteTime": {
     "start_time": "2024-02-09T15:06:29.971581666Z"
    }
   },
   "id": "18878cd57c892c42"
  },
  {
   "cell_type": "markdown",
   "source": [
    "The variance of the hybrid  estimators is indeed lower than `MINE`. This is because the variance for the estimation of the log-partition function grows as $e^{KL(p(x,y)||r_\\theta(x,y))}$, and the proposal $r_\\theta(x,y)$ used by the hybrid estimator is closer to the joint $p(x,y)$ than the product of the marginal $p(x)p(y)$.\n",
    "$$\n",
    "KL(p(x,y)||p(x)p(y)) \\ge KL(p(x,y)||p(x)p(y|\\overline{x}))\n",
    "$$\n",
    "As a result, the energy $F(x,y)$ needs to do \"less work\" to transform $p(x)p(y|\\overline{x})$ into $p(x,y)$.\n"
   ],
   "metadata": {
    "collapsed": false
   },
   "id": "5c1b4bf12cb50290"
  },
  {
   "cell_type": "code",
   "execution_count": null,
   "id": "594f90f353a48f9b",
   "metadata": {
    "collapsed": false,
    "ExecuteTime": {
     "start_time": "2024-02-09T15:06:29.971619707Z"
    }
   },
   "outputs": [],
   "source": [
    "grid = sns.FacetGrid(log, col='name', hue='estimator', sharey=False, sharex=True)\n",
    "grid.map(sns.lineplot, 'epoch', 'std', errorbar='ci')\n",
    "grid.add_legend()"
   ]
  },
  {
   "cell_type": "markdown",
   "source": [
    "We can further showcase the differences between the estimators by plotting the modeled log-ratios."
   ],
   "metadata": {
    "collapsed": false
   },
   "id": "d1131b9eb42234b5"
  },
  {
   "cell_type": "code",
   "execution_count": null,
   "id": "31935f28cf6589b3",
   "metadata": {
    "collapsed": false,
    "ExecuteTime": {
     "start_time": "2024-02-09T15:06:29.971656631Z"
    }
   },
   "outputs": [],
   "source": [
    "# We create a uniform grid to visualize the functions modeled by conditional distributions\n",
    "res = 100\n",
    "x_grid = torch.linspace(-3,3,res).view(1,-1,1)\n",
    "y_grid = torch.linspace(-3,3, res).view(-1,1,1)\n",
    "X, Y = np.meshgrid(x_grid, y_grid)\n",
    "\n",
    "# Compute the true log-ratio log p(x,y)p(x)p(y) on the grid\n",
    "log_marginal = p_XY.marginal('x').log_prob(x=x_grid)/n_dim +  p_XY.marginal('y').log_prob(y=y_grid)/n_dim\n",
    "log_joint = p_XY.log_prob(x=x_grid, y=y_grid)/n_dim\n",
    "# We visualize only the points for which p(x,y) > e^{-20}\n",
    "mask = (log_joint>-25).data.numpy()\n",
    "log_ratio = (log_joint - log_marginal).data.numpy()\n",
    "\n",
    "\n",
    "f, ax = plt.subplots(\n",
    "    1,1+len(estimators),\n",
    "    figsize=((1+len(estimators))*IMG_SIZE, IMG_SIZE)\n",
    ")\n",
    "\n",
    "# Plot the true log-ratio\n",
    "f.suptitle(\"$\\\\log \\\\frac{p(x,y)}{p(x)p(y)}$\", fontsize=15, y=1.1)\n",
    "ax[0].contourf(X, Y, log_ratio/mask, cmap='viridis', levels=40)\n",
    "ax[0].set_title('Ground Truth')\n",
    "\n",
    "for i, (name, estimator) in enumerate(estimators.items()):\n",
    "    log_ratio = estimator.unnormalized_log_ratio(x_grid.repeat(res,1,n_dim), y_grid.repeat(1,res,n_dim)).data.numpy()/n_dim\n",
    "        \n",
    "    ax[i+1].contourf(X, Y, log_ratio/mask, cmap='viridis', levels=40)\n",
    "    ax[i+1].set_title(name)\n"
   ]
  },
  {
   "cell_type": "markdown",
   "source": [
    "It is possible to use the `HybridMIEstimator` class to model combinations of different generative and discriminative estimators (e.g. `BA+SMILE`, `CLUB+JS`, `L1Out+FLO`, ...)."
   ],
   "metadata": {
    "collapsed": false
   },
   "id": "10735e350a6b31f2"
  },
  {
   "cell_type": "code",
   "execution_count": 14,
   "outputs": [],
   "source": [],
   "metadata": {
    "collapsed": false,
    "ExecuteTime": {
     "end_time": "2024-01-22T21:07:35.592749794Z",
     "start_time": "2024-01-22T21:07:35.590829339Z"
    }
   },
   "id": "b8df69626fedb108"
  }
 ],
 "metadata": {
  "kernelspec": {
   "display_name": "Python 3 (ipykernel)",
   "language": "python",
   "name": "python3"
  },
  "language_info": {
   "codemirror_mode": {
    "name": "ipython",
    "version": 3
   },
   "file_extension": ".py",
   "mimetype": "text/x-python",
   "name": "python",
   "nbconvert_exporter": "python",
   "pygments_lexer": "ipython3",
   "version": "3.9.16"
  }
 },
 "nbformat": 4,
 "nbformat_minor": 5
}
