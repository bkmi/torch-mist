{
 "cells": [
  {
   "cell_type": "markdown",
   "source": [
    "# Installation\n",
    "\n",
    "The package can be installed via pip using:\n",
    "\n",
    "```bash\n",
    "pip install torch_mist\n",
    "```\n"
   ],
   "metadata": {
    "collapsed": false
   },
   "id": "c90c00b5e2ebe2c5"
  },
  {
   "cell_type": "markdown",
   "source": [
    "\n",
    "or from the [Github repository](https://github.com/mfederici/torch-mist) using `poetry`\n",
    "\n",
    "```bash\n",
    "pip install poetry\n",
    "git clone https://github.com/mfederici/torch-mist\n",
    "cd torch-mist\n",
    "poetry install\n",
    "```"
   ],
   "metadata": {
    "collapsed": false
   },
   "id": "cd31b24d173eb3ef"
  }
 ],
 "metadata": {
  "kernelspec": {
   "display_name": "Python 3",
   "language": "python",
   "name": "python3"
  },
  "language_info": {
   "codemirror_mode": {
    "name": "ipython",
    "version": 2
   },
   "file_extension": ".py",
   "mimetype": "text/x-python",
   "name": "python",
   "nbconvert_exporter": "python",
   "pygments_lexer": "ipython2",
   "version": "2.7.6"
  }
 },
 "nbformat": 4,
 "nbformat_minor": 5
}
